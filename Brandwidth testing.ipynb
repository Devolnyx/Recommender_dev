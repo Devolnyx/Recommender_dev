{
 "cells": [
  {
   "cell_type": "code",
   "execution_count": 1,
   "id": "f0a6cde8",
   "metadata": {},
   "outputs": [],
   "source": [
    "import pandas as pd\n",
    "from model_utils import *\n",
    "import requests\n",
    "import json\n",
    "\n",
    "df_resumes = pd.read_csv('data/ResumeDataSet.csv')\n",
    "df_jobs =  pd.read_csv('data/li_jobs.zip')"
   ]
  },
  {
   "cell_type": "code",
   "execution_count": 10,
   "id": "e259da9f",
   "metadata": {},
   "outputs": [],
   "source": []
  },
  {
   "cell_type": "code",
   "execution_count": 12,
   "id": "16a0dec1",
   "metadata": {},
   "outputs": [
    {
     "data": {
      "application/vnd.jupyter.widget-view+json": {
       "model_id": "d33a047ca60d46ae8d3d8bc01f544a1a",
       "version_major": 2,
       "version_minor": 0
      },
      "text/plain": [
       "Batches:   0%|          | 0/61 [00:00<?, ?it/s]"
      ]
     },
     "metadata": {},
     "output_type": "display_data"
    },
    {
     "data": {
      "application/vnd.jupyter.widget-view+json": {
       "model_id": "f5083790d56a4491b7935eeef62e5b59",
       "version_major": 2,
       "version_minor": 0
      },
      "text/plain": [
       "Batches:   0%|          | 0/61 [00:00<?, ?it/s]"
      ]
     },
     "metadata": {},
     "output_type": "display_data"
    },
    {
     "data": {
      "application/vnd.jupyter.widget-view+json": {
       "model_id": "f1ba5d9cd42a4a0796e6faa083fcd85b",
       "version_major": 2,
       "version_minor": 0
      },
      "text/plain": [
       "Batches:   0%|          | 0/625 [00:00<?, ?it/s]"
      ]
     },
     "metadata": {},
     "output_type": "display_data"
    },
    {
     "data": {
      "application/vnd.jupyter.widget-view+json": {
       "model_id": "46aac7a7c8d14da1aa9a3ffd549ac9b3",
       "version_major": 2,
       "version_minor": 0
      },
      "text/plain": [
       "Batches:   0%|          | 0/625 [00:00<?, ?it/s]"
      ]
     },
     "metadata": {},
     "output_type": "display_data"
    }
   ],
   "source": [
    "resume_emb = get_dataset_embeddings(df_resumes, columns=['Category', 'Resume'], weights= [0.5, 0.5])\n",
    "job_emb = get_dataset_embeddings(df_jobs, columns=['title', 'description'], weights= [0.5, 0.5])"
   ]
  },
  {
   "cell_type": "code",
   "execution_count": 5,
   "id": "c0e0ebc5",
   "metadata": {},
   "outputs": [],
   "source": [
    "data_for_api = []\n",
    "dfs = df_jobs.sample(1000)\n",
    "for i, row in dfs.iterrows():\n",
    "    data_for_api.append({'title': row.title, 'description': row.description, 'skills': row.description})\n"
   ]
  },
  {
   "cell_type": "markdown",
   "id": "fc739177",
   "metadata": {},
   "source": [
    "### Для рботы дальнекйшего блока нужно запустить model_api.py"
   ]
  },
  {
   "cell_type": "markdown",
   "id": "ce3a6a9b",
   "metadata": {},
   "source": [
    "## CUDA tests"
   ]
  },
  {
   "cell_type": "code",
   "execution_count": 13,
   "id": "743aab01",
   "metadata": {},
   "outputs": [
    {
     "name": "stdout",
     "output_type": "stream",
     "text": [
      "CPU times: total: 1.86 s\n",
      "Wall time: 31.7 s\n"
     ]
    }
   ],
   "source": [
    "%%time\n",
    "answers = []\n",
    "url = 'http://127.0.0.1:8000/single_embeddings'\n",
    "for data in data_for_api:\n",
    "\n",
    "    x = requests.post(url, json=data)\n",
    "    dec = np.asarray(json.loads(x.json()['emb']))\n",
    "    answers.append(dec)\n",
    "    "
   ]
  },
  {
   "cell_type": "code",
   "execution_count": 20,
   "id": "f4b94058",
   "metadata": {},
   "outputs": [
    {
     "name": "stdout",
     "output_type": "stream",
     "text": [
      "CPU times: total: 250 ms\n",
      "Wall time: 9.7 s\n"
     ]
    }
   ],
   "source": [
    "%%time\n",
    "titles = []\n",
    "desc = []\n",
    "skills = []\n",
    "for data in data_for_api:\n",
    "    titles.append(data['title'])\n",
    "    desc.append(data['description'])\n",
    "    skills.append(data['skills'])\n",
    "\n",
    "url = 'http://127.0.0.1:8000/batch_embeddings'\n",
    "\n",
    "myobj = {'title': titles,\n",
    "         'description': desc,\n",
    "         'skills': skills}\n",
    "\n",
    "x = requests.post(url, json=myobj)\n",
    "dec = np.asarray([json.loads(X) for X in x.json()['emb']])\n"
   ]
  },
  {
   "cell_type": "markdown",
   "id": "9cf27cd0",
   "metadata": {},
   "source": [
    "## CPU tests"
   ]
  },
  {
   "cell_type": "code",
   "execution_count": 22,
   "id": "c557f4f4",
   "metadata": {},
   "outputs": [
    {
     "name": "stdout",
     "output_type": "stream",
     "text": [
      "CPU times: total: 2.02 s\n",
      "Wall time: 4min 10s\n"
     ]
    }
   ],
   "source": [
    "%%time\n",
    "answers = []\n",
    "url = 'http://127.0.0.1:8000/single_embeddings'\n",
    "for data in data_for_api:\n",
    "\n",
    "    x = requests.post(url, json=data)\n",
    "    dec = np.asarray(json.loads(x.json()['emb']))\n",
    "    answers.append(dec)\n",
    "    "
   ]
  },
  {
   "cell_type": "code",
   "execution_count": 23,
   "id": "f80ad774",
   "metadata": {},
   "outputs": [
    {
     "name": "stdout",
     "output_type": "stream",
     "text": [
      "CPU times: total: 234 ms\n",
      "Wall time: 4min 23s\n"
     ]
    }
   ],
   "source": [
    "%%time\n",
    "titles = []\n",
    "desc = []\n",
    "skills = []\n",
    "for data in data_for_api:\n",
    "    titles.append(data['title'])\n",
    "    desc.append(data['description'])\n",
    "    skills.append(data['skills'])\n",
    "\n",
    "url = 'http://127.0.0.1:8000/batch_embeddings'\n",
    "\n",
    "myobj = {'title': titles,\n",
    "         'description': desc,\n",
    "         'skills': skills}\n",
    "\n",
    "x = requests.post(url, json=myobj)\n",
    "dec = np.asarray([json.loads(X) for X in x.json()['emb']])\n"
   ]
  },
  {
   "cell_type": "markdown",
   "id": "4acd452d",
   "metadata": {},
   "source": [
    "### Подбор вакансий для резюме из датасета"
   ]
  },
  {
   "cell_type": "code",
   "execution_count": 13,
   "id": "376e59aa",
   "metadata": {},
   "outputs": [
    {
     "name": "stdout",
     "output_type": "stream",
     "text": [
      "Areas of Interest Deep Learning, Control System Design, Programming in-Python, Electric Machinery, Web Development, Analytics Technical Activities q Hindustan Aeronautics Limited, Bangalore - For 4 weeks under the guidance of Mr. Satish, Senior Engineer in the hangar of Mirage 2000 fighter aircraft Technical Skills Programming Matlab, Python and Java, LabView, Python WebFrameWork-Django, Flask, LTSPICE-intermediate Languages and and MIPOWER-intermediate, Github (GitBash), Jupyter Notebook, Xampp, MySQL-Basics, Python Software Packages Interpreters-Anaconda, Python2, Python3, Pycharm, Java IDE-Eclipse Operating Systems Windows, Ubuntu, Debian-Kali Linux Education Details \r\n",
      "January 2019 B.Tech. Electrical and Electronics Engineering  Manipal Institute of Technology\r\n",
      "January 2015    DEEKSHA CENTER\r\n",
      "January 2013    Little Flower Public School\r\n",
      "August 2000    Manipal Academy of Higher\r\n",
      "DATA SCIENCE \r\n",
      "\r\n",
      "DATA SCIENCE AND ELECTRICAL ENTHUSIAST\r\n",
      "Skill Details \r\n",
      "Data Analysis- Exprience - Less than 1 year months\r\n",
      "excel\n"
     ]
    },
    {
     "data": {
      "text/html": [
       "<div>\n",
       "<style scoped>\n",
       "    .dataframe tbody tr th:only-of-type {\n",
       "        vertical-align: middle;\n",
       "    }\n",
       "\n",
       "    .dataframe tbody tr th {\n",
       "        vertical-align: top;\n",
       "    }\n",
       "\n",
       "    .dataframe thead th {\n",
       "        text-align: right;\n",
       "    }\n",
       "</style>\n",
       "<table border=\"1\" class=\"dataframe\">\n",
       "  <thead>\n",
       "    <tr style=\"text-align: right;\">\n",
       "      <th></th>\n",
       "      <th>Unnamed: 0</th>\n",
       "      <th>id</th>\n",
       "      <th>created</th>\n",
       "      <th>last_updated</th>\n",
       "      <th>time_posted</th>\n",
       "      <th>title</th>\n",
       "      <th>description</th>\n",
       "      <th>seniority</th>\n",
       "      <th>employment_type</th>\n",
       "      <th>location</th>\n",
       "      <th>url</th>\n",
       "    </tr>\n",
       "  </thead>\n",
       "  <tbody>\n",
       "    <tr>\n",
       "      <th>7560</th>\n",
       "      <td>7560</td>\n",
       "      <td>172132931</td>\n",
       "      <td>2023-08-04 10:25:56</td>\n",
       "      <td>2023-08-30 05:46:42</td>\n",
       "      <td>3 weeks ago</td>\n",
       "      <td>Data Analyst</td>\n",
       "      <td>• Interesting technical work|Strong compensati...</td>\n",
       "      <td>Entry level</td>\n",
       "      <td>Full-time</td>\n",
       "      <td>Toronto, Ontario, Canada</td>\n",
       "      <td>https://www.linkedin.com/jobs/view/data-analys...</td>\n",
       "    </tr>\n",
       "    <tr>\n",
       "      <th>9521</th>\n",
       "      <td>9521</td>\n",
       "      <td>171211953</td>\n",
       "      <td>2023-07-31 17:52:03</td>\n",
       "      <td>2023-08-10 21:28:18</td>\n",
       "      <td>3 days ago</td>\n",
       "      <td>Data Engineer</td>\n",
       "      <td>Stefanini is looking for a Data Engineer in Da...</td>\n",
       "      <td>Mid-Senior level</td>\n",
       "      <td>Contract</td>\n",
       "      <td>Dallas, TX</td>\n",
       "      <td>https://www.linkedin.com/jobs/view/data-engine...</td>\n",
       "    </tr>\n",
       "    <tr>\n",
       "      <th>9899</th>\n",
       "      <td>9899</td>\n",
       "      <td>177466573</td>\n",
       "      <td>2023-08-25 14:54:44</td>\n",
       "      <td>2023-08-30 23:49:35</td>\n",
       "      <td>1 month ago</td>\n",
       "      <td>Data Scientist</td>\n",
       "      <td>CFD Research in looking for someone that will ...</td>\n",
       "      <td>Entry level</td>\n",
       "      <td>Full-time</td>\n",
       "      <td>Huntsville, AL</td>\n",
       "      <td>https://www.linkedin.com/jobs/view/data-scient...</td>\n",
       "    </tr>\n",
       "    <tr>\n",
       "      <th>2220</th>\n",
       "      <td>2220</td>\n",
       "      <td>146292526</td>\n",
       "      <td>2023-05-03 15:52:48</td>\n",
       "      <td>2023-08-05 09:09:43</td>\n",
       "      <td>2 months ago</td>\n",
       "      <td>Data Scientist</td>\n",
       "      <td>About Cubist\\n\\nCubist Systematic Strategies, ...</td>\n",
       "      <td>Entry level</td>\n",
       "      <td>Full-time</td>\n",
       "      <td>New York, United States</td>\n",
       "      <td>https://www.linkedin.com/jobs/view/data-scient...</td>\n",
       "    </tr>\n",
       "    <tr>\n",
       "      <th>5417</th>\n",
       "      <td>5417</td>\n",
       "      <td>169603791</td>\n",
       "      <td>2023-07-26 06:09:57</td>\n",
       "      <td>2023-08-29 12:57:36</td>\n",
       "      <td>1 month ago</td>\n",
       "      <td>Data Engineer</td>\n",
       "      <td>Bachelors degree in Computer Science, or 10+ c...</td>\n",
       "      <td>Entry level</td>\n",
       "      <td>Contract</td>\n",
       "      <td>Atlanta, GA</td>\n",
       "      <td>https://www.linkedin.com/jobs/view/data-engine...</td>\n",
       "    </tr>\n",
       "  </tbody>\n",
       "</table>\n",
       "</div>"
      ],
      "text/plain": [
       "      Unnamed: 0         id              created         last_updated  \\\n",
       "7560        7560  172132931  2023-08-04 10:25:56  2023-08-30 05:46:42   \n",
       "9521        9521  171211953  2023-07-31 17:52:03  2023-08-10 21:28:18   \n",
       "9899        9899  177466573  2023-08-25 14:54:44  2023-08-30 23:49:35   \n",
       "2220        2220  146292526  2023-05-03 15:52:48  2023-08-05 09:09:43   \n",
       "5417        5417  169603791  2023-07-26 06:09:57  2023-08-29 12:57:36   \n",
       "\n",
       "       time_posted           title  \\\n",
       "7560   3 weeks ago    Data Analyst   \n",
       "9521    3 days ago   Data Engineer   \n",
       "9899   1 month ago  Data Scientist   \n",
       "2220  2 months ago  Data Scientist   \n",
       "5417   1 month ago   Data Engineer   \n",
       "\n",
       "                                            description         seniority  \\\n",
       "7560  • Interesting technical work|Strong compensati...       Entry level   \n",
       "9521  Stefanini is looking for a Data Engineer in Da...  Mid-Senior level   \n",
       "9899  CFD Research in looking for someone that will ...       Entry level   \n",
       "2220  About Cubist\\n\\nCubist Systematic Strategies, ...       Entry level   \n",
       "5417  Bachelors degree in Computer Science, or 10+ c...       Entry level   \n",
       "\n",
       "     employment_type                  location  \\\n",
       "7560       Full-time  Toronto, Ontario, Canada   \n",
       "9521        Contract                Dallas, TX   \n",
       "9899       Full-time            Huntsville, AL   \n",
       "2220       Full-time   New York, United States   \n",
       "5417        Contract               Atlanta, GA   \n",
       "\n",
       "                                                    url  \n",
       "7560  https://www.linkedin.com/jobs/view/data-analys...  \n",
       "9521  https://www.linkedin.com/jobs/view/data-engine...  \n",
       "9899  https://www.linkedin.com/jobs/view/data-scient...  \n",
       "2220  https://www.linkedin.com/jobs/view/data-scient...  \n",
       "5417  https://www.linkedin.com/jobs/view/data-engine...  "
      ]
     },
     "execution_count": 13,
     "metadata": {},
     "output_type": "execute_result"
    }
   ],
   "source": [
    "get_rec_from_dataset(df_resume = df_resumes, df_jobs = df_jobs, prompt_embeddings=resume_emb, jobs_embeddings=job_emb, num_rec=5)"
   ]
  },
  {
   "cell_type": "markdown",
   "id": "bf13151d",
   "metadata": {},
   "source": [
    "### Подбор вакансий для описания"
   ]
  },
  {
   "cell_type": "code",
   "execution_count": 14,
   "id": "e832597d",
   "metadata": {},
   "outputs": [
    {
     "data": {
      "application/vnd.jupyter.widget-view+json": {
       "model_id": "5cbeb6aba195452890800ace3ca711be",
       "version_major": 2,
       "version_minor": 0
      },
      "text/plain": [
       "Batches:   0%|          | 0/1 [00:00<?, ?it/s]"
      ]
     },
     "metadata": {},
     "output_type": "display_data"
    },
    {
     "data": {
      "application/vnd.jupyter.widget-view+json": {
       "model_id": "b9baa8569795482abef54f0b312ee820",
       "version_major": 2,
       "version_minor": 0
      },
      "text/plain": [
       "Batches:   0%|          | 0/1 [00:00<?, ?it/s]"
      ]
     },
     "metadata": {},
     "output_type": "display_data"
    },
    {
     "name": "stdout",
     "output_type": "stream",
     "text": [
      "Max scores: [[[0.6559852  0.6482438  0.6446736  0.6446736  0.63523066]]]\n"
     ]
    },
    {
     "data": {
      "text/html": [
       "<div>\n",
       "<style scoped>\n",
       "    .dataframe tbody tr th:only-of-type {\n",
       "        vertical-align: middle;\n",
       "    }\n",
       "\n",
       "    .dataframe tbody tr th {\n",
       "        vertical-align: top;\n",
       "    }\n",
       "\n",
       "    .dataframe thead th {\n",
       "        text-align: right;\n",
       "    }\n",
       "</style>\n",
       "<table border=\"1\" class=\"dataframe\">\n",
       "  <thead>\n",
       "    <tr style=\"text-align: right;\">\n",
       "      <th></th>\n",
       "      <th>Unnamed: 0</th>\n",
       "      <th>id</th>\n",
       "      <th>created</th>\n",
       "      <th>last_updated</th>\n",
       "      <th>time_posted</th>\n",
       "      <th>title</th>\n",
       "      <th>description</th>\n",
       "      <th>seniority</th>\n",
       "      <th>employment_type</th>\n",
       "      <th>location</th>\n",
       "      <th>url</th>\n",
       "    </tr>\n",
       "  </thead>\n",
       "  <tbody>\n",
       "    <tr>\n",
       "      <th>190</th>\n",
       "      <td>190</td>\n",
       "      <td>144187986</td>\n",
       "      <td>2023-04-26 01:58:03</td>\n",
       "      <td>2023-06-09 22:17:10</td>\n",
       "      <td>1 month ago</td>\n",
       "      <td>Commercial Electrician</td>\n",
       "      <td>About Us\\n\\nOwen Electric Company has been in ...</td>\n",
       "      <td>Entry level</td>\n",
       "      <td>Full-time</td>\n",
       "      <td>Jacksonville, FL</td>\n",
       "      <td>https://www.linkedin.com/jobs/view/commercial-...</td>\n",
       "    </tr>\n",
       "    <tr>\n",
       "      <th>3385</th>\n",
       "      <td>3385</td>\n",
       "      <td>169011373</td>\n",
       "      <td>2023-07-24 21:13:48</td>\n",
       "      <td>2023-08-29 12:58:48</td>\n",
       "      <td>2 months ago</td>\n",
       "      <td>Electrician</td>\n",
       "      <td>SIGN ON BONUS UPTO $2,000.00\\n\\nThe Romanoff G...</td>\n",
       "      <td>Entry level</td>\n",
       "      <td>Full-time</td>\n",
       "      <td>Dayton, OH</td>\n",
       "      <td>https://www.linkedin.com/jobs/view/electrician...</td>\n",
       "    </tr>\n",
       "    <tr>\n",
       "      <th>8584</th>\n",
       "      <td>8584</td>\n",
       "      <td>154049609</td>\n",
       "      <td>2023-05-26 13:52:46</td>\n",
       "      <td>2023-06-04 20:27:22</td>\n",
       "      <td>1 hour ago</td>\n",
       "      <td>Licensed Electrician</td>\n",
       "      <td>Faith Technologies, a division of Faith Techno...</td>\n",
       "      <td>Entry level</td>\n",
       "      <td>Internship</td>\n",
       "      <td>Pasco, WA</td>\n",
       "      <td>https://www.linkedin.com/jobs/view/licensed-el...</td>\n",
       "    </tr>\n",
       "    <tr>\n",
       "      <th>8416</th>\n",
       "      <td>8416</td>\n",
       "      <td>150815455</td>\n",
       "      <td>2023-05-15 12:51:25</td>\n",
       "      <td>2023-06-18 04:37:36</td>\n",
       "      <td>1 month ago</td>\n",
       "      <td>Licensed Electrician</td>\n",
       "      <td>Faith Technologies, a division of Faith Techno...</td>\n",
       "      <td>Entry level</td>\n",
       "      <td>Internship</td>\n",
       "      <td>Kennewick, WA</td>\n",
       "      <td>https://www.linkedin.com/jobs/view/licensed-el...</td>\n",
       "    </tr>\n",
       "    <tr>\n",
       "      <th>9664</th>\n",
       "      <td>9664</td>\n",
       "      <td>173693904</td>\n",
       "      <td>2023-08-09 12:52:14</td>\n",
       "      <td>2023-08-29 19:34:06</td>\n",
       "      <td>1 month ago</td>\n",
       "      <td>Service &amp; Repair Electrician</td>\n",
       "      <td>Join Our Team of Professional Electricians\\n\\n...</td>\n",
       "      <td>Entry level</td>\n",
       "      <td>Full-time</td>\n",
       "      <td>Pittsburgh, PA</td>\n",
       "      <td>https://www.linkedin.com/jobs/view/service-rep...</td>\n",
       "    </tr>\n",
       "  </tbody>\n",
       "</table>\n",
       "</div>"
      ],
      "text/plain": [
       "      Unnamed: 0         id              created         last_updated  \\\n",
       "190          190  144187986  2023-04-26 01:58:03  2023-06-09 22:17:10   \n",
       "3385        3385  169011373  2023-07-24 21:13:48  2023-08-29 12:58:48   \n",
       "8584        8584  154049609  2023-05-26 13:52:46  2023-06-04 20:27:22   \n",
       "8416        8416  150815455  2023-05-15 12:51:25  2023-06-18 04:37:36   \n",
       "9664        9664  173693904  2023-08-09 12:52:14  2023-08-29 19:34:06   \n",
       "\n",
       "       time_posted                         title  \\\n",
       "190    1 month ago        Commercial Electrician   \n",
       "3385  2 months ago                   Electrician   \n",
       "8584    1 hour ago          Licensed Electrician   \n",
       "8416   1 month ago          Licensed Electrician   \n",
       "9664   1 month ago  Service & Repair Electrician   \n",
       "\n",
       "                                            description    seniority  \\\n",
       "190   About Us\\n\\nOwen Electric Company has been in ...  Entry level   \n",
       "3385  SIGN ON BONUS UPTO $2,000.00\\n\\nThe Romanoff G...  Entry level   \n",
       "8584  Faith Technologies, a division of Faith Techno...  Entry level   \n",
       "8416  Faith Technologies, a division of Faith Techno...  Entry level   \n",
       "9664  Join Our Team of Professional Electricians\\n\\n...  Entry level   \n",
       "\n",
       "     employment_type          location  \\\n",
       "190        Full-time  Jacksonville, FL   \n",
       "3385       Full-time        Dayton, OH   \n",
       "8584      Internship         Pasco, WA   \n",
       "8416      Internship     Kennewick, WA   \n",
       "9664       Full-time    Pittsburgh, PA   \n",
       "\n",
       "                                                    url  \n",
       "190   https://www.linkedin.com/jobs/view/commercial-...  \n",
       "3385  https://www.linkedin.com/jobs/view/electrician...  \n",
       "8584  https://www.linkedin.com/jobs/view/licensed-el...  \n",
       "8416  https://www.linkedin.com/jobs/view/licensed-el...  \n",
       "9664  https://www.linkedin.com/jobs/view/service-rep...  "
      ]
     },
     "execution_count": 14,
     "metadata": {},
     "output_type": "execute_result"
    }
   ],
   "source": [
    "job_title = 'Junior Data Engineer'\n",
    "\n",
    "job_text = \"\"\"\n",
    "Rewrite following for job resume:\n",
    "Comprehensive analysis of customer experience in the ATM network through:\n",
    "- exploring data sources and search for insights;\n",
    "- data cleaning and processing;\n",
    "- development and deployment of datamarts;\n",
    "- calculation and control of product metrics;\n",
    "- collection and formalization of business requirements;\n",
    "- dashboards creation.\n",
    "\n",
    "\"\"\"\n",
    "\n",
    "\n",
    "\n",
    "job_title = 'Master Electrician'\n",
    "\n",
    "job_text = \"\"\"\n",
    "    Technical-minded electrician with XX years of experience installing, repairing, testing, and maintaining electrical systems, wiring, equipment, appliances, and fixtures. Skilled in diagnosing and replacing high-voltage electrical power lines, pole wiring, and underground lines. Adept in managing service calls, troubleshooting electrical systems, and resolving issues with equipment.Skilled in diagnosing and replacing high voltage electrical power lines, pole wiring, and underground lines; installing circuit breakers, transformers, stabilizers, generators, and distribution systems; capable of quickly understanding blueprints, schematics, and technical manuals\n",
    "    Adept in managing service calls, troubleshooting electrical systems, and resolving issues with equipment; setting-up home and business backup generators with auto transfer switches to ensure minimal downtime in a power outage; directing and training workers to install, maintain, or repair electrical wiring, equipment, and fixtures\n",
    "\"\"\"\n",
    "\n",
    "\n",
    "get_rec_from_scratch([job_title, job_text], weights=[0.5, 0.5], df_jobs=df_jobs, jobs_embeddings=job_emb, num_rec = 5)"
   ]
  },
  {
   "cell_type": "code",
   "execution_count": 14,
   "id": "6ce7a54c",
   "metadata": {},
   "outputs": [],
   "source": [
    "df_jobs =  pd.read_csv('data/li_jobs.zip')\n",
    "df_resumes = pd.read_csv('data/ResumeDataSet.csv')"
   ]
  },
  {
   "cell_type": "markdown",
   "id": "01178892",
   "metadata": {},
   "source": [
    "# TFidf vec"
   ]
  },
  {
   "cell_type": "code",
   "execution_count": 15,
   "id": "944267c2",
   "metadata": {},
   "outputs": [
    {
     "name": "stderr",
     "output_type": "stream",
     "text": [
      "[nltk_data] Downloading package stopwords to\n",
      "[nltk_data]     C:\\Users\\Vyacheslav\\AppData\\Roaming\\nltk_data...\n",
      "[nltk_data]   Unzipping corpora\\stopwords.zip.\n"
     ]
    }
   ],
   "source": [
    "import nltk\n",
    "from nltk.corpus import stopwords\n",
    " \n",
    "nltk.download('stopwords')\n",
    "stop_words = stopwords.words('english')\n"
   ]
  },
  {
   "cell_type": "code",
   "execution_count": 16,
   "id": "65c56ad5",
   "metadata": {},
   "outputs": [],
   "source": [
    "corpus = df_jobs.description.values"
   ]
  },
  {
   "cell_type": "code",
   "execution_count": 17,
   "id": "e484efd9",
   "metadata": {},
   "outputs": [
    {
     "name": "stderr",
     "output_type": "stream",
     "text": [
      "C:\\Users\\Vyacheslav\\PycharmProjects\\CV_projects\\venv\\lib\\site-packages\\sklearn\\feature_extraction\\text.py:409: UserWarning: Your stop_words may be inconsistent with your preprocessing. Tokenizing the stop words generated tokens [\"'\"] not in stop_words.\n",
      "  warnings.warn(\n"
     ]
    }
   ],
   "source": [
    "from sklearn.feature_extraction.text import TfidfVectorizer\n",
    "\n",
    "\n",
    "vectorizer1 = TfidfVectorizer(ngram_range=(1,2),\n",
    "                             token_pattern=r\"(?u)\\b[\\w/.-]+\\b|!|/|\\?|\\\"|\\'\",\n",
    "                             stop_words=stop_words)\n",
    "\n",
    "vectorizer1.fit(corpus)\n",
    "\n",
    "vocab_df_valid = vectorizer1.get_feature_names_out()"
   ]
  },
  {
   "cell_type": "code",
   "execution_count": 18,
   "id": "79e86d93",
   "metadata": {},
   "outputs": [
    {
     "data": {
      "text/plain": [
       "array(['!', '! !', '! \"', ..., '𝐳𝐨𝐧𝐞𝐬 process', '𝗦𝗸𝗶𝗹𝗹𝘀',\n",
       "       '𝗦𝗸𝗶𝗹𝗹𝘀 business'], dtype=object)"
      ]
     },
     "execution_count": 18,
     "metadata": {},
     "output_type": "execute_result"
    }
   ],
   "source": [
    "vocab_df_valid"
   ]
  },
  {
   "cell_type": "code",
   "execution_count": 19,
   "id": "53d0545a",
   "metadata": {},
   "outputs": [
    {
     "name": "stderr",
     "output_type": "stream",
     "text": [
      "C:\\Users\\Vyacheslav\\PycharmProjects\\CV_projects\\venv\\lib\\site-packages\\sklearn\\feature_extraction\\text.py:1369: UserWarning: Upper case characters found in vocabulary while 'lowercase' is True. These entries will not be matched with any documents\n",
      "  warnings.warn(\n"
     ]
    },
    {
     "name": "stdout",
     "output_type": "stream",
     "text": [
      "length of vectorizer vocab is 1027539\n"
     ]
    }
   ],
   "source": [
    "from sklearn.feature_extraction.text import TfidfVectorizer\n",
    "\n",
    "\n",
    "vectorizer1 = TfidfVectorizer(ngram_range=(1,2),\n",
    "                             token_pattern=r\"(?u)\\b[\\w/.-]+\\b|!|/|\\?|\\\"|\\'\",\n",
    "                             stop_words=stop_words)\n",
    "\n",
    "vectorizer1.fit(corpus)\n",
    "\n",
    "vocab_df_valid = vectorizer1.get_feature_names_out()\n",
    "\n",
    "\n",
    "vectorizer = TfidfVectorizer(ngram_range=(1,2),\n",
    "                             token_pattern=r\"(?u)\\b[\\w/.-]+\\b|!|/|\\?|\\\"|\\'\",\n",
    "                             stop_words=stop_words,\n",
    "                             vocabulary=vocab_df_valid)\n",
    "vectorizer.fit(corpus)\n",
    "corpus_tf_idf = vectorizer.transform(corpus)\n",
    "\n",
    "print(f\"length of vectorizer vocab is {len(vectorizer.get_feature_names_out())}\")\n"
   ]
  },
  {
   "cell_type": "code",
   "execution_count": 20,
   "id": "ef77fa2e",
   "metadata": {},
   "outputs": [],
   "source": [
    "resume_tf_idf = vectorizer.transform(df_resumes.Resume)"
   ]
  },
  {
   "cell_type": "code",
   "execution_count": 21,
   "id": "9b03bcf0",
   "metadata": {},
   "outputs": [
    {
     "data": {
      "text/plain": [
       "<10000x1027539 sparse matrix of type '<class 'numpy.float64'>'\n",
       "\twith 5628178 stored elements in Compressed Sparse Row format>"
      ]
     },
     "execution_count": 21,
     "metadata": {},
     "output_type": "execute_result"
    }
   ],
   "source": [
    "corpus_tf_idf"
   ]
  },
  {
   "cell_type": "code",
   "execution_count": 22,
   "id": "dfe9e8ee",
   "metadata": {},
   "outputs": [
    {
     "data": {
      "text/plain": [
       "<962x10000 sparse matrix of type '<class 'numpy.float64'>'\n",
       "\twith 9456564 stored elements in Compressed Sparse Row format>"
      ]
     },
     "execution_count": 22,
     "metadata": {},
     "output_type": "execute_result"
    }
   ],
   "source": [
    "resume_tf_idf @ corpus_tf_idf.T"
   ]
  },
  {
   "cell_type": "code",
   "execution_count": 23,
   "id": "884e6cb2",
   "metadata": {},
   "outputs": [],
   "source": [
    "import unicodedata"
   ]
  },
  {
   "cell_type": "code",
   "execution_count": 24,
   "id": "ae8b6c56",
   "metadata": {},
   "outputs": [
    {
     "data": {
      "text/plain": [
       "0      Skills * Programming Languages: Python (pandas...\n",
       "1      Education Details \\r\\nMay 2013 to May 2017 B.E...\n",
       "2      Areas of Interest Deep Learning, Control Syste...\n",
       "3      Skills â¢ R â¢ Python â¢ SAP HANA â¢ Table...\n",
       "4      Education Details \\r\\n MCA   YMCAUST,  Faridab...\n",
       "                             ...                        \n",
       "957    Computer Skills: â¢ Proficient in MS office (...\n",
       "958    â Willingness to accept the challenges. â ...\n",
       "959    PERSONAL SKILLS â¢ Quick learner, â¢ Eagerne...\n",
       "960    COMPUTER SKILLS & SOFTWARE KNOWLEDGE MS-Power ...\n",
       "961    Skill Set OS Windows XP/7/8/8.1/10 Database MY...\n",
       "Name: Resume, Length: 962, dtype: object"
      ]
     },
     "execution_count": 24,
     "metadata": {},
     "output_type": "execute_result"
    }
   ],
   "source": [
    "df_resumes.Resume"
   ]
  },
  {
   "cell_type": "code",
   "execution_count": 39,
   "id": "a83b02f8",
   "metadata": {},
   "outputs": [
    {
     "data": {
      "text/plain": [
       "0      Skills Programming Languages Python pandas num...\n",
       "1      Education Details May 2013 to May 2017 B E UIT...\n",
       "2      Areas of Interest Deep Learning Control System...\n",
       "3      Skills â R â Python â SAP HANA â Tableau â SAP...\n",
       "4      Education Details MCA YMCAUST Faridabad Haryan...\n",
       "                             ...                        \n",
       "957    Computer Skills â Proficient in MS office Word...\n",
       "958    â Willingness to accept the challenges â Posit...\n",
       "959    PERSONAL SKILLS â Quick learner â Eagerness to...\n",
       "960    COMPUTER SKILLS SOFTWARE KNOWLEDGE MS Power Po...\n",
       "961    Skill Set OS Windows XP 7 8 8 1 10 Database MY...\n",
       "Name: Resume, Length: 962, dtype: object"
      ]
     },
     "execution_count": 39,
     "metadata": {},
     "output_type": "execute_result"
    }
   ],
   "source": [
    "import re\n",
    "df_resumes.Resume.map(lambda example: re.sub('[\\W]+', ' ', example))\n",
    "                                             "
   ]
  },
  {
   "cell_type": "code",
   "execution_count": null,
   "id": "48a645c3",
   "metadata": {},
   "outputs": [],
   "source": [
    "re s"
   ]
  }
 ],
 "metadata": {
  "kernelspec": {
   "display_name": "Python 3 (ipykernel)",
   "language": "python",
   "name": "python3"
  },
  "language_info": {
   "codemirror_mode": {
    "name": "ipython",
    "version": 3
   },
   "file_extension": ".py",
   "mimetype": "text/x-python",
   "name": "python",
   "nbconvert_exporter": "python",
   "pygments_lexer": "ipython3",
   "version": "3.9.10"
  }
 },
 "nbformat": 4,
 "nbformat_minor": 5
}
