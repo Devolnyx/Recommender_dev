{
 "cells": [
  {
   "cell_type": "code",
   "execution_count": 1,
   "id": "f0a6cde8",
   "metadata": {},
   "outputs": [
    {
     "ename": "FileNotFoundError",
     "evalue": "File data/li_jobs.json does not exist",
     "output_type": "error",
     "traceback": [
      "\u001b[1;31m---------------------------------------------------------------------------\u001b[0m",
      "\u001b[1;31mFileNotFoundError\u001b[0m                         Traceback (most recent call last)",
      "Cell \u001b[1;32mIn[1], line 5\u001b[0m\n\u001b[0;32m      2\u001b[0m \u001b[38;5;28;01mfrom\u001b[39;00m \u001b[38;5;21;01mmodel_utils\u001b[39;00m \u001b[38;5;28;01mimport\u001b[39;00m \u001b[38;5;241m*\u001b[39m\n\u001b[0;32m      4\u001b[0m df_resumes \u001b[38;5;241m=\u001b[39m pd\u001b[38;5;241m.\u001b[39mread_csv(\u001b[38;5;124m'\u001b[39m\u001b[38;5;124mdata/ResumeDataSet.csv\u001b[39m\u001b[38;5;124m'\u001b[39m)\u001b[38;5;241m.\u001b[39miloc[:\u001b[38;5;241m100\u001b[39m]\n\u001b[1;32m----> 5\u001b[0m df_jobs \u001b[38;5;241m=\u001b[39m  \u001b[43mpd\u001b[49m\u001b[38;5;241;43m.\u001b[39;49m\u001b[43mread_json\u001b[49m\u001b[43m(\u001b[49m\u001b[38;5;124;43m'\u001b[39;49m\u001b[38;5;124;43mdata/li_jobs.json\u001b[39;49m\u001b[38;5;124;43m'\u001b[39;49m\u001b[43m)\u001b[49m\u001b[38;5;241m.\u001b[39miloc[:\u001b[38;5;241m100\u001b[39m]\n",
      "File \u001b[1;32m~\\PycharmProjects\\NLP_explore\\venv\\lib\\site-packages\\pandas\\io\\json\\_json.py:760\u001b[0m, in \u001b[0;36mread_json\u001b[1;34m(path_or_buf, orient, typ, dtype, convert_axes, convert_dates, keep_default_dates, precise_float, date_unit, encoding, encoding_errors, lines, chunksize, compression, nrows, storage_options, dtype_backend, engine)\u001b[0m\n\u001b[0;32m    757\u001b[0m \u001b[38;5;28;01mif\u001b[39;00m convert_axes \u001b[38;5;129;01mis\u001b[39;00m \u001b[38;5;28;01mNone\u001b[39;00m \u001b[38;5;129;01mand\u001b[39;00m orient \u001b[38;5;241m!=\u001b[39m \u001b[38;5;124m\"\u001b[39m\u001b[38;5;124mtable\u001b[39m\u001b[38;5;124m\"\u001b[39m:\n\u001b[0;32m    758\u001b[0m     convert_axes \u001b[38;5;241m=\u001b[39m \u001b[38;5;28;01mTrue\u001b[39;00m\n\u001b[1;32m--> 760\u001b[0m json_reader \u001b[38;5;241m=\u001b[39m \u001b[43mJsonReader\u001b[49m\u001b[43m(\u001b[49m\n\u001b[0;32m    761\u001b[0m \u001b[43m    \u001b[49m\u001b[43mpath_or_buf\u001b[49m\u001b[43m,\u001b[49m\n\u001b[0;32m    762\u001b[0m \u001b[43m    \u001b[49m\u001b[43morient\u001b[49m\u001b[38;5;241;43m=\u001b[39;49m\u001b[43morient\u001b[49m\u001b[43m,\u001b[49m\n\u001b[0;32m    763\u001b[0m \u001b[43m    \u001b[49m\u001b[43mtyp\u001b[49m\u001b[38;5;241;43m=\u001b[39;49m\u001b[43mtyp\u001b[49m\u001b[43m,\u001b[49m\n\u001b[0;32m    764\u001b[0m \u001b[43m    \u001b[49m\u001b[43mdtype\u001b[49m\u001b[38;5;241;43m=\u001b[39;49m\u001b[43mdtype\u001b[49m\u001b[43m,\u001b[49m\n\u001b[0;32m    765\u001b[0m \u001b[43m    \u001b[49m\u001b[43mconvert_axes\u001b[49m\u001b[38;5;241;43m=\u001b[39;49m\u001b[43mconvert_axes\u001b[49m\u001b[43m,\u001b[49m\n\u001b[0;32m    766\u001b[0m \u001b[43m    \u001b[49m\u001b[43mconvert_dates\u001b[49m\u001b[38;5;241;43m=\u001b[39;49m\u001b[43mconvert_dates\u001b[49m\u001b[43m,\u001b[49m\n\u001b[0;32m    767\u001b[0m \u001b[43m    \u001b[49m\u001b[43mkeep_default_dates\u001b[49m\u001b[38;5;241;43m=\u001b[39;49m\u001b[43mkeep_default_dates\u001b[49m\u001b[43m,\u001b[49m\n\u001b[0;32m    768\u001b[0m \u001b[43m    \u001b[49m\u001b[43mprecise_float\u001b[49m\u001b[38;5;241;43m=\u001b[39;49m\u001b[43mprecise_float\u001b[49m\u001b[43m,\u001b[49m\n\u001b[0;32m    769\u001b[0m \u001b[43m    \u001b[49m\u001b[43mdate_unit\u001b[49m\u001b[38;5;241;43m=\u001b[39;49m\u001b[43mdate_unit\u001b[49m\u001b[43m,\u001b[49m\n\u001b[0;32m    770\u001b[0m \u001b[43m    \u001b[49m\u001b[43mencoding\u001b[49m\u001b[38;5;241;43m=\u001b[39;49m\u001b[43mencoding\u001b[49m\u001b[43m,\u001b[49m\n\u001b[0;32m    771\u001b[0m \u001b[43m    \u001b[49m\u001b[43mlines\u001b[49m\u001b[38;5;241;43m=\u001b[39;49m\u001b[43mlines\u001b[49m\u001b[43m,\u001b[49m\n\u001b[0;32m    772\u001b[0m \u001b[43m    \u001b[49m\u001b[43mchunksize\u001b[49m\u001b[38;5;241;43m=\u001b[39;49m\u001b[43mchunksize\u001b[49m\u001b[43m,\u001b[49m\n\u001b[0;32m    773\u001b[0m \u001b[43m    \u001b[49m\u001b[43mcompression\u001b[49m\u001b[38;5;241;43m=\u001b[39;49m\u001b[43mcompression\u001b[49m\u001b[43m,\u001b[49m\n\u001b[0;32m    774\u001b[0m \u001b[43m    \u001b[49m\u001b[43mnrows\u001b[49m\u001b[38;5;241;43m=\u001b[39;49m\u001b[43mnrows\u001b[49m\u001b[43m,\u001b[49m\n\u001b[0;32m    775\u001b[0m \u001b[43m    \u001b[49m\u001b[43mstorage_options\u001b[49m\u001b[38;5;241;43m=\u001b[39;49m\u001b[43mstorage_options\u001b[49m\u001b[43m,\u001b[49m\n\u001b[0;32m    776\u001b[0m \u001b[43m    \u001b[49m\u001b[43mencoding_errors\u001b[49m\u001b[38;5;241;43m=\u001b[39;49m\u001b[43mencoding_errors\u001b[49m\u001b[43m,\u001b[49m\n\u001b[0;32m    777\u001b[0m \u001b[43m    \u001b[49m\u001b[43mdtype_backend\u001b[49m\u001b[38;5;241;43m=\u001b[39;49m\u001b[43mdtype_backend\u001b[49m\u001b[43m,\u001b[49m\n\u001b[0;32m    778\u001b[0m \u001b[43m    \u001b[49m\u001b[43mengine\u001b[49m\u001b[38;5;241;43m=\u001b[39;49m\u001b[43mengine\u001b[49m\u001b[43m,\u001b[49m\n\u001b[0;32m    779\u001b[0m \u001b[43m\u001b[49m\u001b[43m)\u001b[49m\n\u001b[0;32m    781\u001b[0m \u001b[38;5;28;01mif\u001b[39;00m chunksize:\n\u001b[0;32m    782\u001b[0m     \u001b[38;5;28;01mreturn\u001b[39;00m json_reader\n",
      "File \u001b[1;32m~\\PycharmProjects\\NLP_explore\\venv\\lib\\site-packages\\pandas\\io\\json\\_json.py:861\u001b[0m, in \u001b[0;36mJsonReader.__init__\u001b[1;34m(self, filepath_or_buffer, orient, typ, dtype, convert_axes, convert_dates, keep_default_dates, precise_float, date_unit, encoding, lines, chunksize, compression, nrows, storage_options, encoding_errors, dtype_backend, engine)\u001b[0m\n\u001b[0;32m    859\u001b[0m     \u001b[38;5;28mself\u001b[39m\u001b[38;5;241m.\u001b[39mdata \u001b[38;5;241m=\u001b[39m filepath_or_buffer\n\u001b[0;32m    860\u001b[0m \u001b[38;5;28;01melif\u001b[39;00m \u001b[38;5;28mself\u001b[39m\u001b[38;5;241m.\u001b[39mengine \u001b[38;5;241m==\u001b[39m \u001b[38;5;124m\"\u001b[39m\u001b[38;5;124mujson\u001b[39m\u001b[38;5;124m\"\u001b[39m:\n\u001b[1;32m--> 861\u001b[0m     data \u001b[38;5;241m=\u001b[39m \u001b[38;5;28;43mself\u001b[39;49m\u001b[38;5;241;43m.\u001b[39;49m\u001b[43m_get_data_from_filepath\u001b[49m\u001b[43m(\u001b[49m\u001b[43mfilepath_or_buffer\u001b[49m\u001b[43m)\u001b[49m\n\u001b[0;32m    862\u001b[0m     \u001b[38;5;28mself\u001b[39m\u001b[38;5;241m.\u001b[39mdata \u001b[38;5;241m=\u001b[39m \u001b[38;5;28mself\u001b[39m\u001b[38;5;241m.\u001b[39m_preprocess_data(data)\n",
      "File \u001b[1;32m~\\PycharmProjects\\NLP_explore\\venv\\lib\\site-packages\\pandas\\io\\json\\_json.py:917\u001b[0m, in \u001b[0;36mJsonReader._get_data_from_filepath\u001b[1;34m(self, filepath_or_buffer)\u001b[0m\n\u001b[0;32m    909\u001b[0m     filepath_or_buffer \u001b[38;5;241m=\u001b[39m \u001b[38;5;28mself\u001b[39m\u001b[38;5;241m.\u001b[39mhandles\u001b[38;5;241m.\u001b[39mhandle\n\u001b[0;32m    910\u001b[0m \u001b[38;5;28;01melif\u001b[39;00m (\n\u001b[0;32m    911\u001b[0m     \u001b[38;5;28misinstance\u001b[39m(filepath_or_buffer, \u001b[38;5;28mstr\u001b[39m)\n\u001b[0;32m    912\u001b[0m     \u001b[38;5;129;01mand\u001b[39;00m filepath_or_buffer\u001b[38;5;241m.\u001b[39mlower()\u001b[38;5;241m.\u001b[39mendswith(\n\u001b[1;32m   (...)\u001b[0m\n\u001b[0;32m    915\u001b[0m     \u001b[38;5;129;01mand\u001b[39;00m \u001b[38;5;129;01mnot\u001b[39;00m file_exists(filepath_or_buffer)\n\u001b[0;32m    916\u001b[0m ):\n\u001b[1;32m--> 917\u001b[0m     \u001b[38;5;28;01mraise\u001b[39;00m \u001b[38;5;167;01mFileNotFoundError\u001b[39;00m(\u001b[38;5;124mf\u001b[39m\u001b[38;5;124m\"\u001b[39m\u001b[38;5;124mFile \u001b[39m\u001b[38;5;132;01m{\u001b[39;00mfilepath_or_buffer\u001b[38;5;132;01m}\u001b[39;00m\u001b[38;5;124m does not exist\u001b[39m\u001b[38;5;124m\"\u001b[39m)\n\u001b[0;32m    919\u001b[0m \u001b[38;5;28;01mreturn\u001b[39;00m filepath_or_buffer\n",
      "\u001b[1;31mFileNotFoundError\u001b[0m: File data/li_jobs.json does not exist"
     ]
    }
   ],
   "source": [
    "import pandas as pd\n",
    "from model_utils import *\n",
    "\n",
    "df_resumes = pd.read_csv('data/ResumeDataSet.csv').iloc[:100]\n",
    "df_jobs =  pd.read_json('data/li_jobs.json').iloc[:100]"
   ]
  },
  {
   "cell_type": "code",
   "execution_count": 50,
   "id": "aedd317b",
   "metadata": {
    "scrolled": true
   },
   "outputs": [
    {
     "ename": "ValueError",
     "evalue": "Expected object or value",
     "output_type": "error",
     "traceback": [
      "\u001b[1;31m---------------------------------------------------------------------------\u001b[0m",
      "\u001b[1;31mValueError\u001b[0m                                Traceback (most recent call last)",
      "Cell \u001b[1;32mIn[50], line 1\u001b[0m\n\u001b[1;32m----> 1\u001b[0m \u001b[43mpd\u001b[49m\u001b[38;5;241;43m.\u001b[39;49m\u001b[43mread_json\u001b[49m\u001b[43m(\u001b[49m\u001b[38;5;124;43m'\u001b[39;49m\u001b[38;5;124;43mdata/li_job.zip\u001b[39;49m\u001b[38;5;124;43m'\u001b[39;49m\u001b[43m)\u001b[49m\n",
      "File \u001b[1;32m~\\PycharmProjects\\NLP_explore\\venv\\lib\\site-packages\\pandas\\io\\json\\_json.py:784\u001b[0m, in \u001b[0;36mread_json\u001b[1;34m(path_or_buf, orient, typ, dtype, convert_axes, convert_dates, keep_default_dates, precise_float, date_unit, encoding, encoding_errors, lines, chunksize, compression, nrows, storage_options, dtype_backend, engine)\u001b[0m\n\u001b[0;32m    782\u001b[0m     \u001b[38;5;28;01mreturn\u001b[39;00m json_reader\n\u001b[0;32m    783\u001b[0m \u001b[38;5;28;01melse\u001b[39;00m:\n\u001b[1;32m--> 784\u001b[0m     \u001b[38;5;28;01mreturn\u001b[39;00m \u001b[43mjson_reader\u001b[49m\u001b[38;5;241;43m.\u001b[39;49m\u001b[43mread\u001b[49m\u001b[43m(\u001b[49m\u001b[43m)\u001b[49m\n",
      "File \u001b[1;32m~\\PycharmProjects\\NLP_explore\\venv\\lib\\site-packages\\pandas\\io\\json\\_json.py:975\u001b[0m, in \u001b[0;36mJsonReader.read\u001b[1;34m(self)\u001b[0m\n\u001b[0;32m    973\u001b[0m         obj \u001b[38;5;241m=\u001b[39m \u001b[38;5;28mself\u001b[39m\u001b[38;5;241m.\u001b[39m_get_object_parser(\u001b[38;5;28mself\u001b[39m\u001b[38;5;241m.\u001b[39m_combine_lines(data_lines))\n\u001b[0;32m    974\u001b[0m \u001b[38;5;28;01melse\u001b[39;00m:\n\u001b[1;32m--> 975\u001b[0m     obj \u001b[38;5;241m=\u001b[39m \u001b[38;5;28;43mself\u001b[39;49m\u001b[38;5;241;43m.\u001b[39;49m\u001b[43m_get_object_parser\u001b[49m\u001b[43m(\u001b[49m\u001b[38;5;28;43mself\u001b[39;49m\u001b[38;5;241;43m.\u001b[39;49m\u001b[43mdata\u001b[49m\u001b[43m)\u001b[49m\n\u001b[0;32m    976\u001b[0m \u001b[38;5;28;01mif\u001b[39;00m \u001b[38;5;28mself\u001b[39m\u001b[38;5;241m.\u001b[39mdtype_backend \u001b[38;5;129;01mis\u001b[39;00m \u001b[38;5;129;01mnot\u001b[39;00m lib\u001b[38;5;241m.\u001b[39mno_default:\n\u001b[0;32m    977\u001b[0m     \u001b[38;5;28;01mreturn\u001b[39;00m obj\u001b[38;5;241m.\u001b[39mconvert_dtypes(\n\u001b[0;32m    978\u001b[0m         infer_objects\u001b[38;5;241m=\u001b[39m\u001b[38;5;28;01mFalse\u001b[39;00m, dtype_backend\u001b[38;5;241m=\u001b[39m\u001b[38;5;28mself\u001b[39m\u001b[38;5;241m.\u001b[39mdtype_backend\n\u001b[0;32m    979\u001b[0m     )\n",
      "File \u001b[1;32m~\\PycharmProjects\\NLP_explore\\venv\\lib\\site-packages\\pandas\\io\\json\\_json.py:1001\u001b[0m, in \u001b[0;36mJsonReader._get_object_parser\u001b[1;34m(self, json)\u001b[0m\n\u001b[0;32m    999\u001b[0m obj \u001b[38;5;241m=\u001b[39m \u001b[38;5;28;01mNone\u001b[39;00m\n\u001b[0;32m   1000\u001b[0m \u001b[38;5;28;01mif\u001b[39;00m typ \u001b[38;5;241m==\u001b[39m \u001b[38;5;124m\"\u001b[39m\u001b[38;5;124mframe\u001b[39m\u001b[38;5;124m\"\u001b[39m:\n\u001b[1;32m-> 1001\u001b[0m     obj \u001b[38;5;241m=\u001b[39m \u001b[43mFrameParser\u001b[49m\u001b[43m(\u001b[49m\u001b[43mjson\u001b[49m\u001b[43m,\u001b[49m\u001b[43m \u001b[49m\u001b[38;5;241;43m*\u001b[39;49m\u001b[38;5;241;43m*\u001b[39;49m\u001b[43mkwargs\u001b[49m\u001b[43m)\u001b[49m\u001b[38;5;241;43m.\u001b[39;49m\u001b[43mparse\u001b[49m\u001b[43m(\u001b[49m\u001b[43m)\u001b[49m\n\u001b[0;32m   1003\u001b[0m \u001b[38;5;28;01mif\u001b[39;00m typ \u001b[38;5;241m==\u001b[39m \u001b[38;5;124m\"\u001b[39m\u001b[38;5;124mseries\u001b[39m\u001b[38;5;124m\"\u001b[39m \u001b[38;5;129;01mor\u001b[39;00m obj \u001b[38;5;129;01mis\u001b[39;00m \u001b[38;5;28;01mNone\u001b[39;00m:\n\u001b[0;32m   1004\u001b[0m     \u001b[38;5;28;01mif\u001b[39;00m \u001b[38;5;129;01mnot\u001b[39;00m \u001b[38;5;28misinstance\u001b[39m(dtype, \u001b[38;5;28mbool\u001b[39m):\n",
      "File \u001b[1;32m~\\PycharmProjects\\NLP_explore\\venv\\lib\\site-packages\\pandas\\io\\json\\_json.py:1134\u001b[0m, in \u001b[0;36mParser.parse\u001b[1;34m(self)\u001b[0m\n\u001b[0;32m   1133\u001b[0m \u001b[38;5;28;01mdef\u001b[39;00m \u001b[38;5;21mparse\u001b[39m(\u001b[38;5;28mself\u001b[39m):\n\u001b[1;32m-> 1134\u001b[0m     \u001b[38;5;28;43mself\u001b[39;49m\u001b[38;5;241;43m.\u001b[39;49m\u001b[43m_parse\u001b[49m\u001b[43m(\u001b[49m\u001b[43m)\u001b[49m\n\u001b[0;32m   1136\u001b[0m     \u001b[38;5;28;01mif\u001b[39;00m \u001b[38;5;28mself\u001b[39m\u001b[38;5;241m.\u001b[39mobj \u001b[38;5;129;01mis\u001b[39;00m \u001b[38;5;28;01mNone\u001b[39;00m:\n\u001b[0;32m   1137\u001b[0m         \u001b[38;5;28;01mreturn\u001b[39;00m \u001b[38;5;28;01mNone\u001b[39;00m\n",
      "File \u001b[1;32m~\\PycharmProjects\\NLP_explore\\venv\\lib\\site-packages\\pandas\\io\\json\\_json.py:1320\u001b[0m, in \u001b[0;36mFrameParser._parse\u001b[1;34m(self)\u001b[0m\n\u001b[0;32m   1316\u001b[0m orient \u001b[38;5;241m=\u001b[39m \u001b[38;5;28mself\u001b[39m\u001b[38;5;241m.\u001b[39morient\n\u001b[0;32m   1318\u001b[0m \u001b[38;5;28;01mif\u001b[39;00m orient \u001b[38;5;241m==\u001b[39m \u001b[38;5;124m\"\u001b[39m\u001b[38;5;124mcolumns\u001b[39m\u001b[38;5;124m\"\u001b[39m:\n\u001b[0;32m   1319\u001b[0m     \u001b[38;5;28mself\u001b[39m\u001b[38;5;241m.\u001b[39mobj \u001b[38;5;241m=\u001b[39m DataFrame(\n\u001b[1;32m-> 1320\u001b[0m         \u001b[43mloads\u001b[49m\u001b[43m(\u001b[49m\u001b[43mjson\u001b[49m\u001b[43m,\u001b[49m\u001b[43m \u001b[49m\u001b[43mprecise_float\u001b[49m\u001b[38;5;241;43m=\u001b[39;49m\u001b[38;5;28;43mself\u001b[39;49m\u001b[38;5;241;43m.\u001b[39;49m\u001b[43mprecise_float\u001b[49m\u001b[43m)\u001b[49m, dtype\u001b[38;5;241m=\u001b[39m\u001b[38;5;28;01mNone\u001b[39;00m\n\u001b[0;32m   1321\u001b[0m     )\n\u001b[0;32m   1322\u001b[0m \u001b[38;5;28;01melif\u001b[39;00m orient \u001b[38;5;241m==\u001b[39m \u001b[38;5;124m\"\u001b[39m\u001b[38;5;124msplit\u001b[39m\u001b[38;5;124m\"\u001b[39m:\n\u001b[0;32m   1323\u001b[0m     decoded \u001b[38;5;241m=\u001b[39m {\n\u001b[0;32m   1324\u001b[0m         \u001b[38;5;28mstr\u001b[39m(k): v\n\u001b[0;32m   1325\u001b[0m         \u001b[38;5;28;01mfor\u001b[39;00m k, v \u001b[38;5;129;01min\u001b[39;00m loads(json, precise_float\u001b[38;5;241m=\u001b[39m\u001b[38;5;28mself\u001b[39m\u001b[38;5;241m.\u001b[39mprecise_float)\u001b[38;5;241m.\u001b[39mitems()\n\u001b[0;32m   1326\u001b[0m     }\n",
      "\u001b[1;31mValueError\u001b[0m: Expected object or value"
     ]
    }
   ],
   "source": [
    "pd.read_csv('data/li_job.zip')"
   ]
  },
  {
   "cell_type": "code",
   "execution_count": 16,
   "id": "16a0dec1",
   "metadata": {},
   "outputs": [
    {
     "data": {
      "application/vnd.jupyter.widget-view+json": {
       "model_id": "e53c71beae1d4d3a8f4ecb449bdcac4e",
       "version_major": 2,
       "version_minor": 0
      },
      "text/plain": [
       "Batches:   0%|          | 0/7 [00:00<?, ?it/s]"
      ]
     },
     "metadata": {},
     "output_type": "display_data"
    },
    {
     "data": {
      "application/vnd.jupyter.widget-view+json": {
       "model_id": "d2559821a4954b51a212ae1f77a0d1aa",
       "version_major": 2,
       "version_minor": 0
      },
      "text/plain": [
       "Batches:   0%|          | 0/7 [00:00<?, ?it/s]"
      ]
     },
     "metadata": {},
     "output_type": "display_data"
    },
    {
     "data": {
      "application/vnd.jupyter.widget-view+json": {
       "model_id": "0f76094762da4f4bb546dd795ce83d97",
       "version_major": 2,
       "version_minor": 0
      },
      "text/plain": [
       "Batches:   0%|          | 0/7 [00:00<?, ?it/s]"
      ]
     },
     "metadata": {},
     "output_type": "display_data"
    },
    {
     "data": {
      "application/vnd.jupyter.widget-view+json": {
       "model_id": "4be050920948480f892bcdef96dfb67f",
       "version_major": 2,
       "version_minor": 0
      },
      "text/plain": [
       "Batches:   0%|          | 0/7 [00:00<?, ?it/s]"
      ]
     },
     "metadata": {},
     "output_type": "display_data"
    }
   ],
   "source": [
    "resume_emb = get_dataset_embeddings(df_resumes, columns=['Category', 'Resume'], weights= [0.5, 0.5])\n",
    "job_emb = get_dataset_embeddings(df_jobs, columns=['title', 'description'], weights= [0.5, 0.5])"
   ]
  },
  {
   "cell_type": "markdown",
   "id": "4acd452d",
   "metadata": {},
   "source": [
    "### Подбор вакансий для резюме из датасета"
   ]
  },
  {
   "cell_type": "code",
   "execution_count": 17,
   "id": "376e59aa",
   "metadata": {},
   "outputs": [
    {
     "name": "stdout",
     "output_type": "stream",
     "text": [
      "I.T. Skills â¢ Windows XP, Ms Office (Word, Excel: Look-ups; Pivot table; other basic functions ; Power Point) â¢ Saral Payment Package- payroll software â¢ Internet ApplicationsEducation Details \r\n",
      "January 2006 Bachelor in Hospitality Management International Hospitality Management  Queen Margaret University Edinburg\r\n",
      "January 2006 diploma Hotel Management  International Institute of Hotel Management\r\n",
      "HR \r\n",
      "\r\n",
      "\r\n",
      "Skill Details \r\n",
      "Hr Management- Exprience - Less than 1 year monthsCompany Details \r\n",
      "company - Atri Developers\r\n",
      "description - â¢ HR Payroll Statutory Compliance Performance Management\r\n",
      "company - \r\n",
      "description - Employee Relations and Administration: Creating industry specific Policies, Procedure, Forms, Formats, Letters, Checklists etc\r\n",
      "\r\n",
      "Payroll Management: Salary restructuring to process payroll of 600 employees.\r\n",
      "â¢ Validation of all input (Attendance, Leaves, and Salaries) before starting salary process.\r\n",
      "â¢ Processing accurate & error free salary of employees.\r\n",
      "â¢ Responsible for compensation \n"
     ]
    },
    {
     "data": {
      "text/html": [
       "<div>\n",
       "<style scoped>\n",
       "    .dataframe tbody tr th:only-of-type {\n",
       "        vertical-align: middle;\n",
       "    }\n",
       "\n",
       "    .dataframe tbody tr th {\n",
       "        vertical-align: top;\n",
       "    }\n",
       "\n",
       "    .dataframe thead th {\n",
       "        text-align: right;\n",
       "    }\n",
       "</style>\n",
       "<table border=\"1\" class=\"dataframe\">\n",
       "  <thead>\n",
       "    <tr style=\"text-align: right;\">\n",
       "      <th></th>\n",
       "      <th>id</th>\n",
       "      <th>created</th>\n",
       "      <th>last_updated</th>\n",
       "      <th>time_posted</th>\n",
       "      <th>title</th>\n",
       "      <th>description</th>\n",
       "      <th>seniority</th>\n",
       "      <th>employment_type</th>\n",
       "      <th>location</th>\n",
       "      <th>url</th>\n",
       "      <th>...</th>\n",
       "      <th>salary</th>\n",
       "      <th>applicants_count</th>\n",
       "      <th>linkedin_job_id</th>\n",
       "      <th>country</th>\n",
       "      <th>last_updated_ux</th>\n",
       "      <th>redirected_url</th>\n",
       "      <th>redirected_url_hash</th>\n",
       "      <th>job_functions_collection</th>\n",
       "      <th>job_industries_collection</th>\n",
       "      <th>job_status_log_collection</th>\n",
       "    </tr>\n",
       "  </thead>\n",
       "  <tbody>\n",
       "    <tr>\n",
       "      <th>51</th>\n",
       "      <td>132917568</td>\n",
       "      <td>2023-03-30 06:09:32</td>\n",
       "      <td>2023-08-30 12:13:33</td>\n",
       "      <td>3 days ago</td>\n",
       "      <td>Senior Tax Manager - ASC 740</td>\n",
       "      <td>Job Description\\n\\nJob Summary:\\n\\nThe Core Ta...</td>\n",
       "      <td>Mid-Senior level</td>\n",
       "      <td>Full-time</td>\n",
       "      <td>San Jose, CA</td>\n",
       "      <td>https://www.linkedin.com/jobs/view/senior-tax-...</td>\n",
       "      <td>...</td>\n",
       "      <td>None</td>\n",
       "      <td>Be among the first 25 applicants</td>\n",
       "      <td>3542464534</td>\n",
       "      <td>United States</td>\n",
       "      <td>1693397613</td>\n",
       "      <td>https://www.linkedin.com/jobs/view/senior-tax-...</td>\n",
       "      <td>03fc531d545dba6d1df08d697705a9cc</td>\n",
       "      <td>[{'id': 85911751, 'job_id': 132917568, 'functi...</td>\n",
       "      <td>[{'id': 129267391, 'job_id': 132917568, 'indus...</td>\n",
       "      <td>[{'id': 2028115195, 'job_id': 132917568, 'crea...</td>\n",
       "    </tr>\n",
       "    <tr>\n",
       "      <th>17</th>\n",
       "      <td>120522413</td>\n",
       "      <td>2023-02-06 17:27:47</td>\n",
       "      <td>2023-08-29 23:45:53</td>\n",
       "      <td>1 week ago</td>\n",
       "      <td>Healthcare Recruitment Manager</td>\n",
       "      <td>This is a 100% remote position that rewards pe...</td>\n",
       "      <td>Mid-Senior level</td>\n",
       "      <td>Full-time</td>\n",
       "      <td>Vadodara, Gujarat, India</td>\n",
       "      <td>https://www.linkedin.com/jobs/view/healthcare-...</td>\n",
       "      <td>...</td>\n",
       "      <td>None</td>\n",
       "      <td>Over 200 applicants</td>\n",
       "      <td>3468325814</td>\n",
       "      <td>India</td>\n",
       "      <td>1693352753</td>\n",
       "      <td>https://www.linkedin.com/jobs/view/healthcare-...</td>\n",
       "      <td>b367137621c2674d650f12bb61317666</td>\n",
       "      <td>[{'id': 74603543, 'job_id': 120522413, 'functi...</td>\n",
       "      <td>[{'id': 102114492, 'job_id': 120522413, 'indus...</td>\n",
       "      <td>[{'id': 1749455413, 'job_id': 120522413, 'crea...</td>\n",
       "    </tr>\n",
       "    <tr>\n",
       "      <th>69</th>\n",
       "      <td>134769029</td>\n",
       "      <td>2023-03-30 21:38:59</td>\n",
       "      <td>2023-06-08 14:41:46</td>\n",
       "      <td>1 month ago</td>\n",
       "      <td>Systems Analyst III - Hybrid work schedule</td>\n",
       "      <td>Florida Power &amp; Light Company  is America’s la...</td>\n",
       "      <td>Entry level</td>\n",
       "      <td>Full-time</td>\n",
       "      <td>Hialeah, FL</td>\n",
       "      <td>https://www.linkedin.com/jobs/view/systems-ana...</td>\n",
       "      <td>...</td>\n",
       "      <td>None</td>\n",
       "      <td>Be among the first 25 applicants</td>\n",
       "      <td>3498345449</td>\n",
       "      <td>United States</td>\n",
       "      <td>1686064966</td>\n",
       "      <td>https://www.linkedin.com/jobs/view/systems-ana...</td>\n",
       "      <td>274620e364c6905525136febedb288a7</td>\n",
       "      <td>[{'id': 87721648, 'job_id': 134769029, 'functi...</td>\n",
       "      <td>[{'id': 131089525, 'job_id': 134769029, 'indus...</td>\n",
       "      <td>[{'id': 2035906311, 'job_id': 134769029, 'crea...</td>\n",
       "    </tr>\n",
       "    <tr>\n",
       "      <th>12</th>\n",
       "      <td>108765014</td>\n",
       "      <td>2022-12-22 00:58:03</td>\n",
       "      <td>2023-06-27 00:15:56</td>\n",
       "      <td>5 months ago</td>\n",
       "      <td>Administrative Assistant</td>\n",
       "      <td>• Assists with various building events, servic...</td>\n",
       "      <td>Entry level</td>\n",
       "      <td>Contract</td>\n",
       "      <td>Paton, IA</td>\n",
       "      <td>https://www.linkedin.com/jobs/view/administrat...</td>\n",
       "      <td>...</td>\n",
       "      <td>None</td>\n",
       "      <td>Be among the first 25 applicants</td>\n",
       "      <td>3403278552</td>\n",
       "      <td>United States</td>\n",
       "      <td>1687204737</td>\n",
       "      <td>https://www.linkedin.com/jobs/view/administrat...</td>\n",
       "      <td>945089eed8377172ae25862dada94e91</td>\n",
       "      <td>[{'id': 63739602, 'job_id': 108765014, 'functi...</td>\n",
       "      <td>[{'id': 84252958, 'job_id': 108765014, 'indust...</td>\n",
       "      <td>[{'id': 1525002055, 'job_id': 108765014, 'crea...</td>\n",
       "    </tr>\n",
       "    <tr>\n",
       "      <th>48</th>\n",
       "      <td>132592288</td>\n",
       "      <td>2023-03-29 04:52:43</td>\n",
       "      <td>2023-07-24 14:54:22</td>\n",
       "      <td>2 months ago</td>\n",
       "      <td>Housekeeper</td>\n",
       "      <td>Job Description\\n\\nIt?s time for a sweeping ch...</td>\n",
       "      <td>Entry level</td>\n",
       "      <td>Full-time</td>\n",
       "      <td>Vaughan, Ontario, Canada</td>\n",
       "      <td>https://www.linkedin.com/jobs/view/housekeeper...</td>\n",
       "      <td>...</td>\n",
       "      <td>None</td>\n",
       "      <td>Be among the first 25 applicants</td>\n",
       "      <td>3547538662</td>\n",
       "      <td>Canada</td>\n",
       "      <td>1689933392</td>\n",
       "      <td>https://ca.linkedin.com/jobs/view/housekeeper-...</td>\n",
       "      <td>6ff250bb475553bb07c07c320abd06f1</td>\n",
       "      <td>[{'id': 85612059, 'job_id': 132592288, 'functi...</td>\n",
       "      <td>[{'id': 128606531, 'job_id': 132592288, 'indus...</td>\n",
       "      <td>[{'id': 2020836987, 'job_id': 132592288, 'crea...</td>\n",
       "    </tr>\n",
       "  </tbody>\n",
       "</table>\n",
       "<p>5 rows × 27 columns</p>\n",
       "</div>"
      ],
      "text/plain": [
       "           id              created         last_updated   time_posted   \n",
       "51  132917568  2023-03-30 06:09:32  2023-08-30 12:13:33    3 days ago  \\\n",
       "17  120522413  2023-02-06 17:27:47  2023-08-29 23:45:53    1 week ago   \n",
       "69  134769029  2023-03-30 21:38:59  2023-06-08 14:41:46   1 month ago   \n",
       "12  108765014  2022-12-22 00:58:03  2023-06-27 00:15:56  5 months ago   \n",
       "48  132592288  2023-03-29 04:52:43  2023-07-24 14:54:22  2 months ago   \n",
       "\n",
       "                                         title   \n",
       "51                Senior Tax Manager - ASC 740  \\\n",
       "17              Healthcare Recruitment Manager   \n",
       "69  Systems Analyst III - Hybrid work schedule   \n",
       "12                    Administrative Assistant   \n",
       "48                                 Housekeeper   \n",
       "\n",
       "                                          description         seniority   \n",
       "51  Job Description\\n\\nJob Summary:\\n\\nThe Core Ta...  Mid-Senior level  \\\n",
       "17  This is a 100% remote position that rewards pe...  Mid-Senior level   \n",
       "69  Florida Power & Light Company  is America’s la...       Entry level   \n",
       "12  • Assists with various building events, servic...       Entry level   \n",
       "48  Job Description\\n\\nIt?s time for a sweeping ch...       Entry level   \n",
       "\n",
       "   employment_type                  location   \n",
       "51       Full-time              San Jose, CA  \\\n",
       "17       Full-time  Vadodara, Gujarat, India   \n",
       "69       Full-time               Hialeah, FL   \n",
       "12        Contract                 Paton, IA   \n",
       "48       Full-time  Vaughan, Ontario, Canada   \n",
       "\n",
       "                                                  url  ... salary   \n",
       "51  https://www.linkedin.com/jobs/view/senior-tax-...  ...   None  \\\n",
       "17  https://www.linkedin.com/jobs/view/healthcare-...  ...   None   \n",
       "69  https://www.linkedin.com/jobs/view/systems-ana...  ...   None   \n",
       "12  https://www.linkedin.com/jobs/view/administrat...  ...   None   \n",
       "48  https://www.linkedin.com/jobs/view/housekeeper...  ...   None   \n",
       "\n",
       "                    applicants_count linkedin_job_id        country   \n",
       "51  Be among the first 25 applicants      3542464534  United States  \\\n",
       "17               Over 200 applicants      3468325814          India   \n",
       "69  Be among the first 25 applicants      3498345449  United States   \n",
       "12  Be among the first 25 applicants      3403278552  United States   \n",
       "48  Be among the first 25 applicants      3547538662         Canada   \n",
       "\n",
       "   last_updated_ux                                     redirected_url   \n",
       "51      1693397613  https://www.linkedin.com/jobs/view/senior-tax-...  \\\n",
       "17      1693352753  https://www.linkedin.com/jobs/view/healthcare-...   \n",
       "69      1686064966  https://www.linkedin.com/jobs/view/systems-ana...   \n",
       "12      1687204737  https://www.linkedin.com/jobs/view/administrat...   \n",
       "48      1689933392  https://ca.linkedin.com/jobs/view/housekeeper-...   \n",
       "\n",
       "                 redirected_url_hash   \n",
       "51  03fc531d545dba6d1df08d697705a9cc  \\\n",
       "17  b367137621c2674d650f12bb61317666   \n",
       "69  274620e364c6905525136febedb288a7   \n",
       "12  945089eed8377172ae25862dada94e91   \n",
       "48  6ff250bb475553bb07c07c320abd06f1   \n",
       "\n",
       "                             job_functions_collection   \n",
       "51  [{'id': 85911751, 'job_id': 132917568, 'functi...  \\\n",
       "17  [{'id': 74603543, 'job_id': 120522413, 'functi...   \n",
       "69  [{'id': 87721648, 'job_id': 134769029, 'functi...   \n",
       "12  [{'id': 63739602, 'job_id': 108765014, 'functi...   \n",
       "48  [{'id': 85612059, 'job_id': 132592288, 'functi...   \n",
       "\n",
       "                            job_industries_collection   \n",
       "51  [{'id': 129267391, 'job_id': 132917568, 'indus...  \\\n",
       "17  [{'id': 102114492, 'job_id': 120522413, 'indus...   \n",
       "69  [{'id': 131089525, 'job_id': 134769029, 'indus...   \n",
       "12  [{'id': 84252958, 'job_id': 108765014, 'indust...   \n",
       "48  [{'id': 128606531, 'job_id': 132592288, 'indus...   \n",
       "\n",
       "                            job_status_log_collection  \n",
       "51  [{'id': 2028115195, 'job_id': 132917568, 'crea...  \n",
       "17  [{'id': 1749455413, 'job_id': 120522413, 'crea...  \n",
       "69  [{'id': 2035906311, 'job_id': 134769029, 'crea...  \n",
       "12  [{'id': 1525002055, 'job_id': 108765014, 'crea...  \n",
       "48  [{'id': 2020836987, 'job_id': 132592288, 'crea...  \n",
       "\n",
       "[5 rows x 27 columns]"
      ]
     },
     "execution_count": 17,
     "metadata": {},
     "output_type": "execute_result"
    }
   ],
   "source": [
    "get_rec_from_dataset(df_resume = df_resumes, df_jobs = df_jobs, prompt_embeddings=resume_emb, jobs_embeddings=job_emb, num_rec=5)"
   ]
  },
  {
   "cell_type": "markdown",
   "id": "bf13151d",
   "metadata": {},
   "source": [
    "### Подбор вакансий для описания"
   ]
  },
  {
   "cell_type": "code",
   "execution_count": 41,
   "id": "e832597d",
   "metadata": {},
   "outputs": [
    {
     "data": {
      "application/vnd.jupyter.widget-view+json": {
       "model_id": "0c4938106ef04f7b96fa9c52b4a30572",
       "version_major": 2,
       "version_minor": 0
      },
      "text/plain": [
       "Batches:   0%|          | 0/1 [00:00<?, ?it/s]"
      ]
     },
     "metadata": {},
     "output_type": "display_data"
    },
    {
     "data": {
      "application/vnd.jupyter.widget-view+json": {
       "model_id": "df1926b8f5094af29dd8067e33542b8f",
       "version_major": 2,
       "version_minor": 0
      },
      "text/plain": [
       "Batches:   0%|          | 0/1 [00:00<?, ?it/s]"
      ]
     },
     "metadata": {},
     "output_type": "display_data"
    },
    {
     "name": "stdout",
     "output_type": "stream",
     "text": [
      "Max scores: [[[0.38396627 0.38052836 0.37975985 0.37862223 0.37520027]]]\n"
     ]
    },
    {
     "data": {
      "text/html": [
       "<div>\n",
       "<style scoped>\n",
       "    .dataframe tbody tr th:only-of-type {\n",
       "        vertical-align: middle;\n",
       "    }\n",
       "\n",
       "    .dataframe tbody tr th {\n",
       "        vertical-align: top;\n",
       "    }\n",
       "\n",
       "    .dataframe thead th {\n",
       "        text-align: right;\n",
       "    }\n",
       "</style>\n",
       "<table border=\"1\" class=\"dataframe\">\n",
       "  <thead>\n",
       "    <tr style=\"text-align: right;\">\n",
       "      <th></th>\n",
       "      <th>id</th>\n",
       "      <th>created</th>\n",
       "      <th>last_updated</th>\n",
       "      <th>time_posted</th>\n",
       "      <th>title</th>\n",
       "      <th>description</th>\n",
       "      <th>seniority</th>\n",
       "      <th>employment_type</th>\n",
       "      <th>location</th>\n",
       "      <th>url</th>\n",
       "      <th>...</th>\n",
       "      <th>salary</th>\n",
       "      <th>applicants_count</th>\n",
       "      <th>linkedin_job_id</th>\n",
       "      <th>country</th>\n",
       "      <th>last_updated_ux</th>\n",
       "      <th>redirected_url</th>\n",
       "      <th>redirected_url_hash</th>\n",
       "      <th>job_functions_collection</th>\n",
       "      <th>job_industries_collection</th>\n",
       "      <th>job_status_log_collection</th>\n",
       "    </tr>\n",
       "  </thead>\n",
       "  <tbody>\n",
       "    <tr>\n",
       "      <th>0</th>\n",
       "      <td>58112629</td>\n",
       "      <td>2022-04-18 18:40:28</td>\n",
       "      <td>2023-08-31 03:25:13</td>\n",
       "      <td>1 year ago</td>\n",
       "      <td>Software Developer I</td>\n",
       "      <td>Software Developer I – Ohio\\n\\nReady to join a...</td>\n",
       "      <td>Entry level</td>\n",
       "      <td>Full-time</td>\n",
       "      <td>Columbus, OH</td>\n",
       "      <td>https://www.linkedin.com/jobs/view/software-de...</td>\n",
       "      <td>...</td>\n",
       "      <td>None</td>\n",
       "      <td>Be among the first 25 applicants</td>\n",
       "      <td>3031594890</td>\n",
       "      <td>United States</td>\n",
       "      <td>1693452313</td>\n",
       "      <td>https://www.linkedin.com/jobs/view/software-de...</td>\n",
       "      <td>13bfacebdbb53ddc54fa56c99bf7ebdc</td>\n",
       "      <td>[{'id': 29121530, 'job_id': 58112629, 'functio...</td>\n",
       "      <td>[{'id': 35482858, 'job_id': 58112629, 'industr...</td>\n",
       "      <td>[{'id': 618909385, 'job_id': 58112629, 'create...</td>\n",
       "    </tr>\n",
       "    <tr>\n",
       "      <th>41</th>\n",
       "      <td>131482707</td>\n",
       "      <td>2023-03-23 02:47:04</td>\n",
       "      <td>2023-07-21 09:53:44</td>\n",
       "      <td>2 months ago</td>\n",
       "      <td>Transportation Operations Project Engineer</td>\n",
       "      <td>What You Will Do\\n\\nGannett Fleming is looking...</td>\n",
       "      <td>Mid-Senior level</td>\n",
       "      <td>Full-time</td>\n",
       "      <td>Nashville, TN</td>\n",
       "      <td>https://www.linkedin.com/jobs/view/transportat...</td>\n",
       "      <td>...</td>\n",
       "      <td>None</td>\n",
       "      <td>Be among the first 25 applicants</td>\n",
       "      <td>3539500358</td>\n",
       "      <td>United States</td>\n",
       "      <td>1689235944</td>\n",
       "      <td>https://www.linkedin.com/jobs/view/transportat...</td>\n",
       "      <td>15b78e27f2e7bbad528637039d65b11e</td>\n",
       "      <td>[{'id': 84589493, 'job_id': 131482707, 'functi...</td>\n",
       "      <td>[{'id': 125858594, 'job_id': 131482707, 'indus...</td>\n",
       "      <td>[{'id': 1984529924, 'job_id': 131482707, 'crea...</td>\n",
       "    </tr>\n",
       "    <tr>\n",
       "      <th>33</th>\n",
       "      <td>128591640</td>\n",
       "      <td>2023-03-08 19:43:04</td>\n",
       "      <td>2023-06-15 11:51:25</td>\n",
       "      <td>2 days ago</td>\n",
       "      <td>Analyst, Customer Accounts</td>\n",
       "      <td>Solutions driven success.\\n\\nRXO brings togeth...</td>\n",
       "      <td>Mid-Senior level</td>\n",
       "      <td>Full-time</td>\n",
       "      <td>Charlotte, NC</td>\n",
       "      <td>https://www.linkedin.com/jobs/view/analyst-cus...</td>\n",
       "      <td>...</td>\n",
       "      <td>None</td>\n",
       "      <td>67 applicants</td>\n",
       "      <td>3513506477</td>\n",
       "      <td>United States</td>\n",
       "      <td>1686023989</td>\n",
       "      <td>https://www.linkedin.com/jobs/view/analyst-cus...</td>\n",
       "      <td>93b8d173697cfb21e0d94332ee310255</td>\n",
       "      <td>[{'id': 81970028, 'job_id': 128591640, 'functi...</td>\n",
       "      <td>[{'id': 118859288, 'job_id': 128591640, 'indus...</td>\n",
       "      <td>[{'id': 1920915112, 'job_id': 128591640, 'crea...</td>\n",
       "    </tr>\n",
       "    <tr>\n",
       "      <th>69</th>\n",
       "      <td>134769029</td>\n",
       "      <td>2023-03-30 21:38:59</td>\n",
       "      <td>2023-06-08 14:41:46</td>\n",
       "      <td>1 month ago</td>\n",
       "      <td>Systems Analyst III - Hybrid work schedule</td>\n",
       "      <td>Florida Power &amp; Light Company  is America’s la...</td>\n",
       "      <td>Entry level</td>\n",
       "      <td>Full-time</td>\n",
       "      <td>Hialeah, FL</td>\n",
       "      <td>https://www.linkedin.com/jobs/view/systems-ana...</td>\n",
       "      <td>...</td>\n",
       "      <td>None</td>\n",
       "      <td>Be among the first 25 applicants</td>\n",
       "      <td>3498345449</td>\n",
       "      <td>United States</td>\n",
       "      <td>1686064966</td>\n",
       "      <td>https://www.linkedin.com/jobs/view/systems-ana...</td>\n",
       "      <td>274620e364c6905525136febedb288a7</td>\n",
       "      <td>[{'id': 87721648, 'job_id': 134769029, 'functi...</td>\n",
       "      <td>[{'id': 131089525, 'job_id': 134769029, 'indus...</td>\n",
       "      <td>[{'id': 2035906311, 'job_id': 134769029, 'crea...</td>\n",
       "    </tr>\n",
       "    <tr>\n",
       "      <th>8</th>\n",
       "      <td>102557189</td>\n",
       "      <td>2022-11-30 23:45:01</td>\n",
       "      <td>2023-06-06 09:57:15</td>\n",
       "      <td>5 months ago</td>\n",
       "      <td>SAP SD/OTC Consultant</td>\n",
       "      <td>JOB Description: \\n\\n\\n • Strong functional un...</td>\n",
       "      <td>Mid-Senior level</td>\n",
       "      <td>Contract</td>\n",
       "      <td>Cary, NC</td>\n",
       "      <td>https://www.linkedin.com/jobs/view/sap-sd-otc-...</td>\n",
       "      <td>...</td>\n",
       "      <td>None</td>\n",
       "      <td>Be among the first 25 applicants</td>\n",
       "      <td>3374595362</td>\n",
       "      <td>United States</td>\n",
       "      <td>1685379238</td>\n",
       "      <td>https://www.linkedin.com/jobs/view/sap-sd-otc-...</td>\n",
       "      <td>5ef5d28101e5b07bf9f7abf8fd51b391</td>\n",
       "      <td>[{'id': 57931444, 'job_id': 102557189, 'functi...</td>\n",
       "      <td>[{'id': 77196891, 'job_id': 102557189, 'indust...</td>\n",
       "      <td>[{'id': 1430430249, 'job_id': 102557189, 'crea...</td>\n",
       "    </tr>\n",
       "  </tbody>\n",
       "</table>\n",
       "<p>5 rows × 27 columns</p>\n",
       "</div>"
      ],
      "text/plain": [
       "           id              created         last_updated   time_posted   \n",
       "0    58112629  2022-04-18 18:40:28  2023-08-31 03:25:13    1 year ago  \\\n",
       "41  131482707  2023-03-23 02:47:04  2023-07-21 09:53:44  2 months ago   \n",
       "33  128591640  2023-03-08 19:43:04  2023-06-15 11:51:25    2 days ago   \n",
       "69  134769029  2023-03-30 21:38:59  2023-06-08 14:41:46   1 month ago   \n",
       "8   102557189  2022-11-30 23:45:01  2023-06-06 09:57:15  5 months ago   \n",
       "\n",
       "                                         title   \n",
       "0                         Software Developer I  \\\n",
       "41  Transportation Operations Project Engineer   \n",
       "33                  Analyst, Customer Accounts   \n",
       "69  Systems Analyst III - Hybrid work schedule   \n",
       "8                        SAP SD/OTC Consultant   \n",
       "\n",
       "                                          description         seniority   \n",
       "0   Software Developer I – Ohio\\n\\nReady to join a...       Entry level  \\\n",
       "41  What You Will Do\\n\\nGannett Fleming is looking...  Mid-Senior level   \n",
       "33  Solutions driven success.\\n\\nRXO brings togeth...  Mid-Senior level   \n",
       "69  Florida Power & Light Company  is America’s la...       Entry level   \n",
       "8   JOB Description: \\n\\n\\n • Strong functional un...  Mid-Senior level   \n",
       "\n",
       "   employment_type       location   \n",
       "0        Full-time   Columbus, OH  \\\n",
       "41       Full-time  Nashville, TN   \n",
       "33       Full-time  Charlotte, NC   \n",
       "69       Full-time    Hialeah, FL   \n",
       "8         Contract       Cary, NC   \n",
       "\n",
       "                                                  url  ... salary   \n",
       "0   https://www.linkedin.com/jobs/view/software-de...  ...   None  \\\n",
       "41  https://www.linkedin.com/jobs/view/transportat...  ...   None   \n",
       "33  https://www.linkedin.com/jobs/view/analyst-cus...  ...   None   \n",
       "69  https://www.linkedin.com/jobs/view/systems-ana...  ...   None   \n",
       "8   https://www.linkedin.com/jobs/view/sap-sd-otc-...  ...   None   \n",
       "\n",
       "                    applicants_count linkedin_job_id        country   \n",
       "0   Be among the first 25 applicants      3031594890  United States  \\\n",
       "41  Be among the first 25 applicants      3539500358  United States   \n",
       "33                     67 applicants      3513506477  United States   \n",
       "69  Be among the first 25 applicants      3498345449  United States   \n",
       "8   Be among the first 25 applicants      3374595362  United States   \n",
       "\n",
       "   last_updated_ux                                     redirected_url   \n",
       "0       1693452313  https://www.linkedin.com/jobs/view/software-de...  \\\n",
       "41      1689235944  https://www.linkedin.com/jobs/view/transportat...   \n",
       "33      1686023989  https://www.linkedin.com/jobs/view/analyst-cus...   \n",
       "69      1686064966  https://www.linkedin.com/jobs/view/systems-ana...   \n",
       "8       1685379238  https://www.linkedin.com/jobs/view/sap-sd-otc-...   \n",
       "\n",
       "                 redirected_url_hash   \n",
       "0   13bfacebdbb53ddc54fa56c99bf7ebdc  \\\n",
       "41  15b78e27f2e7bbad528637039d65b11e   \n",
       "33  93b8d173697cfb21e0d94332ee310255   \n",
       "69  274620e364c6905525136febedb288a7   \n",
       "8   5ef5d28101e5b07bf9f7abf8fd51b391   \n",
       "\n",
       "                             job_functions_collection   \n",
       "0   [{'id': 29121530, 'job_id': 58112629, 'functio...  \\\n",
       "41  [{'id': 84589493, 'job_id': 131482707, 'functi...   \n",
       "33  [{'id': 81970028, 'job_id': 128591640, 'functi...   \n",
       "69  [{'id': 87721648, 'job_id': 134769029, 'functi...   \n",
       "8   [{'id': 57931444, 'job_id': 102557189, 'functi...   \n",
       "\n",
       "                            job_industries_collection   \n",
       "0   [{'id': 35482858, 'job_id': 58112629, 'industr...  \\\n",
       "41  [{'id': 125858594, 'job_id': 131482707, 'indus...   \n",
       "33  [{'id': 118859288, 'job_id': 128591640, 'indus...   \n",
       "69  [{'id': 131089525, 'job_id': 134769029, 'indus...   \n",
       "8   [{'id': 77196891, 'job_id': 102557189, 'indust...   \n",
       "\n",
       "                            job_status_log_collection  \n",
       "0   [{'id': 618909385, 'job_id': 58112629, 'create...  \n",
       "41  [{'id': 1984529924, 'job_id': 131482707, 'crea...  \n",
       "33  [{'id': 1920915112, 'job_id': 128591640, 'crea...  \n",
       "69  [{'id': 2035906311, 'job_id': 134769029, 'crea...  \n",
       "8   [{'id': 1430430249, 'job_id': 102557189, 'crea...  \n",
       "\n",
       "[5 rows x 27 columns]"
      ]
     },
     "execution_count": 41,
     "metadata": {},
     "output_type": "execute_result"
    }
   ],
   "source": [
    "job_title = 'Junior Data Engineer'\n",
    "\n",
    "job_text = \"\"\"\n",
    "Rewrite following for job resume:\n",
    "Comprehensive analysis of customer experience in the ATM network through:\n",
    "- exploring data sources and search for insights;\n",
    "- data cleaning and processing;\n",
    "- development and deployment of datamarts;\n",
    "- calculation and control of product metrics;\n",
    "- collection and formalization of business requirements;\n",
    "- dashboards creation.\n",
    "\n",
    "\"\"\"\n",
    "\n",
    "\n",
    "\n",
    "job_title = 'Master Electrician'\n",
    "\n",
    "job_text = \"\"\"\n",
    "    Technical-minded electrician with XX years of experience installing, repairing, testing, and maintaining electrical systems, wiring, equipment, appliances, and fixtures. Skilled in diagnosing and replacing high-voltage electrical power lines, pole wiring, and underground lines. Adept in managing service calls, troubleshooting electrical systems, and resolving issues with equipment.Skilled in diagnosing and replacing high voltage electrical power lines, pole wiring, and underground lines; installing circuit breakers, transformers, stabilizers, generators, and distribution systems; capable of quickly understanding blueprints, schematics, and technical manuals\n",
    "    Adept in managing service calls, troubleshooting electrical systems, and resolving issues with equipment; setting-up home and business backup generators with auto transfer switches to ensure minimal downtime in a power outage; directing and training workers to install, maintain, or repair electrical wiring, equipment, and fixtures\n",
    "\"\"\"\n",
    "\n",
    "\n",
    "get_rec_from_scratch([job_title, job_text], weights=[0.5, 0.5], df_jobs=df_jobs, jobs_embeddings=job_emb, num_rec = 5)"
   ]
  },
  {
   "cell_type": "code",
   "execution_count": 14,
   "id": "6ce7a54c",
   "metadata": {},
   "outputs": [],
   "source": [
    "df_jobs =  pd.read_csv('data/li_jobs.zip')\n",
    "df_resumes = pd.read_csv('data/ResumeDataSet.csv')"
   ]
  },
  {
   "cell_type": "markdown",
   "id": "01178892",
   "metadata": {},
   "source": [
    "# TFidf vec"
   ]
  },
  {
   "cell_type": "code",
   "execution_count": 7,
   "id": "944267c2",
   "metadata": {},
   "outputs": [
    {
     "name": "stderr",
     "output_type": "stream",
     "text": [
      "[nltk_data] Downloading package stopwords to\n",
      "[nltk_data]     C:\\Users\\Катюня\\AppData\\Roaming\\nltk_data...\n",
      "[nltk_data]   Package stopwords is already up-to-date!\n"
     ]
    }
   ],
   "source": [
    "import nltk\n",
    "from nltk.corpus import stopwords\n",
    " \n",
    "nltk.download('stopwords')\n",
    "stop_words = stopwords.words('english')\n"
   ]
  },
  {
   "cell_type": "code",
   "execution_count": 8,
   "id": "65c56ad5",
   "metadata": {},
   "outputs": [],
   "source": [
    "corpus = df_jobs.description.values"
   ]
  },
  {
   "cell_type": "code",
   "execution_count": 9,
   "id": "e484efd9",
   "metadata": {},
   "outputs": [
    {
     "name": "stderr",
     "output_type": "stream",
     "text": [
      "C:\\Users\\Катюня\\PycharmProjects\\NLP_explore\\venv\\lib\\site-packages\\sklearn\\feature_extraction\\text.py:409: UserWarning: Your stop_words may be inconsistent with your preprocessing. Tokenizing the stop words generated tokens [\"'\"] not in stop_words.\n",
      "  warnings.warn(\n"
     ]
    }
   ],
   "source": [
    "from sklearn.feature_extraction.text import TfidfVectorizer\n",
    "\n",
    "\n",
    "vectorizer1 = TfidfVectorizer(ngram_range=(1,2),\n",
    "                             token_pattern=r\"(?u)\\b[\\w/.-]+\\b|!|/|\\?|\\\"|\\'\",\n",
    "                             stop_words=stop_words)\n",
    "\n",
    "vectorizer1.fit(corpus)\n",
    "\n",
    "vocab_df_valid = vectorizer1.get_feature_names_out()"
   ]
  },
  {
   "cell_type": "code",
   "execution_count": 10,
   "id": "79e86d93",
   "metadata": {},
   "outputs": [
    {
     "data": {
      "text/plain": [
       "array(['!', '! 140', '! 3', ..., '経験 sqlを用いた複雑なデータ抽出経験', '顧客分析を行い',\n",
       "       '顧客分析を行い 各種施策の支援'], dtype=object)"
      ]
     },
     "execution_count": 10,
     "metadata": {},
     "output_type": "execute_result"
    }
   ],
   "source": [
    "vocab_df_valid"
   ]
  },
  {
   "cell_type": "code",
   "execution_count": 12,
   "id": "53d0545a",
   "metadata": {},
   "outputs": [
    {
     "name": "stdout",
     "output_type": "stream",
     "text": [
      "length of vectorizer vocab is 35402\n"
     ]
    }
   ],
   "source": [
    "from sklearn.feature_extraction.text import TfidfVectorizer\n",
    "\n",
    "\n",
    "vectorizer1 = TfidfVectorizer(ngram_range=(1,2),\n",
    "                             token_pattern=r\"(?u)\\b[\\w/.-]+\\b|!|/|\\?|\\\"|\\'\",\n",
    "                             stop_words=stop_words)\n",
    "\n",
    "vectorizer1.fit(corpus)\n",
    "\n",
    "vocab_df_valid = vectorizer1.get_feature_names_out()\n",
    "\n",
    "\n",
    "vectorizer = TfidfVectorizer(ngram_range=(1,2),\n",
    "                             token_pattern=r\"(?u)\\b[\\w/.-]+\\b|!|/|\\?|\\\"|\\'\",\n",
    "                             stop_words=stop_words,\n",
    "                             vocabulary=vocab_df_valid)\n",
    "vectorizer.fit(corpus)\n",
    "corpus_tf_idf = vectorizer.transform(corpus)\n",
    "\n",
    "print(f\"length of vectorizer vocab is {len(vectorizer.get_feature_names_out())}\")\n"
   ]
  },
  {
   "cell_type": "code",
   "execution_count": 15,
   "id": "ef77fa2e",
   "metadata": {},
   "outputs": [],
   "source": [
    "resume_tf_idf = vectorizer.transform(df_resumes.Resume)"
   ]
  },
  {
   "cell_type": "code",
   "execution_count": 41,
   "id": "9b03bcf0",
   "metadata": {},
   "outputs": [
    {
     "data": {
      "text/plain": [
       "<100x35402 sparse matrix of type '<class 'numpy.float64'>'\n",
       "\twith 59615 stored elements in Compressed Sparse Row format>"
      ]
     },
     "execution_count": 41,
     "metadata": {},
     "output_type": "execute_result"
    }
   ],
   "source": [
    "corpus_tf_idf"
   ]
  },
  {
   "cell_type": "code",
   "execution_count": 23,
   "id": "dfe9e8ee",
   "metadata": {},
   "outputs": [
    {
     "data": {
      "text/plain": [
       "<962x100 sparse matrix of type '<class 'numpy.float64'>'\n",
       "\twith 94583 stored elements in Compressed Sparse Row format>"
      ]
     },
     "execution_count": 23,
     "metadata": {},
     "output_type": "execute_result"
    }
   ],
   "source": [
    "resume_tf_idf @ corpus_tf_idf.T"
   ]
  },
  {
   "cell_type": "code",
   "execution_count": 24,
   "id": "884e6cb2",
   "metadata": {},
   "outputs": [],
   "source": [
    "import unicodedata"
   ]
  },
  {
   "cell_type": "code",
   "execution_count": 27,
   "id": "ae8b6c56",
   "metadata": {},
   "outputs": [
    {
     "data": {
      "text/plain": [
       "0      Skills * Programming Languages: Python (pandas...\n",
       "1      Education Details \\r\\nMay 2013 to May 2017 B.E...\n",
       "2      Areas of Interest Deep Learning, Control Syste...\n",
       "3      Skills â¢ R â¢ Python â¢ SAP HANA â¢ Table...\n",
       "4      Education Details \\r\\n MCA   YMCAUST,  Faridab...\n",
       "                             ...                        \n",
       "957    Computer Skills: â¢ Proficient in MS office (...\n",
       "958    â Willingness to accept the challenges. â ...\n",
       "959    PERSONAL SKILLS â¢ Quick learner, â¢ Eagerne...\n",
       "960    COMPUTER SKILLS & SOFTWARE KNOWLEDGE MS-Power ...\n",
       "961    Skill Set OS Windows XP/7/8/8.1/10 Database MY...\n",
       "Name: Resume, Length: 962, dtype: object"
      ]
     },
     "execution_count": 27,
     "metadata": {},
     "output_type": "execute_result"
    }
   ],
   "source": [
    "df_resumes.Resume"
   ]
  },
  {
   "cell_type": "code",
   "execution_count": 39,
   "id": "a83b02f8",
   "metadata": {},
   "outputs": [
    {
     "data": {
      "text/plain": [
       "0      Skills Programming Languages Python pandas num...\n",
       "1      Education Details May 2013 to May 2017 B E UIT...\n",
       "2      Areas of Interest Deep Learning Control System...\n",
       "3      Skills â R â Python â SAP HANA â Tableau â SAP...\n",
       "4      Education Details MCA YMCAUST Faridabad Haryan...\n",
       "                             ...                        \n",
       "957    Computer Skills â Proficient in MS office Word...\n",
       "958    â Willingness to accept the challenges â Posit...\n",
       "959    PERSONAL SKILLS â Quick learner â Eagerness to...\n",
       "960    COMPUTER SKILLS SOFTWARE KNOWLEDGE MS Power Po...\n",
       "961    Skill Set OS Windows XP 7 8 8 1 10 Database MY...\n",
       "Name: Resume, Length: 962, dtype: object"
      ]
     },
     "execution_count": 39,
     "metadata": {},
     "output_type": "execute_result"
    }
   ],
   "source": [
    "import re\n",
    "df_resumes.Resume.map(lambda example: re.sub('[\\W]+', ' ', example))\n",
    "                                             "
   ]
  },
  {
   "cell_type": "code",
   "execution_count": null,
   "id": "48a645c3",
   "metadata": {},
   "outputs": [],
   "source": [
    "re s"
   ]
  }
 ],
 "metadata": {
  "kernelspec": {
   "display_name": "Python 3 (ipykernel)",
   "language": "python",
   "name": "python3"
  },
  "language_info": {
   "codemirror_mode": {
    "name": "ipython",
    "version": 3
   },
   "file_extension": ".py",
   "mimetype": "text/x-python",
   "name": "python",
   "nbconvert_exporter": "python",
   "pygments_lexer": "ipython3",
   "version": "3.10.10"
  }
 },
 "nbformat": 4,
 "nbformat_minor": 5
}
