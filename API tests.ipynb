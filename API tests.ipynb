{
 "cells": [
  {
   "cell_type": "code",
   "execution_count": 1,
   "id": "de69905d",
   "metadata": {},
   "outputs": [],
   "source": [
    "import pandas as pd\n",
    "import glob\n",
    "import requests\n",
    "\n",
    "pd.set_option('display.max_columns', None)"
   ]
  },
  {
   "cell_type": "code",
   "execution_count": 2,
   "id": "8bfc6d23",
   "metadata": {},
   "outputs": [],
   "source": [
    "token = 'zLahhwco.VI6tOnrC3OPihYT3LKUgQpbO5ik0T8TZ'\n",
    "\n",
    "url_jobs = 'https://api.forager.ai/v1/job_search/'\n",
    "url_orgs = ''\n",
    "url_locs = ''"
   ]
  },
  {
   "cell_type": "code",
   "execution_count": 54,
   "id": "f4919a88",
   "metadata": {},
   "outputs": [],
   "source": [
    "body = {\n",
    "    \"page\": 0,\n",
    "    \"job_source\": \"angellist\",\n",
    "    \"date_featured_start\": \"2023-12-01\",\n",
    "    #\"date_featured_end\": \"2024-01-10\",\n",
    "    #\"organization_ids\": [0],\n",
    "    \"title\": \"data engineer\",\n",
    "    #\"description\": \"string\",\n",
    "    #\"is_remote\": True,\n",
    "    \"is_active\": True,\n",
    "    #\"locations\": [0]\n",
    "}\n",
    "\n",
    "headers = {'X-API-KEY': token}\n",
    "\n",
    "r = requests.post(url_jobs, headers=headers, json=body)"
   ]
  },
  {
   "cell_type": "code",
   "execution_count": 55,
   "id": "579f9db9",
   "metadata": {},
   "outputs": [],
   "source": [
    "js = r.json()"
   ]
  },
  {
   "cell_type": "code",
   "execution_count": 56,
   "id": "b5a7e8f8",
   "metadata": {},
   "outputs": [
    {
     "data": {
      "text/html": [
       "<div>\n",
       "<style scoped>\n",
       "    .dataframe tbody tr th:only-of-type {\n",
       "        vertical-align: middle;\n",
       "    }\n",
       "\n",
       "    .dataframe tbody tr th {\n",
       "        vertical-align: top;\n",
       "    }\n",
       "\n",
       "    .dataframe thead th {\n",
       "        text-align: right;\n",
       "    }\n",
       "</style>\n",
       "<table border=\"1\" class=\"dataframe\">\n",
       "  <thead>\n",
       "    <tr style=\"text-align: right;\">\n",
       "      <th></th>\n",
       "      <th>id</th>\n",
       "      <th>source</th>\n",
       "      <th>date_featured</th>\n",
       "      <th>organization</th>\n",
       "      <th>source_id</th>\n",
       "      <th>url</th>\n",
       "      <th>title</th>\n",
       "      <th>description</th>\n",
       "      <th>is_remote</th>\n",
       "      <th>locations</th>\n",
       "      <th>is_active</th>\n",
       "    </tr>\n",
       "  </thead>\n",
       "  <tbody>\n",
       "    <tr>\n",
       "      <th>0</th>\n",
       "      <td>111982</td>\n",
       "      <td>angellist</td>\n",
       "      <td>2023-12-04</td>\n",
       "      <td>{'id': 3878957, 'name': 'Data AND Data - The i...</td>\n",
       "      <td>105518</td>\n",
       "      <td>https://angel.co/company/data-data/jobs/105518...</td>\n",
       "      <td>Data Engineer Intern</td>\n",
       "      <td>&lt;p&gt;We are looking for a developer to help us i...</td>\n",
       "      <td>False</td>\n",
       "      <td>[{'id': 306669, 'name': 'paris', 'osm_location...</td>\n",
       "      <td>True</td>\n",
       "    </tr>\n",
       "    <tr>\n",
       "      <th>1</th>\n",
       "      <td>681932114</td>\n",
       "      <td>angellist</td>\n",
       "      <td>2023-12-01</td>\n",
       "      <td>{'id': 13774592, 'name': 'Vannevar Labs', 'dom...</td>\n",
       "      <td>2727962</td>\n",
       "      <td>https://angel.co/company/vannevar-labs/jobs/27...</td>\n",
       "      <td>Data Operations Engineer</td>\n",
       "      <td>&lt;ul&gt;\\n&lt;li&gt;&lt;p&gt;Develop innovative solutions scra...</td>\n",
       "      <td>True</td>\n",
       "      <td>[]</td>\n",
       "      <td>False</td>\n",
       "    </tr>\n",
       "    <tr>\n",
       "      <th>2</th>\n",
       "      <td>731724947</td>\n",
       "      <td>angellist</td>\n",
       "      <td>2023-12-04</td>\n",
       "      <td>{'id': 26533580, 'name': 'Bloxy', 'domain': 'b...</td>\n",
       "      <td>2808218</td>\n",
       "      <td>https://angel.co/company/bitquery/jobs/2808218...</td>\n",
       "      <td>Data Quality Engineer</td>\n",
       "      <td>&lt;ul&gt;\\n&lt;li&gt;Design and implement data quality la...</td>\n",
       "      <td>True</td>\n",
       "      <td>[{'id': 1030756, 'name': 'paphos', 'osm_locati...</td>\n",
       "      <td>False</td>\n",
       "    </tr>\n",
       "    <tr>\n",
       "      <th>3</th>\n",
       "      <td>732527266</td>\n",
       "      <td>angellist</td>\n",
       "      <td>2023-12-02</td>\n",
       "      <td>{'id': 3669742, 'name': 'SproutsAI', 'domain':...</td>\n",
       "      <td>2284595</td>\n",
       "      <td>https://angel.co/company/sproutsai/jobs/228459...</td>\n",
       "      <td>Senior/Lead Data Engineer</td>\n",
       "      <td>&lt;p&gt;About the Role &lt;br&gt;\\nYou will be our Lead D...</td>\n",
       "      <td>True</td>\n",
       "      <td>[{'id': 22091, 'name': 'india', 'osm_locations...</td>\n",
       "      <td>True</td>\n",
       "    </tr>\n",
       "    <tr>\n",
       "      <th>4</th>\n",
       "      <td>760614447</td>\n",
       "      <td>angellist</td>\n",
       "      <td>2023-12-15</td>\n",
       "      <td>{'id': 22223142, 'name': 'Pagoda', 'domain': '...</td>\n",
       "      <td>2842787</td>\n",
       "      <td>https://angel.co/company/pagodaco/jobs/2842787...</td>\n",
       "      <td>Senior Search Engineer, Data Platform</td>\n",
       "      <td>&lt;ul&gt;\\n&lt;li&gt;Collaborate with a fully distributed...</td>\n",
       "      <td>True</td>\n",
       "      <td>[{'id': 50699, 'name': 'north america', 'osm_l...</td>\n",
       "      <td>True</td>\n",
       "    </tr>\n",
       "    <tr>\n",
       "      <th>5</th>\n",
       "      <td>770995369</td>\n",
       "      <td>angellist</td>\n",
       "      <td>2023-12-02</td>\n",
       "      <td>{'id': 60469820, 'name': 'Cedana', 'domain': '...</td>\n",
       "      <td>2854300</td>\n",
       "      <td>https://angel.co/company/cedana-ai/jobs/285430...</td>\n",
       "      <td>Linux OS - C/C++ Simulation and Data engineer</td>\n",
       "      <td>&lt;ul&gt;\\n&lt;li&gt;&lt;p&gt;You can code across the stack and...</td>\n",
       "      <td>True</td>\n",
       "      <td>[{'id': 342846, 'name': 'san francisco', 'osm_...</td>\n",
       "      <td>True</td>\n",
       "    </tr>\n",
       "    <tr>\n",
       "      <th>6</th>\n",
       "      <td>777497041</td>\n",
       "      <td>angellist</td>\n",
       "      <td>2023-12-03</td>\n",
       "      <td>{'id': 2917193, 'name': 'Aryng', 'domain': 'ar...</td>\n",
       "      <td>2862669</td>\n",
       "      <td>https://angel.co/company/aryng/jobs/2862669-sr...</td>\n",
       "      <td>Sr Data Engineer (Cloud) - Jaipur</td>\n",
       "      <td>&lt;ul&gt;\\n&lt;li&gt;Should have implement asynchronous d...</td>\n",
       "      <td>True</td>\n",
       "      <td>[{'id': 430903, 'name': 'bengaluru', 'osm_loca...</td>\n",
       "      <td>False</td>\n",
       "    </tr>\n",
       "    <tr>\n",
       "      <th>7</th>\n",
       "      <td>777497047</td>\n",
       "      <td>angellist</td>\n",
       "      <td>2023-12-01</td>\n",
       "      <td>{'id': 2917193, 'name': 'Aryng', 'domain': 'ar...</td>\n",
       "      <td>2862668</td>\n",
       "      <td>https://angel.co/company/aryng/jobs/2862668-sr...</td>\n",
       "      <td>Sr Data Engineer (Cloud) - Pune</td>\n",
       "      <td>&lt;ul&gt;\\n&lt;li&gt;Should have implement asynchronous d...</td>\n",
       "      <td>True</td>\n",
       "      <td>[{'id': 430903, 'name': 'bengaluru', 'osm_loca...</td>\n",
       "      <td>False</td>\n",
       "    </tr>\n",
       "    <tr>\n",
       "      <th>8</th>\n",
       "      <td>778062034</td>\n",
       "      <td>angellist</td>\n",
       "      <td>2023-12-15</td>\n",
       "      <td>{'id': 2267235, 'name': 'Clearmatics', 'domain...</td>\n",
       "      <td>2864715</td>\n",
       "      <td>https://angel.co/company/clearmatics/jobs/2864...</td>\n",
       "      <td>Senior Data Engineer - Blockchain, Ethereum</td>\n",
       "      <td>&lt;p&gt;ABOUT CLEARMATICS&lt;br&gt;\\nClearmatics is a blo...</td>\n",
       "      <td>True</td>\n",
       "      <td>[{'id': 317307, 'name': 'london', 'osm_locatio...</td>\n",
       "      <td>True</td>\n",
       "    </tr>\n",
       "    <tr>\n",
       "      <th>9</th>\n",
       "      <td>780362010</td>\n",
       "      <td>angellist</td>\n",
       "      <td>2024-01-05</td>\n",
       "      <td>{'id': 24028669, 'name': 'Garner Health', 'dom...</td>\n",
       "      <td>2866389</td>\n",
       "      <td>https://angel.co/company/garner-health/jobs/28...</td>\n",
       "      <td>Staff Data Engineer</td>\n",
       "      <td>&lt;ul&gt;\\n&lt;li&gt;Build and maintain data pipelines de...</td>\n",
       "      <td>True</td>\n",
       "      <td>[]</td>\n",
       "      <td>True</td>\n",
       "    </tr>\n",
       "  </tbody>\n",
       "</table>\n",
       "</div>"
      ],
      "text/plain": [
       "          id     source date_featured  \\\n",
       "0     111982  angellist    2023-12-04   \n",
       "1  681932114  angellist    2023-12-01   \n",
       "2  731724947  angellist    2023-12-04   \n",
       "3  732527266  angellist    2023-12-02   \n",
       "4  760614447  angellist    2023-12-15   \n",
       "5  770995369  angellist    2023-12-02   \n",
       "6  777497041  angellist    2023-12-03   \n",
       "7  777497047  angellist    2023-12-01   \n",
       "8  778062034  angellist    2023-12-15   \n",
       "9  780362010  angellist    2024-01-05   \n",
       "\n",
       "                                        organization  source_id  \\\n",
       "0  {'id': 3878957, 'name': 'Data AND Data - The i...     105518   \n",
       "1  {'id': 13774592, 'name': 'Vannevar Labs', 'dom...    2727962   \n",
       "2  {'id': 26533580, 'name': 'Bloxy', 'domain': 'b...    2808218   \n",
       "3  {'id': 3669742, 'name': 'SproutsAI', 'domain':...    2284595   \n",
       "4  {'id': 22223142, 'name': 'Pagoda', 'domain': '...    2842787   \n",
       "5  {'id': 60469820, 'name': 'Cedana', 'domain': '...    2854300   \n",
       "6  {'id': 2917193, 'name': 'Aryng', 'domain': 'ar...    2862669   \n",
       "7  {'id': 2917193, 'name': 'Aryng', 'domain': 'ar...    2862668   \n",
       "8  {'id': 2267235, 'name': 'Clearmatics', 'domain...    2864715   \n",
       "9  {'id': 24028669, 'name': 'Garner Health', 'dom...    2866389   \n",
       "\n",
       "                                                 url  \\\n",
       "0  https://angel.co/company/data-data/jobs/105518...   \n",
       "1  https://angel.co/company/vannevar-labs/jobs/27...   \n",
       "2  https://angel.co/company/bitquery/jobs/2808218...   \n",
       "3  https://angel.co/company/sproutsai/jobs/228459...   \n",
       "4  https://angel.co/company/pagodaco/jobs/2842787...   \n",
       "5  https://angel.co/company/cedana-ai/jobs/285430...   \n",
       "6  https://angel.co/company/aryng/jobs/2862669-sr...   \n",
       "7  https://angel.co/company/aryng/jobs/2862668-sr...   \n",
       "8  https://angel.co/company/clearmatics/jobs/2864...   \n",
       "9  https://angel.co/company/garner-health/jobs/28...   \n",
       "\n",
       "                                           title  \\\n",
       "0                           Data Engineer Intern   \n",
       "1                       Data Operations Engineer   \n",
       "2                          Data Quality Engineer   \n",
       "3                      Senior/Lead Data Engineer   \n",
       "4          Senior Search Engineer, Data Platform   \n",
       "5  Linux OS - C/C++ Simulation and Data engineer   \n",
       "6              Sr Data Engineer (Cloud) - Jaipur   \n",
       "7                Sr Data Engineer (Cloud) - Pune   \n",
       "8    Senior Data Engineer - Blockchain, Ethereum   \n",
       "9                            Staff Data Engineer   \n",
       "\n",
       "                                         description  is_remote  \\\n",
       "0  <p>We are looking for a developer to help us i...      False   \n",
       "1  <ul>\\n<li><p>Develop innovative solutions scra...       True   \n",
       "2  <ul>\\n<li>Design and implement data quality la...       True   \n",
       "3  <p>About the Role <br>\\nYou will be our Lead D...       True   \n",
       "4  <ul>\\n<li>Collaborate with a fully distributed...       True   \n",
       "5  <ul>\\n<li><p>You can code across the stack and...       True   \n",
       "6  <ul>\\n<li>Should have implement asynchronous d...       True   \n",
       "7  <ul>\\n<li>Should have implement asynchronous d...       True   \n",
       "8  <p>ABOUT CLEARMATICS<br>\\nClearmatics is a blo...       True   \n",
       "9  <ul>\\n<li>Build and maintain data pipelines de...       True   \n",
       "\n",
       "                                           locations  is_active  \n",
       "0  [{'id': 306669, 'name': 'paris', 'osm_location...       True  \n",
       "1                                                 []      False  \n",
       "2  [{'id': 1030756, 'name': 'paphos', 'osm_locati...      False  \n",
       "3  [{'id': 22091, 'name': 'india', 'osm_locations...       True  \n",
       "4  [{'id': 50699, 'name': 'north america', 'osm_l...       True  \n",
       "5  [{'id': 342846, 'name': 'san francisco', 'osm_...       True  \n",
       "6  [{'id': 430903, 'name': 'bengaluru', 'osm_loca...      False  \n",
       "7  [{'id': 430903, 'name': 'bengaluru', 'osm_loca...      False  \n",
       "8  [{'id': 317307, 'name': 'london', 'osm_locatio...       True  \n",
       "9                                                 []       True  "
      ]
     },
     "execution_count": 56,
     "metadata": {},
     "output_type": "execute_result"
    }
   ],
   "source": [
    "pd.DataFrame(js['search_results'])#.to_excel('api_manager.xlsx', index=False)"
   ]
  },
  {
   "cell_type": "code",
   "execution_count": 59,
   "id": "4aa87777",
   "metadata": {},
   "outputs": [
    {
     "data": {
      "text/plain": [
       "10"
      ]
     },
     "execution_count": 59,
     "metadata": {},
     "output_type": "execute_result"
    }
   ],
   "source": [
    "len(js['search_results'])"
   ]
  },
  {
   "cell_type": "markdown",
   "id": "d97eadcd",
   "metadata": {},
   "source": [
    "# LinkedIn scraper"
   ]
  },
  {
   "cell_type": "code",
   "execution_count": 61,
   "id": "f0711235",
   "metadata": {
    "scrolled": true
   },
   "outputs": [
    {
     "name": "stdout",
     "output_type": "stream",
     "text": [
      "Collecting linkedin_scraperNote: you may need to restart the kernel to use updated packages.\n",
      "\n",
      "  Downloading linkedin_scraper-2.11.2-py3-none-any.whl.metadata (10 kB)\n",
      "Requirement already satisfied: lxml in c:\\users\\vyacheslav\\pycharmprojects\\cv_projects\\venv\\lib\\site-packages (from linkedin_scraper) (4.9.1)\n",
      "Requirement already satisfied: requests in c:\\users\\vyacheslav\\pycharmprojects\\cv_projects\\venv\\lib\\site-packages (from linkedin_scraper) (2.31.0)\n",
      "Requirement already satisfied: selenium in c:\\users\\vyacheslav\\pycharmprojects\\cv_projects\\venv\\lib\\site-packages (from linkedin_scraper) (4.16.0)\n",
      "Requirement already satisfied: charset-normalizer<4,>=2 in c:\\users\\vyacheslav\\pycharmprojects\\cv_projects\\venv\\lib\\site-packages (from requests->linkedin_scraper) (3.3.2)\n",
      "Requirement already satisfied: idna<4,>=2.5 in c:\\users\\vyacheslav\\pycharmprojects\\cv_projects\\venv\\lib\\site-packages (from requests->linkedin_scraper) (3.6)\n",
      "Requirement already satisfied: urllib3<3,>=1.21.1 in c:\\users\\vyacheslav\\pycharmprojects\\cv_projects\\venv\\lib\\site-packages (from requests->linkedin_scraper) (1.26.18)\n",
      "Requirement already satisfied: certifi>=2017.4.17 in c:\\users\\vyacheslav\\pycharmprojects\\cv_projects\\venv\\lib\\site-packages (from requests->linkedin_scraper) (2023.11.17)\n",
      "Requirement already satisfied: trio~=0.17 in c:\\users\\vyacheslav\\pycharmprojects\\cv_projects\\venv\\lib\\site-packages (from selenium->linkedin_scraper) (0.23.2)\n",
      "Requirement already satisfied: trio-websocket~=0.9 in c:\\users\\vyacheslav\\pycharmprojects\\cv_projects\\venv\\lib\\site-packages (from selenium->linkedin_scraper) (0.11.1)\n",
      "Requirement already satisfied: attrs>=20.1.0 in c:\\users\\vyacheslav\\pycharmprojects\\cv_projects\\venv\\lib\\site-packages (from trio~=0.17->selenium->linkedin_scraper) (23.2.0)\n",
      "Requirement already satisfied: sortedcontainers in c:\\users\\vyacheslav\\pycharmprojects\\cv_projects\\venv\\lib\\site-packages (from trio~=0.17->selenium->linkedin_scraper) (2.4.0)\n",
      "Requirement already satisfied: outcome in c:\\users\\vyacheslav\\pycharmprojects\\cv_projects\\venv\\lib\\site-packages (from trio~=0.17->selenium->linkedin_scraper) (1.3.0.post0)\n",
      "Requirement already satisfied: sniffio>=1.3.0 in c:\\users\\vyacheslav\\pycharmprojects\\cv_projects\\venv\\lib\\site-packages (from trio~=0.17->selenium->linkedin_scraper) (1.3.0)\n",
      "Requirement already satisfied: cffi>=1.14 in c:\\users\\vyacheslav\\pycharmprojects\\cv_projects\\venv\\lib\\site-packages (from trio~=0.17->selenium->linkedin_scraper) (1.15.1)\n",
      "Requirement already satisfied: exceptiongroup in c:\\users\\vyacheslav\\pycharmprojects\\cv_projects\\venv\\lib\\site-packages (from trio~=0.17->selenium->linkedin_scraper) (1.2.0)\n",
      "Requirement already satisfied: wsproto>=0.14 in c:\\users\\vyacheslav\\pycharmprojects\\cv_projects\\venv\\lib\\site-packages (from trio-websocket~=0.9->selenium->linkedin_scraper) (1.2.0)\n",
      "Requirement already satisfied: PySocks!=1.5.7,<2.0,>=1.5.6 in c:\\users\\vyacheslav\\pycharmprojects\\cv_projects\\venv\\lib\\site-packages (from urllib3[socks]<3,>=1.26->selenium->linkedin_scraper) (1.7.1)\n",
      "Requirement already satisfied: pycparser in c:\\users\\vyacheslav\\pycharmprojects\\cv_projects\\venv\\lib\\site-packages (from cffi>=1.14->trio~=0.17->selenium->linkedin_scraper) (2.21)\n",
      "Requirement already satisfied: h11<1,>=0.9.0 in c:\\users\\vyacheslav\\pycharmprojects\\cv_projects\\venv\\lib\\site-packages (from wsproto>=0.14->trio-websocket~=0.9->selenium->linkedin_scraper) (0.14.0)\n",
      "Downloading linkedin_scraper-2.11.2-py3-none-any.whl (28 kB)\n",
      "Installing collected packages: linkedin_scraper\n",
      "Successfully installed linkedin_scraper-2.11.2\n"
     ]
    }
   ],
   "source": [
    "#pip install linkedin_scraper"
   ]
  },
  {
   "cell_type": "code",
   "execution_count": 3,
   "id": "289cb0d2",
   "metadata": {},
   "outputs": [],
   "source": [
    "from linkedin_scraper import Person, actions"
   ]
  },
  {
   "cell_type": "code",
   "execution_count": 76,
   "id": "e874d7bb",
   "metadata": {},
   "outputs": [],
   "source": [
    "from linkedin_scraper import Person, actions\n",
    "from selenium import webdriver\n",
    "#driver = webdriver.Chrome()\n",
    "\n",
    "\n",
    "from seleniumbase import Driver\n",
    "\n",
    "\n",
    "driver = Driver(uc=True)\n",
    "\n",
    "\n",
    "email = \"baltamos@yandex.ru\"\n",
    "password = \"Brt,erehj\"\n",
    "actions.login(driver, email, password) # if email and password isnt given, it'll prompt in terminal\n",
    "#person = Person(\"https://www.linkedin.com/in/vyacheslav-muzhichenko-8a1588109\", driver=driver)"
   ]
  },
  {
   "cell_type": "code",
   "execution_count": 65,
   "id": "b37ab68d",
   "metadata": {
    "scrolled": true
   },
   "outputs": [
    {
     "ename": "AttributeError",
     "evalue": "'WebElement' object has no attribute 'find_element_by_class_name'",
     "output_type": "error",
     "traceback": [
      "\u001b[1;31m---------------------------------------------------------------------------\u001b[0m",
      "\u001b[1;31mAttributeError\u001b[0m                            Traceback (most recent call last)",
      "Cell \u001b[1;32mIn [65], line 21\u001b[0m\n\u001b[0;32m     15\u001b[0m job_search \u001b[38;5;241m=\u001b[39m JobSearch(driver\u001b[38;5;241m=\u001b[39mdriver, close_on_complete\u001b[38;5;241m=\u001b[39m\u001b[38;5;28;01mFalse\u001b[39;00m, scrape\u001b[38;5;241m=\u001b[39m\u001b[38;5;28;01mFalse\u001b[39;00m)\n\u001b[0;32m     16\u001b[0m \u001b[38;5;66;03m# job_search contains jobs from your logged in front page:\u001b[39;00m\n\u001b[0;32m     17\u001b[0m \u001b[38;5;66;03m# - job_search.recommended_jobs\u001b[39;00m\n\u001b[0;32m     18\u001b[0m \u001b[38;5;66;03m# - job_search.still_hiring\u001b[39;00m\n\u001b[0;32m     19\u001b[0m \u001b[38;5;66;03m# - job_search.more_jobs\u001b[39;00m\n\u001b[1;32m---> 21\u001b[0m job_listings \u001b[38;5;241m=\u001b[39m \u001b[43mjob_search\u001b[49m\u001b[38;5;241;43m.\u001b[39;49m\u001b[43msearch\u001b[49m\u001b[43m(\u001b[49m\u001b[38;5;124;43m\"\u001b[39;49m\u001b[38;5;124;43mMachine Learning Engineer\u001b[39;49m\u001b[38;5;124;43m\"\u001b[39;49m\u001b[43m)\u001b[49m\n",
      "File \u001b[1;32m~\\PycharmProjects\\CV_projects\\venv\\lib\\site-packages\\linkedin_scraper\\job_search.py:89\u001b[0m, in \u001b[0;36mJobSearch.search\u001b[1;34m(self, search_term)\u001b[0m\n\u001b[0;32m     87\u001b[0m job_results \u001b[38;5;241m=\u001b[39m []\n\u001b[0;32m     88\u001b[0m \u001b[38;5;28;01mfor\u001b[39;00m job_card \u001b[38;5;129;01min\u001b[39;00m \u001b[38;5;28mself\u001b[39m\u001b[38;5;241m.\u001b[39mwait_for_all_elements_to_load(name\u001b[38;5;241m=\u001b[39m\u001b[38;5;124m\"\u001b[39m\u001b[38;5;124mjob-card-list\u001b[39m\u001b[38;5;124m\"\u001b[39m, base\u001b[38;5;241m=\u001b[39mjob_listing):\n\u001b[1;32m---> 89\u001b[0m     job \u001b[38;5;241m=\u001b[39m \u001b[38;5;28;43mself\u001b[39;49m\u001b[38;5;241;43m.\u001b[39;49m\u001b[43mscrape_job_card\u001b[49m\u001b[43m(\u001b[49m\u001b[43mjob_card\u001b[49m\u001b[43m)\u001b[49m\n\u001b[0;32m     90\u001b[0m     job_results\u001b[38;5;241m.\u001b[39mappend(job)\n\u001b[0;32m     91\u001b[0m \u001b[38;5;28;01mreturn\u001b[39;00m job_results\n",
      "File \u001b[1;32m~\\PycharmProjects\\CV_projects\\venv\\lib\\site-packages\\linkedin_scraper\\job_search.py:39\u001b[0m, in \u001b[0;36mJobSearch.scrape_job_card\u001b[1;34m(self, base_element)\u001b[0m\n\u001b[0;32m     37\u001b[0m job_title \u001b[38;5;241m=\u001b[39m job_div\u001b[38;5;241m.\u001b[39mtext\u001b[38;5;241m.\u001b[39mstrip()\n\u001b[0;32m     38\u001b[0m linkedin_url \u001b[38;5;241m=\u001b[39m job_div\u001b[38;5;241m.\u001b[39mget_attribute(\u001b[38;5;124m\"\u001b[39m\u001b[38;5;124mhref\u001b[39m\u001b[38;5;124m\"\u001b[39m)\n\u001b[1;32m---> 39\u001b[0m company \u001b[38;5;241m=\u001b[39m \u001b[43mbase_element\u001b[49m\u001b[38;5;241;43m.\u001b[39;49m\u001b[43mfind_element_by_class_name\u001b[49m(\u001b[38;5;124m\"\u001b[39m\u001b[38;5;124martdeco-entity-lockup__subtitle\u001b[39m\u001b[38;5;124m\"\u001b[39m)\u001b[38;5;241m.\u001b[39mtext\n\u001b[0;32m     40\u001b[0m location \u001b[38;5;241m=\u001b[39m base_element\u001b[38;5;241m.\u001b[39mfind_element_by_class_name(\u001b[38;5;124m\"\u001b[39m\u001b[38;5;124mjob-card-container__metadata-wrapper\u001b[39m\u001b[38;5;124m\"\u001b[39m)\u001b[38;5;241m.\u001b[39mtext\n\u001b[0;32m     41\u001b[0m job \u001b[38;5;241m=\u001b[39m Job(linkedin_url\u001b[38;5;241m=\u001b[39mlinkedin_url, job_title\u001b[38;5;241m=\u001b[39mjob_title, company\u001b[38;5;241m=\u001b[39mcompany, location\u001b[38;5;241m=\u001b[39mlocation, scrape\u001b[38;5;241m=\u001b[39m\u001b[38;5;28;01mFalse\u001b[39;00m, driver\u001b[38;5;241m=\u001b[39m\u001b[38;5;28mself\u001b[39m\u001b[38;5;241m.\u001b[39mdriver)\n",
      "\u001b[1;31mAttributeError\u001b[0m: 'WebElement' object has no attribute 'find_element_by_class_name'"
     ]
    }
   ],
   "source": [
    "from linkedin_scraper import JobSearch, actions\n",
    "from selenium import webdriver\n",
    "import sys\n",
    "from webdriver_manager.chrome import ChromeDriverManager\n",
    "path = ChromeDriverManager().install()\n",
    "sys.path.append(path)\n",
    "\n",
    "cService = webdriver.ChromeService(executable_path=path)\n",
    "driver = webdriver.Chrome(service = cService)\n",
    "\n",
    "email = \"\"\n",
    "password = \"\"\n",
    "actions.login(driver, email, password) # if email and password isnt given, it'll prompt in terminal\n",
    "#input(\"Press Enter\")\n",
    "job_search = JobSearch(driver=driver, close_on_complete=False, scrape=False)\n",
    "# job_search contains jobs from your logged in front page:\n",
    "# - job_search.recommended_jobs\n",
    "# - job_search.still_hiring\n",
    "# - job_search.more_jobs\n",
    "\n",
    "job_listings = job_search.search(\"Machine Learning Engineer\") "
   ]
  },
  {
   "cell_type": "code",
   "execution_count": 5,
   "id": "6c597947",
   "metadata": {},
   "outputs": [],
   "source": [
    "from linkedin_scraper import JobSearch, actions\n",
    "\n",
    "job_search = JobSearch(driver=driver, close_on_complete=False, scrape=False)\n",
    "# job_search contains jobs from your logged in front page:\n",
    "# - job_search.recommended_jobs\n",
    "# - job_search.still_hiring\n",
    "# - job_search.more_jobs\n",
    "\n",
    "job_listings = job_search.search(\"Machine Learning Engineer\") "
   ]
  },
  {
   "cell_type": "code",
   "execution_count": 6,
   "id": "45a34429",
   "metadata": {},
   "outputs": [
    {
     "data": {
      "text/plain": [
       "[<Job ML Engineer RecSyS Uzum>,\n",
       " <Job Full Stack Engineer Investing.com>,\n",
       " <Job Lead Software Engineer (Bangkok based – Relocation provided) Agoda>,\n",
       " <Job Staff/ Lead Software Engineer (FinTech) [Bangkok based – Relocation provided] Agoda>,\n",
       " <Job Senior Software Engineer B2Broker - Liquidity & Technology Provider>,\n",
       " <Job Lead / Staff Software Engineer Back End (Bangkok based – Relocation provided) Agoda>,\n",
       " <Job Lead / Staff Full Stack Software Engineer (Bangkok based, relocation provided) Agoda>,\n",
       " <Job Middle Backend Python Developer ARS Smart Robotics>,\n",
       " <Job Senior Data Engineer Playrix>,\n",
       " <Job Lead / Staff Software Engineer Back End (Bangkok based – Relocation provided) Agoda>,\n",
       " <Job DevOps Engineer Persona.ly>,\n",
       " <Job Staff/ Lead Software Engineer (FinTech) [Bangkok based – Relocation provided] Agoda>,\n",
       " <Job ServiceNow ITSM Developer JSS ASSOCIATES>,\n",
       " <Job Machine Learning Engineer Jumio Corporation>,\n",
       " <Job Machine Learning Engineer Jumio Corporation>,\n",
       " <Job Site Reliability Engineer Artificial Intelligence & Machine Learning Rexus Group>,\n",
       " <Job Senior C++ Developer (Technical) Playrix>,\n",
       " <Job Senior C++ Developer (Technology) Playrix>,\n",
       " <Job Lead Software Engineer (Bangkok based – Relocation provided) Agoda>,\n",
       " <Job Principal Software Engineer Back End (Bangkok based – Relocation provided) Agoda>,\n",
       " <Job Principal Software Engineer Back End (Bangkok based – Relocation provided) Agoda>,\n",
       " <Job Lead/Staff Software Engineer – Front End (Bangkok based – Relocation provided) Agoda>,\n",
       " <Job Senior Data Analyst (Flights team, Bangkok-based, Relocation provided) Agoda>,\n",
       " <Job DevOps Engineer Discovered MENA>,\n",
       " <Job Full Stack Engineer Investing.com>]"
      ]
     },
     "execution_count": 6,
     "metadata": {},
     "output_type": "execute_result"
    }
   ],
   "source": [
    "job_listings"
   ]
  },
  {
   "cell_type": "code",
   "execution_count": 62,
   "id": "e1da125e",
   "metadata": {},
   "outputs": [],
   "source": [
    "from selenium.common.exceptions import TimeoutException\n",
    "\n",
    "from linkedin_scraper import Job, constants as c\n",
    "from linkedin_scraper.objects import Scraper\n",
    "from selenium.webdriver.common.by import By\n",
    "from selenium.webdriver.support.wait import WebDriverWait\n",
    "from selenium.webdriver.support import expected_conditions as EC\n",
    "\n",
    "\n",
    "class Job(Scraper):\n",
    "\n",
    "    def __init__(\n",
    "        self,\n",
    "        linkedin_url=None,\n",
    "        job_title=None,\n",
    "        company=None,\n",
    "        company_linkedin_url=None,\n",
    "        location=None,\n",
    "        posted_date=None,\n",
    "        applicant_count=None,\n",
    "        job_description=None,\n",
    "        benefits=None,\n",
    "        driver=None,\n",
    "        close_on_complete=True,\n",
    "        scrape=True,\n",
    "    ):\n",
    "        super().__init__()\n",
    "        self.linkedin_url = linkedin_url\n",
    "        self.job_title = job_title\n",
    "        self.driver = driver\n",
    "        self.company = company\n",
    "        self.company_linkedin_url = company_linkedin_url\n",
    "        self.location = location\n",
    "        self.posted_date = posted_date\n",
    "        self.applicant_count = applicant_count\n",
    "        self.job_description = job_description\n",
    "        self.benefits = benefits\n",
    "\n",
    "        if scrape:\n",
    "            self.scrape(close_on_complete)\n",
    "\n",
    "    def __repr__(self):\n",
    "        return f\"<Job {self.job_title} {self.company}>\"\n",
    "\n",
    "    def scrape(self, close_on_complete=True):\n",
    "        if self.is_signed_in():\n",
    "            self.scrape_logged_in(close_on_complete=close_on_complete)\n",
    "        else:\n",
    "            raise NotImplemented(\"This part is not implemented yet\")\n",
    "\n",
    "    def to_dict(self):\n",
    "        return {\n",
    "            \"linkedin_url\": self.linkedin_url,\n",
    "            \"job_title\": self.job_title,\n",
    "            \"company\": self.company,\n",
    "            \"company_linkedin_url\": self.company_linkedin_url,\n",
    "            \"location\": self.location,\n",
    "            \"posted_date\": self.posted_date,\n",
    "            \"applicant_count\": self.applicant_count,\n",
    "            \"job_description\": self.job_description,\n",
    "            \"benefits\": self.benefits\n",
    "        }\n",
    "\n",
    "\n",
    "    def scrape_logged_in(self, close_on_complete=False):\n",
    "        driver = self.driver\n",
    "\n",
    "        driver.get(self.linkedin_url) \n",
    "        self.focus()\n",
    "        if self.job_title is None:\n",
    "            self.job_title = self.wait_for_element_to_load(name=\"job-details-jobs-unified-top-card__job-title\").text.strip()\n",
    "        if self.company is None:\n",
    "            self.company = self.wait_for_element_to_load(name=\"job-details-jobs-unified-top-card__primary-description-without-tagline\").find_element(By.TAG_NAME, \"a\").text.strip()\n",
    "        if self.company_linkedin_url is None:\n",
    "            self.company_linkedin_url = self.wait_for_element_to_load(name=\"job-details-jobs-unified-top-card__primary-description-without-tagline\").find_element(By.TAG_NAME, \"a\").get_attribute(\"href\")\n",
    "        if self.location is None:\n",
    "            self.location = self.wait_for_element_to_load(name=\"job-details-jobs-unified-top-card__primary-description-without-tagline\").text.strip()\n",
    "        #self.posted_date = self.wait_for_element_to_load(name=\"job-details-jobs-unified-top-card__posted-date\").text.strip()\n",
    "#         try:\n",
    "#             self.applicant_count = self.wait_for_element_to_load(name=\"job-details-jobs-unified-top-card__applicant-count\").text.strip()\n",
    "#         except TimeoutException:\n",
    "#             self.applicant_count = 0\n",
    "        job_description_elem = self.wait_for_element_to_load(name=\"jobs-description\")\n",
    "        self.mouse_click(job_description_elem.find_element(By.TAG_NAME, \"button\"))\n",
    "        job_description_elem = self.wait_for_element_to_load(name=\"jobs-description\")\n",
    "        job_description_elem.find_element(By.TAG_NAME, \"button\").click()\n",
    "        self.job_description = job_description_elem.find_element(By.ID, \"job-details\").text.strip()\n",
    "        try:\n",
    "            self.benefits = self.wait_for_element_to_load(name=\"jobs-unified-description__salary-main-rail-card\").text.strip()\n",
    "        except TimeoutException:\n",
    "            self.benefits = None\n",
    "\n",
    "        if close_on_complete:\n",
    "            driver.close()\n"
   ]
  },
  {
   "cell_type": "code",
   "execution_count": 65,
   "id": "fe0e96ec",
   "metadata": {},
   "outputs": [],
   "source": [
    "import os\n",
    "from typing import List\n",
    "from time import sleep\n",
    "import urllib.parse\n",
    "\n",
    "#from linkedin_scraper import Job, constants as c\n",
    "from linkedin_scraper.objects import Scraper\n",
    "\n",
    "from selenium.webdriver.common.by import By\n",
    "from selenium.webdriver.support.wait import WebDriverWait\n",
    "from selenium.webdriver.support import expected_conditions as EC\n",
    "from selenium.webdriver.common.keys import Keys\n",
    "\n",
    "\n",
    "class JobSearch(Scraper):\n",
    "    AREAS = [\"recommended_jobs\", None, \"still_hiring\", \"more_jobs\"]\n",
    "\n",
    "    def __init__(self, driver, base_url=\"https://www.linkedin.com/jobs/\", close_on_complete=False, scrape=True, scrape_recommended_jobs=True):\n",
    "        super().__init__()\n",
    "        self.driver = driver\n",
    "        self.base_url = base_url\n",
    "\n",
    "        if scrape:\n",
    "            self.scrape(close_on_complete, scrape_recommended_jobs)\n",
    "\n",
    "\n",
    "    def scrape(self, close_on_complete=True, scrape_recommended_jobs=True):\n",
    "        if self.is_signed_in():\n",
    "            self.scrape_logged_in(close_on_complete=close_on_complete, scrape_recommended_jobs=scrape_recommended_jobs)\n",
    "        else:\n",
    "            raise NotImplemented(\"This part is not implemented yet\")\n",
    "\n",
    "\n",
    "    def scrape_job_card(self, base_element) -> Job:\n",
    "        job_div = driver.find_element(By.CLASS_NAME, \"job-card-list__entity-lockup\")\n",
    "        job_title = job_div.find_element(By.CLASS_NAME, \"artdeco-entity-lockup__title\").text.strip()\n",
    "        linkedin_url = job_div.find_element(By.TAG_NAME, \"a\").get_attribute(\"href\")\n",
    "        company = base_element.find_element(By.CLASS_NAME, \"job-card-container__primary-description\").text\n",
    "        location = base_element.find_element(By.CLASS_NAME, \"job-card-container__metadata-item\").text\n",
    "        job = Job(linkedin_url=linkedin_url, job_title=job_title, company=company, location=location, scrape=True, driver=self.driver)\n",
    "        return job\n",
    "\n",
    "\n",
    "    def scrape_logged_in(self, close_on_complete=True, scrape_recommended_jobs=True):\n",
    "        driver = self.driver\n",
    "        driver.get(self.base_url)\n",
    "        if scrape_recommended_jobs:\n",
    "            self.focus()\n",
    "            sleep(self.WAIT_FOR_ELEMENT_TIMEOUT)\n",
    "            job_area = self.wait_for_element_to_load(name=\"scaffold-finite-scroll__content\")\n",
    "            areas = self.wait_for_all_elements_to_load(name=\"artdeco-card\", base=job_area)\n",
    "            for i, area in enumerate(areas):\n",
    "                area_name = self.AREAS[i]\n",
    "                if not area_name:\n",
    "                    continue\n",
    "                area_results = []\n",
    "                for job_posting in area.find_element(By.CLASS_NAME, \"jobs-job-board-list__item\"):\n",
    "                    job = self.scrape_job_card(job_posting)\n",
    "                    area_results.append(job)\n",
    "                setattr(self, area_name, area_results)\n",
    "        return\n",
    "\n",
    "\n",
    "    def search(self, search_term: str) -> List[Job]:\n",
    "        url = os.path.join(self.base_url, \"search\") + f\"?keywords={urllib.parse.quote(search_term)}&refresh=true\"\n",
    "        self.driver.get(url)\n",
    "        self.scroll_to_bottom()\n",
    "        self.focus()\n",
    "        sleep(self.WAIT_FOR_ELEMENT_TIMEOUT)\n",
    "\n",
    "        job_listing_class_name = \"jobs-search-results-list\"\n",
    "        job_listing = self.wait_for_element_to_load(name=job_listing_class_name)\n",
    "\n",
    "        self.scroll_class_name_element_to_page_percent(job_listing_class_name, 0.3)\n",
    "        self.focus()\n",
    "        sleep(self.WAIT_FOR_ELEMENT_TIMEOUT)\n",
    "\n",
    "        self.scroll_class_name_element_to_page_percent(job_listing_class_name, 0.6)\n",
    "        self.focus()\n",
    "        sleep(self.WAIT_FOR_ELEMENT_TIMEOUT)\n",
    "\n",
    "        self.scroll_class_name_element_to_page_percent(job_listing_class_name, 1)\n",
    "        self.focus()\n",
    "        sleep(self.WAIT_FOR_ELEMENT_TIMEOUT)\n",
    "\n",
    "        job_results = []\n",
    "        for job_card in self.wait_for_all_elements_to_load(name=\"job-card-list\", base=job_listing):\n",
    "            job = self.scrape_job_card(job_card)\n",
    "            job_results.append(job)\n",
    "        return job_results"
   ]
  },
  {
   "cell_type": "code",
   "execution_count": 66,
   "id": "42ad5103",
   "metadata": {
    "scrolled": true
   },
   "outputs": [
    {
     "ename": "InvalidSessionIdException",
     "evalue": "Message: invalid session id\nStacktrace:\n\tGetHandleVerifier [0x00007FF6EA602142+3514994]\n\t(No symbol) [0x00007FF6EA220CE2]\n\t(No symbol) [0x00007FF6EA0C74C3]\n\t(No symbol) [0x00007FF6EA10412A]\n\t(No symbol) [0x00007FF6EA135EC9]\n\t(No symbol) [0x00007FF6EA12ECA2]\n\t(No symbol) [0x00007FF6EA12E5E3]\n\t(No symbol) [0x00007FF6EA096315]\n\tGetHandleVerifier [0x00007FF6EA62E16B+3695259]\n\tGetHandleVerifier [0x00007FF6EA686737+4057191]\n\tGetHandleVerifier [0x00007FF6EA67E4E3+4023827]\n\tGetHandleVerifier [0x00007FF6EA3504F9+689705]\n\t(No symbol) [0x00007FF6EA22C048]\n\t(No symbol) [0x00007FF6EA095103]\n\tGetHandleVerifier [0x00007FF6EA6CE958+4352648]\n\tBaseThreadInitThunk [0x00007FFE3A357344+20]\n\tRtlUserThreadStart [0x00007FFE3B1626B1+33]\n",
     "output_type": "error",
     "traceback": [
      "\u001b[1;31m---------------------------------------------------------------------------\u001b[0m",
      "\u001b[1;31mInvalidSessionIdException\u001b[0m                 Traceback (most recent call last)",
      "Cell \u001b[1;32mIn[66], line 7\u001b[0m\n\u001b[0;32m      1\u001b[0m job_search \u001b[38;5;241m=\u001b[39m JobSearch(driver\u001b[38;5;241m=\u001b[39mdriver, close_on_complete\u001b[38;5;241m=\u001b[39m\u001b[38;5;28;01mFalse\u001b[39;00m, scrape\u001b[38;5;241m=\u001b[39m\u001b[38;5;28;01mFalse\u001b[39;00m)\n\u001b[0;32m      2\u001b[0m \u001b[38;5;66;03m# job_search contains jobs from your logged in front page:\u001b[39;00m\n\u001b[0;32m      3\u001b[0m \u001b[38;5;66;03m# - job_search.recommended_jobs\u001b[39;00m\n\u001b[0;32m      4\u001b[0m \u001b[38;5;66;03m# - job_search.still_hiring\u001b[39;00m\n\u001b[0;32m      5\u001b[0m \u001b[38;5;66;03m# - job_search.more_jobs\u001b[39;00m\n\u001b[1;32m----> 7\u001b[0m job_listings \u001b[38;5;241m=\u001b[39m \u001b[43mjob_search\u001b[49m\u001b[38;5;241;43m.\u001b[39;49m\u001b[43msearch\u001b[49m\u001b[43m(\u001b[49m\u001b[38;5;124;43m\"\u001b[39;49m\u001b[38;5;124;43mData Engineer\u001b[39;49m\u001b[38;5;124;43m\"\u001b[39;49m\u001b[43m)\u001b[49m \n",
      "Cell \u001b[1;32mIn[65], line 88\u001b[0m, in \u001b[0;36mJobSearch.search\u001b[1;34m(self, search_term)\u001b[0m\n\u001b[0;32m     86\u001b[0m job_results \u001b[38;5;241m=\u001b[39m []\n\u001b[0;32m     87\u001b[0m \u001b[38;5;28;01mfor\u001b[39;00m job_card \u001b[38;5;129;01min\u001b[39;00m \u001b[38;5;28mself\u001b[39m\u001b[38;5;241m.\u001b[39mwait_for_all_elements_to_load(name\u001b[38;5;241m=\u001b[39m\u001b[38;5;124m\"\u001b[39m\u001b[38;5;124mjob-card-list\u001b[39m\u001b[38;5;124m\"\u001b[39m, base\u001b[38;5;241m=\u001b[39mjob_listing):\n\u001b[1;32m---> 88\u001b[0m     job \u001b[38;5;241m=\u001b[39m \u001b[38;5;28;43mself\u001b[39;49m\u001b[38;5;241;43m.\u001b[39;49m\u001b[43mscrape_job_card\u001b[49m\u001b[43m(\u001b[49m\u001b[43mjob_card\u001b[49m\u001b[43m)\u001b[49m\n\u001b[0;32m     89\u001b[0m     job_results\u001b[38;5;241m.\u001b[39mappend(job)\n\u001b[0;32m     90\u001b[0m \u001b[38;5;28;01mreturn\u001b[39;00m job_results\n",
      "Cell \u001b[1;32mIn[65], line 35\u001b[0m, in \u001b[0;36mJobSearch.scrape_job_card\u001b[1;34m(self, base_element)\u001b[0m\n\u001b[0;32m     34\u001b[0m \u001b[38;5;28;01mdef\u001b[39;00m \u001b[38;5;21mscrape_job_card\u001b[39m(\u001b[38;5;28mself\u001b[39m, base_element) \u001b[38;5;241m-\u001b[39m\u001b[38;5;241m>\u001b[39m Job:\n\u001b[1;32m---> 35\u001b[0m     job_div \u001b[38;5;241m=\u001b[39m \u001b[43mdriver\u001b[49m\u001b[38;5;241;43m.\u001b[39;49m\u001b[43mfind_element\u001b[49m\u001b[43m(\u001b[49m\u001b[43mBy\u001b[49m\u001b[38;5;241;43m.\u001b[39;49m\u001b[43mCLASS_NAME\u001b[49m\u001b[43m,\u001b[49m\u001b[43m \u001b[49m\u001b[38;5;124;43m\"\u001b[39;49m\u001b[38;5;124;43mjob-card-list__entity-lockup\u001b[39;49m\u001b[38;5;124;43m\"\u001b[39;49m\u001b[43m)\u001b[49m\n\u001b[0;32m     36\u001b[0m     job_title \u001b[38;5;241m=\u001b[39m job_div\u001b[38;5;241m.\u001b[39mfind_element(By\u001b[38;5;241m.\u001b[39mCLASS_NAME, \u001b[38;5;124m\"\u001b[39m\u001b[38;5;124martdeco-entity-lockup__title\u001b[39m\u001b[38;5;124m\"\u001b[39m)\u001b[38;5;241m.\u001b[39mtext\u001b[38;5;241m.\u001b[39mstrip()\n\u001b[0;32m     37\u001b[0m     linkedin_url \u001b[38;5;241m=\u001b[39m job_div\u001b[38;5;241m.\u001b[39mfind_element(By\u001b[38;5;241m.\u001b[39mTAG_NAME, \u001b[38;5;124m\"\u001b[39m\u001b[38;5;124ma\u001b[39m\u001b[38;5;124m\"\u001b[39m)\u001b[38;5;241m.\u001b[39mget_attribute(\u001b[38;5;124m\"\u001b[39m\u001b[38;5;124mhref\u001b[39m\u001b[38;5;124m\"\u001b[39m)\n",
      "File \u001b[1;32m~\\PycharmProjects\\NLP_explore\\venv\\lib\\site-packages\\seleniumbase\\core\\sb_driver.py:20\u001b[0m, in \u001b[0;36mDriverMethods.find_element\u001b[1;34m(self, by, value)\u001b[0m\n\u001b[0;32m     18\u001b[0m \u001b[38;5;28;01melse\u001b[39;00m:\n\u001b[0;32m     19\u001b[0m     value, by \u001b[38;5;241m=\u001b[39m page_utils\u001b[38;5;241m.\u001b[39mswap_selector_and_by_if_reversed(value, by)\n\u001b[1;32m---> 20\u001b[0m \u001b[38;5;28;01mreturn\u001b[39;00m \u001b[38;5;28;43mself\u001b[39;49m\u001b[38;5;241;43m.\u001b[39;49m\u001b[43mdriver\u001b[49m\u001b[38;5;241;43m.\u001b[39;49m\u001b[43mdefault_find_element\u001b[49m\u001b[43m(\u001b[49m\u001b[43mby\u001b[49m\u001b[38;5;241;43m=\u001b[39;49m\u001b[43mby\u001b[49m\u001b[43m,\u001b[49m\u001b[43m \u001b[49m\u001b[43mvalue\u001b[49m\u001b[38;5;241;43m=\u001b[39;49m\u001b[43mvalue\u001b[49m\u001b[43m)\u001b[49m\n",
      "File \u001b[1;32m~\\PycharmProjects\\NLP_explore\\venv\\lib\\site-packages\\selenium\\webdriver\\remote\\webdriver.py:742\u001b[0m, in \u001b[0;36mWebDriver.find_element\u001b[1;34m(self, by, value)\u001b[0m\n\u001b[0;32m    739\u001b[0m     by \u001b[38;5;241m=\u001b[39m By\u001b[38;5;241m.\u001b[39mCSS_SELECTOR\n\u001b[0;32m    740\u001b[0m     value \u001b[38;5;241m=\u001b[39m \u001b[38;5;124mf\u001b[39m\u001b[38;5;124m'\u001b[39m\u001b[38;5;124m[name=\u001b[39m\u001b[38;5;124m\"\u001b[39m\u001b[38;5;132;01m{\u001b[39;00mvalue\u001b[38;5;132;01m}\u001b[39;00m\u001b[38;5;124m\"\u001b[39m\u001b[38;5;124m]\u001b[39m\u001b[38;5;124m'\u001b[39m\n\u001b[1;32m--> 742\u001b[0m \u001b[38;5;28;01mreturn\u001b[39;00m \u001b[38;5;28;43mself\u001b[39;49m\u001b[38;5;241;43m.\u001b[39;49m\u001b[43mexecute\u001b[49m\u001b[43m(\u001b[49m\u001b[43mCommand\u001b[49m\u001b[38;5;241;43m.\u001b[39;49m\u001b[43mFIND_ELEMENT\u001b[49m\u001b[43m,\u001b[49m\u001b[43m \u001b[49m\u001b[43m{\u001b[49m\u001b[38;5;124;43m\"\u001b[39;49m\u001b[38;5;124;43musing\u001b[39;49m\u001b[38;5;124;43m\"\u001b[39;49m\u001b[43m:\u001b[49m\u001b[43m \u001b[49m\u001b[43mby\u001b[49m\u001b[43m,\u001b[49m\u001b[43m \u001b[49m\u001b[38;5;124;43m\"\u001b[39;49m\u001b[38;5;124;43mvalue\u001b[39;49m\u001b[38;5;124;43m\"\u001b[39;49m\u001b[43m:\u001b[49m\u001b[43m \u001b[49m\u001b[43mvalue\u001b[49m\u001b[43m}\u001b[49m\u001b[43m)\u001b[49m[\u001b[38;5;124m\"\u001b[39m\u001b[38;5;124mvalue\u001b[39m\u001b[38;5;124m\"\u001b[39m]\n",
      "File \u001b[1;32m~\\PycharmProjects\\NLP_explore\\venv\\lib\\site-packages\\selenium\\webdriver\\remote\\webdriver.py:348\u001b[0m, in \u001b[0;36mWebDriver.execute\u001b[1;34m(self, driver_command, params)\u001b[0m\n\u001b[0;32m    346\u001b[0m response \u001b[38;5;241m=\u001b[39m \u001b[38;5;28mself\u001b[39m\u001b[38;5;241m.\u001b[39mcommand_executor\u001b[38;5;241m.\u001b[39mexecute(driver_command, params)\n\u001b[0;32m    347\u001b[0m \u001b[38;5;28;01mif\u001b[39;00m response:\n\u001b[1;32m--> 348\u001b[0m     \u001b[38;5;28;43mself\u001b[39;49m\u001b[38;5;241;43m.\u001b[39;49m\u001b[43merror_handler\u001b[49m\u001b[38;5;241;43m.\u001b[39;49m\u001b[43mcheck_response\u001b[49m\u001b[43m(\u001b[49m\u001b[43mresponse\u001b[49m\u001b[43m)\u001b[49m\n\u001b[0;32m    349\u001b[0m     response[\u001b[38;5;124m\"\u001b[39m\u001b[38;5;124mvalue\u001b[39m\u001b[38;5;124m\"\u001b[39m] \u001b[38;5;241m=\u001b[39m \u001b[38;5;28mself\u001b[39m\u001b[38;5;241m.\u001b[39m_unwrap_value(response\u001b[38;5;241m.\u001b[39mget(\u001b[38;5;124m\"\u001b[39m\u001b[38;5;124mvalue\u001b[39m\u001b[38;5;124m\"\u001b[39m, \u001b[38;5;28;01mNone\u001b[39;00m))\n\u001b[0;32m    350\u001b[0m     \u001b[38;5;28;01mreturn\u001b[39;00m response\n",
      "File \u001b[1;32m~\\PycharmProjects\\NLP_explore\\venv\\lib\\site-packages\\selenium\\webdriver\\remote\\errorhandler.py:229\u001b[0m, in \u001b[0;36mErrorHandler.check_response\u001b[1;34m(self, response)\u001b[0m\n\u001b[0;32m    227\u001b[0m         alert_text \u001b[38;5;241m=\u001b[39m value[\u001b[38;5;124m\"\u001b[39m\u001b[38;5;124malert\u001b[39m\u001b[38;5;124m\"\u001b[39m]\u001b[38;5;241m.\u001b[39mget(\u001b[38;5;124m\"\u001b[39m\u001b[38;5;124mtext\u001b[39m\u001b[38;5;124m\"\u001b[39m)\n\u001b[0;32m    228\u001b[0m     \u001b[38;5;28;01mraise\u001b[39;00m exception_class(message, screen, stacktrace, alert_text)  \u001b[38;5;66;03m# type: ignore[call-arg]  # mypy is not smart enough here\u001b[39;00m\n\u001b[1;32m--> 229\u001b[0m \u001b[38;5;28;01mraise\u001b[39;00m exception_class(message, screen, stacktrace)\n",
      "\u001b[1;31mInvalidSessionIdException\u001b[0m: Message: invalid session id\nStacktrace:\n\tGetHandleVerifier [0x00007FF6EA602142+3514994]\n\t(No symbol) [0x00007FF6EA220CE2]\n\t(No symbol) [0x00007FF6EA0C74C3]\n\t(No symbol) [0x00007FF6EA10412A]\n\t(No symbol) [0x00007FF6EA135EC9]\n\t(No symbol) [0x00007FF6EA12ECA2]\n\t(No symbol) [0x00007FF6EA12E5E3]\n\t(No symbol) [0x00007FF6EA096315]\n\tGetHandleVerifier [0x00007FF6EA62E16B+3695259]\n\tGetHandleVerifier [0x00007FF6EA686737+4057191]\n\tGetHandleVerifier [0x00007FF6EA67E4E3+4023827]\n\tGetHandleVerifier [0x00007FF6EA3504F9+689705]\n\t(No symbol) [0x00007FF6EA22C048]\n\t(No symbol) [0x00007FF6EA095103]\n\tGetHandleVerifier [0x00007FF6EA6CE958+4352648]\n\tBaseThreadInitThunk [0x00007FFE3A357344+20]\n\tRtlUserThreadStart [0x00007FFE3B1626B1+33]\n"
     ]
    }
   ],
   "source": [
    "job_search = JobSearch(driver=driver, close_on_complete=False, scrape=False)\n",
    "# job_search contains jobs from your logged in front page:\n",
    "# - job_search.recommended_jobs\n",
    "# - job_search.still_hiring\n",
    "# - job_search.more_jobs\n",
    "\n",
    "job_listings = job_search.search(\"Data Engineer\") "
   ]
  },
  {
   "cell_type": "code",
   "execution_count": 132,
   "id": "1b8e1cdc",
   "metadata": {},
   "outputs": [],
   "source": [
    "job_listings[0].job_description"
   ]
  },
  {
   "cell_type": "code",
   "execution_count": 128,
   "id": "9e14f054",
   "metadata": {},
   "outputs": [
    {
     "ename": "AttributeError",
     "evalue": "'Job' object has no attribute 'find_element'",
     "output_type": "error",
     "traceback": [
      "\u001b[1;31m---------------------------------------------------------------------------\u001b[0m",
      "\u001b[1;31mAttributeError\u001b[0m                            Traceback (most recent call last)",
      "Cell \u001b[1;32mIn[128], line 1\u001b[0m\n\u001b[1;32m----> 1\u001b[0m \u001b[43mjob_listings\u001b[49m\u001b[43m[\u001b[49m\u001b[38;5;241;43m0\u001b[39;49m\u001b[43m]\u001b[49m\u001b[38;5;241;43m.\u001b[39;49m\u001b[43mfind_element\u001b[49m(By\u001b[38;5;241m.\u001b[39mCLASS_NAME, \u001b[38;5;124m'\u001b[39m\u001b[38;5;124martdeco-entity-lockup__subtitle\u001b[39m\u001b[38;5;124m'\u001b[39m)\u001b[38;5;241m.\u001b[39mtext\n",
      "\u001b[1;31mAttributeError\u001b[0m: 'Job' object has no attribute 'find_element'"
     ]
    }
   ],
   "source": [
    "job_listings[0].find_element(By.CLASS_NAME, 'artdeco-entity-lockup__subtitle').text"
   ]
  },
  {
   "cell_type": "code",
   "execution_count": 89,
   "id": "c956f227",
   "metadata": {},
   "outputs": [
    {
     "data": {
      "text/plain": [
       "[<Job Principal Software Engineer Back End (Bangkok based – Relocation provided) Agoda>,\n",
       " <Job Lead / Staff Software Engineer Back End (Bangkok based – Relocation provided) Agoda>,\n",
       " <Job Lead / Staff Software Engineer Back End (Bangkok based – Relocation provided) Agoda>,\n",
       " <Job AWS Senior Software Developer, UK Remote TTEC Digital>,\n",
       " <Job Lead Software Engineer (Bangkok based – Relocation provided) Agoda>,\n",
       " <Job TeamLead Data Engineer HuntIT>,\n",
       " <Job Senior C++ Developer (Gameplay) Playrix>,\n",
       " <Job Senior Data Engineer EastBanc Technologies>,\n",
       " <Job Senior Data Engineer Playrix>,\n",
       " <Job SRE инженер в команду Infrastructure Авито>,\n",
       " <Job DevOps Engineer Persona.ly>,\n",
       " <Job Web Developer PUNTO PAGO PANAMA>,\n",
       " <Job Android Developer PUNTO PAGO PANAMA>,\n",
       " <Job Lead Software Engineer (Bangkok based – Relocation provided) Agoda>,\n",
       " <Job Android Developer PUNTO PAGO PANAMA>,\n",
       " <Job Senior QA FullStack Engineer B2Broker - Liquidity & Technology Provider>,\n",
       " <Job Lead/Staff Software Engineer – Front End (Bangkok based – Relocation provided) Agoda>,\n",
       " <Job Staff/ Lead Software Engineer (FinTech) [Bangkok based – Relocation provided] Agoda>,\n",
       " <Job Senior C++ Application Developer Envista Holdings Corporation>,\n",
       " <Job Senior C++ Developer (Technology) Playrix>,\n",
       " <Job Middle C++ Developer (Gameplay) Playrix>,\n",
       " <Job Principal Software Engineer Back End (Bangkok based – Relocation provided) Agoda>,\n",
       " <Job Senior C++ Developer (Technical) Playrix>,\n",
       " <Job Senior Analytics Engineer Deel>,\n",
       " <Job Lead/Staff Software Engineer – Front End (Bangkok based – Relocation provided) Agoda>]"
      ]
     },
     "execution_count": 89,
     "metadata": {},
     "output_type": "execute_result"
    }
   ],
   "source": [
    "job_listings"
   ]
  },
  {
   "cell_type": "code",
   "execution_count": 116,
   "id": "d3b0cbb6",
   "metadata": {
    "scrolled": true
   },
   "outputs": [],
   "source": [
    "import os\n",
    "from typing import List\n",
    "from time import sleep\n",
    "import urllib.parse\n",
    "\n",
    "#from linkedin_scraper import Job, constants as c\n",
    "from linkedin_scraper.objects import Scraper\n",
    "\n",
    "from selenium.webdriver.common.by import By\n",
    "from selenium.webdriver.support.wait import WebDriverWait\n",
    "from selenium.webdriver.support import expected_conditions as EC\n",
    "from selenium.webdriver.common.keys import Keys\n",
    "\n",
    "job = Job(\"https://www.linkedin.com/jobs/view/3780362868/?eBP=CwEAAAGNHXqXIqwZ1bhIgLVr9awt6hcJLM9ABh8_3yM94OMrcHcRO87HzkKAe1gkOpwiTDs31Y1E-9_68Q9arElQp0-akxh2gqRBuwokXhv1_mXlBnzabXTZnWwImzEC7671yNLLLlTIj-XQsDNzIQwbYpmfBBkXAMTFoWVvESzVF3xK_bhHHZgYpC14r9bbGt5QHTipzitD7M9A_MIKe_YiQwyNX0u3QNw0A52pie3A-4xYwRAEQ0qEoIP8vDhfs27aQDsJBWIUSqOwxh38IXu3locOpKBXQEU_0imDqCWWjvwe4o7STN8ZY7xd9rqRvBdls9FT0QdgRzeBIRAbH6TpCKghuWBY9QyqW9fWxqGd4VJiBBsqy1L6vw&refId=%2BedgG1JzoyKbmaFQ32hSVg%3D%3D&trackingId=9R8FHKRBdiyq9zsJ2Jt5Fg%3D%3D&trk=flagship3_search_srp_jobs&lipi=urn%3Ali%3Apage%3Ad_flagship3_search_srp_jobs%3BOdDt3kTJQYuyX6SO5aldhQ%3D%3D&lici=9R8FHKRBdiyq9zsJ2Jt5Fg%3D%3D\", driver=driver, close_on_complete=False)\n",
    "\n"
   ]
  },
  {
   "cell_type": "code",
   "execution_count": 122,
   "id": "4c0b8c86",
   "metadata": {},
   "outputs": [
    {
     "data": {
      "text/plain": [
       "'Agoda'"
      ]
     },
     "execution_count": 122,
     "metadata": {},
     "output_type": "execute_result"
    }
   ],
   "source": [
    "job.company"
   ]
  },
  {
   "cell_type": "code",
   "execution_count": null,
   "id": "33d1db38",
   "metadata": {},
   "outputs": [],
   "source": []
  },
  {
   "cell_type": "code",
   "execution_count": 51,
   "id": "e70f7477",
   "metadata": {},
   "outputs": [],
   "source": [
    "driver.get('https://www.linkedin.com/jobs/view/3805317119/?eBP=CwEAAAGNHd1Am8sv539CC7J2V6N5940cJJC5kf0DdhhzDya0uVth8JtI8vKwpxrHmviAVMcHmskuVQWLobXBTWox2FLsISZJH5WuRsU4HMdbjCB4uxg-jon6lV3gkV-F1laDOqe__sen8XrnDERBhyPrbh-22pU5sATX7N3c41bEVkH_7s9cBdC6LU-Fu-SyiYU83rcpE-WMD7lVc6HOPj8AQrxNlsTZGZzPWTqTSfg3ddC8SVqKKeXRgheAk4iUDyCwMyk-CvZS4nMb0iwhsUV3dCtIJfgdPKapRBGRZa7VnmkjJC0-jbzjDDbd0E73iNBIdEURYM6m43dNC1dDmgcSV4wlTy9wfFj7jcK5CkENpv0b4oAUTBiM8A5HvkECKXN6OQ&refId=u7%2B9sGJT08zS1FIZYnfG%2Bw%3D%3D&trackingId=OOU%2BNs1EU8dvK1Xllx0%2BXA%3D%3D&trk=flagship3_jobs_discovery_jymbii&lipi=urn%3Ali%3Apage%3Ad_flagship3_jobs_discovery_jymbii%3BjGxgE4WHQXq2T58RPQXO2Q%3D%3D&lici=OOU%2BNs1EU8dvK1Xllx0%2BXA%3D%3D')"
   ]
  },
  {
   "cell_type": "code",
   "execution_count": 12,
   "id": "a6443e57",
   "metadata": {},
   "outputs": [],
   "source": [
    "driver.get('https://www.linkedin.com/jobs/view/3780362868/?eBP=CwEAAAGNHXqXIqwZ1bhIgLVr9awt6hcJLM9ABh8_3yM94OMrcHcRO87HzkKAe1gkOpwiTDs31Y1E-9_68Q9arElQp0-akxh2gqRBuwokXhv1_mXlBnzabXTZnWwImzEC7671yNLLLlTIj-XQsDNzIQwbYpmfBBkXAMTFoWVvESzVF3xK_bhHHZgYpC14r9bbGt5QHTipzitD7M9A_MIKe_YiQwyNX0u3QNw0A52pie3A-4xYwRAEQ0qEoIP8vDhfs27aQDsJBWIUSqOwxh38IXu3locOpKBXQEU_0imDqCWWjvwe4o7STN8ZY7xd9rqRvBdls9FT0QdgRzeBIRAbH6TpCKghuWBY9QyqW9fWxqGd4VJiBBsqy1L6vw&refId=%2BedgG1JzoyKbmaFQ32hSVg%3D%3D&trackingId=9R8FHKRBdiyq9zsJ2Jt5Fg%3D%3D&trk=flagship3_search_srp_jobs&lipi=urn%3Ali%3Apage%3Ad_flagship3_search_srp_jobs%3BOdDt3kTJQYuyX6SO5aldhQ%3D%3D&lici=9R8FHKRBdiyq9zsJ2Jt5Fg%3D%3D')"
   ]
  },
  {
   "cell_type": "code",
   "execution_count": 13,
   "id": "1a9579e2",
   "metadata": {},
   "outputs": [
    {
     "data": {
      "text/plain": [
       "'Principal Software Engineer Back End (Bangkok based – Relocation provided)\\nAgoda · Москва, Москва, Россия · Размещена повторно: 6 часов назад · 5 кандидатов\\nГибридный формат работы Полный рабочий день Директор\\n5001-10 000 сотрудников · Разработка программного обеспечения\\n5 бывших сотрудников компании работают здесь\\nНавыки: «Разработка ПО», «Бизнес-требования» и еще 8 навыков\\nПросмотрите подтверждения, связанные с этим объявлением о вакансии.\\nПросмотрите подтверждения, связанные с этим объявлением о вакансии.\\nПоказать все\\nПодать заявку\\nСохранить\\nСохранить вакансию «Principal Software Engineer Back End (Bangkok based – Relocation provided)» в компании Agoda\\nПоделиться\\nПоказать еще варианты'"
      ]
     },
     "execution_count": 13,
     "metadata": {},
     "output_type": "execute_result"
    }
   ],
   "source": [
    "#job_title\n",
    "driver.find_element(By.CLASS_NAME, \"jobs-unified-top-card\").text.strip()"
   ]
  },
  {
   "cell_type": "code",
   "execution_count": 75,
   "id": "b71c21b9",
   "metadata": {},
   "outputs": [
    {
     "data": {
      "text/plain": [
       "'Principal Software Engineer Back End (Bangkok based – Relocation provided)'"
      ]
     },
     "execution_count": 75,
     "metadata": {},
     "output_type": "execute_result"
    }
   ],
   "source": [
    "#job_title\n",
    "driver.find_element(By.CLASS_NAME, \"job-details-jobs-unified-top-card__job-title\").text.strip()"
   ]
  },
  {
   "cell_type": "code",
   "execution_count": 76,
   "id": "af986c3e",
   "metadata": {},
   "outputs": [
    {
     "data": {
      "text/plain": [
       "'Agoda · Москва, Москва, Россия Размещена повторно: 2 недели назад · 5 кандидатов'"
      ]
     },
     "execution_count": 76,
     "metadata": {},
     "output_type": "execute_result"
    }
   ],
   "source": [
    "driver.find_element(By.CLASS_NAME, \"job-details-jobs-unified-top-card__primary-description-without-tagline\").text"
   ]
  },
  {
   "cell_type": "code",
   "execution_count": 77,
   "id": "b6500768",
   "metadata": {},
   "outputs": [
    {
     "data": {
      "text/plain": [
       "'Agoda'"
      ]
     },
     "execution_count": 77,
     "metadata": {},
     "output_type": "execute_result"
    }
   ],
   "source": [
    "#company_name\n",
    "driver.find_element(By.CLASS_NAME, \"job-details-jobs-unified-top-card__primary-description-without-tagline\").find_element(By.TAG_NAME, \"a\").text"
   ]
  },
  {
   "cell_type": "code",
   "execution_count": 78,
   "id": "b7bfda48",
   "metadata": {},
   "outputs": [
    {
     "data": {
      "text/plain": [
       "'https://www.linkedin.com/company/agoda/life'"
      ]
     },
     "execution_count": 78,
     "metadata": {},
     "output_type": "execute_result"
    }
   ],
   "source": [
    "#company_link\n",
    "driver.find_element(By.CLASS_NAME, \"job-details-jobs-unified-top-card__primary-description-without-tagline\").find_element(By.TAG_NAME, \"a\").get_attribute(\"href\")"
   ]
  },
  {
   "cell_type": "code",
   "execution_count": 79,
   "id": "c1da8c7b",
   "metadata": {},
   "outputs": [
    {
     "data": {
      "text/plain": [
       "['Полный рабочий день', 'Директор']"
      ]
     },
     "execution_count": 79,
     "metadata": {},
     "output_type": "execute_result"
    }
   ],
   "source": [
    "#level\n",
    "elems = driver.find_elements(By.CLASS_NAME, \"job-details-jobs-unified-top-card__job-insight-view-model-secondary\")\n",
    "[e.text for e in elems]"
   ]
  },
  {
   "cell_type": "code",
   "execution_count": 110,
   "id": "db4458ed",
   "metadata": {},
   "outputs": [],
   "source": [
    "button = driver.find_element(By.CLASS_NAME, \"jobs-description\").find_element(By.TAG_NAME, \"button\")\n",
    "button.click()"
   ]
  },
  {
   "cell_type": "code",
   "execution_count": 112,
   "id": "ed1617eb",
   "metadata": {},
   "outputs": [
    {
     "name": "stdout",
     "output_type": "stream",
     "text": [
      "Об этой вакансии\n",
      "About Agoda\n",
      "\n",
      "Agoda is an online travel booking platform for accommodations, flights, and more. We build and deploy cutting-edge technology that connects travelers with more than 3.6 million accommodations globally. Based in Asia and part of Booking Holdings, our 6,000+ employees representing 90+ nationalities foster a work environment rich in diversity, creativity, and collaboration. We innovate through a culture of experimentation and ownership, enhancing the ability for our customers to experience the world.\n",
      "\n",
      "\n",
      "\n",
      "In Agoda’s Back End Engineering department, we build the scalable, fault-tolerant systems and APIs that host our core business logic. Our systems cover all major areas of our business: inventory and pricing, product information, customer data, communications, partner data, booking systems, payments, FinTech and more. These mission-critical systems change frequently with dozens of releases per day, so we must employ state-of-the-art CI/CD and testing techniques in order to make sure everything works without any downtime. We also ensure that our systems are self-healing, responding gracefully to extreme loads or unexpected input. In order to accomplish this, we use state-of-the-art languages like Scala and Go, data technologies like Kafka and Spark, and agile development practices. Most importantly though, we hire great people from all around the world and empower them to be successful. Whether it’s building new projects like Flights and Packages or reimagining our existing business, you’ll make a big impact as part of the Back End Engineering team.\n",
      "\n",
      "\n",
      "\n",
      "You might call yourself “full stack” or “back end” or you might consider yourself an authority in a certain field, but you have a keen interest in how the different systems work together.\n",
      "\n",
      "We’d love to hear from you if you are skilled in any of the technologies we work with (note – we are not looking for you to have them all). We are interested in speaking to persons of any level from individuals just starting their IT careers to experts in their field, although this particular position is better suitable to veteran engineers, with expertise in certain technologies, and especially those that had lead projects, initiatives and/or teams.\n",
      "\n",
      "\n",
      "\n",
      "\n",
      "\n",
      "\n",
      "\n",
      "\n",
      "\n",
      "\n",
      "\n",
      "\n",
      "\n",
      "#sanfrancisco #sanjose #losangeles #sandiego #oakland #denver #miami #orlando #atlanta #chicago #boston #detroit #newyork #portland #philadelphia #dallas #houston #austin #seattle #sydney #melbourne #perth #toronto #vancouver #montreal #shanghai #beijing #shenzhen #prague #Brno #Ostrava #cairo #alexandria #giza #estonia #paris #berlin #munich #hamburg #stuttgart #cologne #frankfurt #hongkong #budapest #jakarta #bali #dublin #telaviv #milan #rome #tokyo #osaka #kualalumpur #amsterdam #oslo #manila #warsaw #krakow #bucharest #moscow #saintpetersburg #capetown #johannesburg #seoul #barcelona #madrid #stockholm #zurich #taipei #bangkok #Phuket #istanbul #london #manchester #edinburgh #kiev #hcmc #hanoi #wroclaw #poznan #katowice #rio #salvador #IT #4 #5\n",
      "\n",
      "\n",
      "\n",
      "At Agoda, we pride ourselves on being a company represented by people of all different backgrounds and orientations. We prioritize attracting diverse talent and cultivating an inclusive environment that encourages collaboration and innovation. Employment at Agoda is based solely on a person’s merit and qualifications. We are committed to providing equal employment opportunity regardless of sex, age, race, color, national origin, religion, marital status, pregnancy, sexual orientation, gender identity, disability, citizenship, veteran or military status, and other legally protected characteristics.\n",
      "\n",
      "We will keep your application on file so that we can consider you for future vacancies and you can always ask to have your details removed from the file. For more details please read our privacy policy .\n",
      "\n",
      "To all recruitment agencies: Agoda does not accept third party resumes. Please do not send resumes to our jobs alias, Agoda employees or any other organization location. Agoda is not responsible for any fees related to unsolicited resumes.\n"
     ]
    }
   ],
   "source": [
    "# Job desc\n",
    "try:\n",
    "    button = driver.find_element(By.CLASS_NAME, \"jobs-description\").find_element(By.TAG_NAME, \"button\")\n",
    "    button.click()\n",
    "\n",
    "\n",
    "    desc = driver.find_element(By.ID, \"job-details\").text\n",
    "    print(desc)\n",
    "    \n",
    "except:\n",
    "    print(\"!!! exception !!! \\n\")\n",
    "    \n",
    "    desc = driver.find_element(By.ID, \"job-details\").text\n",
    "    print(desc)"
   ]
  },
  {
   "cell_type": "code",
   "execution_count": 24,
   "id": "543e7f10",
   "metadata": {},
   "outputs": [
    {
     "data": {
      "text/plain": [
       "'Технический специалист по защите семян в России'"
      ]
     },
     "execution_count": 24,
     "metadata": {},
     "output_type": "execute_result"
    }
   ],
   "source": [
    "driver.find_element(By.CLASS_NAME, \"artdeco-entity-lockup__title\").text"
   ]
  },
  {
   "cell_type": "code",
   "execution_count": 31,
   "id": "d3cbb110",
   "metadata": {},
   "outputs": [],
   "source": [
    "job_div = driver.find_element(By.CLASS_NAME, \"job-card-list__entity-lockup\")\n",
    "job_title = job_div.find_element(By.CLASS_NAME, \"artdeco-entity-lockup__title\").text.strip()\n",
    "linkedin_url = job_div.find_element(By.TAG_NAME, \"a\").get_attribute(\"href\")\n",
    "company = base_element.find_element(By.CLASS_NAME, \"job-card-container__primary-description\").text\n",
    "location = base_element.find_element(By.CLASS_NAME, \"job-card-container__metadata-item\").text"
   ]
  },
  {
   "cell_type": "code",
   "execution_count": 37,
   "id": "1ee8ff63",
   "metadata": {},
   "outputs": [
    {
     "ename": "NameError",
     "evalue": "name 'base_element' is not defined",
     "output_type": "error",
     "traceback": [
      "\u001b[1;31m---------------------------------------------------------------------------\u001b[0m",
      "\u001b[1;31mNameError\u001b[0m                                 Traceback (most recent call last)",
      "Cell \u001b[1;32mIn[37], line 1\u001b[0m\n\u001b[1;32m----> 1\u001b[0m company \u001b[38;5;241m=\u001b[39m \u001b[43mbase_element\u001b[49m\u001b[38;5;241m.\u001b[39mfind_element(By\u001b[38;5;241m.\u001b[39mCLASS_NAME, \u001b[38;5;124m\"\u001b[39m\u001b[38;5;124mjob-card-container__primary-description\u001b[39m\u001b[38;5;124m\"\u001b[39m)\u001b[38;5;241m.\u001b[39mtext\n\u001b[0;32m      2\u001b[0m company\n",
      "\u001b[1;31mNameError\u001b[0m: name 'base_element' is not defined"
     ]
    }
   ],
   "source": [
    "company = base_element.find_element(By.CLASS_NAME, \"job-card-container__primary-description\").text\n",
    "company"
   ]
  },
  {
   "cell_type": "code",
   "execution_count": 27,
   "id": "9fbb99c7",
   "metadata": {},
   "outputs": [
    {
     "data": {
      "text/plain": [
       "'https://www.linkedin.com/jobs/view/3766392023/?eBP=CwEAAAGNIxfwyOGJJqQCE5ItOyPXXEIvpLwC0bdRpSzLf2GPP3Vc1PkM91nT3Dwe_FUF6DKMo5776IvXdUB0aj609RsV8QaLteY9MaR3gcq36whcJJniDimQZ4ntWLfhIfw6BuOElpvto67aaNmzb8WsLA9x70yqDfJFpMdlZd5TmMfbxDO99KU43Tb-WoA1_JfcrkJm3ZeDil8acemk93SCTigFbMnilg9iUULps-CQMY11XOsRuWUutbo22fR3zyyHG6e7XvuYp_GpD3ANvOh3DetuiqyOIelr7sI13DEESdf-LU-2piEKjrY4ayEvrt4XhX9RnNCxLWjU6KYINe-p-CuK9R9adPNaZw&refId=qvkxw8D340JBdyGxyTGrZw%3D%3D&trackingId=wx%2BuJFgokQtwmlZ2uDO8%2Bg%3D%3D&trk=flagship3_search_srp_jobs'"
      ]
     },
     "execution_count": 27,
     "metadata": {},
     "output_type": "execute_result"
    }
   ],
   "source": [
    "driver.find_element(By.CLASS_NAME, \"artdeco-entity-lockup__title\").find_element(By.TAG_NAME, \"a\").get_attribute(\"href\")"
   ]
  },
  {
   "cell_type": "code",
   "execution_count": 38,
   "id": "05f2990b",
   "metadata": {},
   "outputs": [
    {
     "data": {
      "text/plain": [
       "'Самара, Самарская область, Россия (Гибридный формат работы)'"
      ]
     },
     "execution_count": 38,
     "metadata": {},
     "output_type": "execute_result"
    }
   ],
   "source": [
    "driver.find_element(By.CLASS_NAME, \"job-card-container__metadata-item\").text"
   ]
  },
  {
   "cell_type": "code",
   "execution_count": 33,
   "id": "fc787480",
   "metadata": {},
   "outputs": [
    {
     "ename": "NameError",
     "evalue": "name 'self' is not defined",
     "output_type": "error",
     "traceback": [
      "\u001b[1;31m---------------------------------------------------------------------------\u001b[0m",
      "\u001b[1;31mNameError\u001b[0m                                 Traceback (most recent call last)",
      "Cell \u001b[1;32mIn[33], line 1\u001b[0m\n\u001b[1;32m----> 1\u001b[0m job_div \u001b[38;5;241m=\u001b[39m \u001b[38;5;28;43mself\u001b[39;49m\u001b[38;5;241m.\u001b[39mwait_for_element_to_load(name\u001b[38;5;241m=\u001b[39m\u001b[38;5;124m\"\u001b[39m\u001b[38;5;124mjob-card-list__title\u001b[39m\u001b[38;5;124m\"\u001b[39m, base\u001b[38;5;241m=\u001b[39mbase_element)\n\u001b[0;32m      2\u001b[0m job_title \u001b[38;5;241m=\u001b[39m job_div\u001b[38;5;241m.\u001b[39mtext\u001b[38;5;241m.\u001b[39mstrip()\n\u001b[0;32m      3\u001b[0m linkedin_url \u001b[38;5;241m=\u001b[39m job_div\u001b[38;5;241m.\u001b[39mget_attribute(\u001b[38;5;124m\"\u001b[39m\u001b[38;5;124mhref\u001b[39m\u001b[38;5;124m\"\u001b[39m)\n",
      "\u001b[1;31mNameError\u001b[0m: name 'self' is not defined"
     ]
    }
   ],
   "source": [
    "    job_div = self.wait_for_element_to_load(name=\"job-card-list__title\", base=base_element)\n",
    "    job_title = job_div.text.strip()\n",
    "    linkedin_url = job_div.get_attribute(\"href\")\n",
    "    company = base_element.find_element(By.CLASS_NAME, \"artdeco-entity-lockup__subtitle\").text\n",
    "    location = base_element.find_element(By.CLASS_NAME, \"job-card-container__metadata-wrapper\").text"
   ]
  },
  {
   "cell_type": "code",
   "execution_count": 99,
   "id": "be6eb839",
   "metadata": {},
   "outputs": [],
   "source": [
    "# Скрапинг на странице поиска\n",
    "\n",
    "areas = driver.find_elements(By.CLASS_NAME, \"job-card-list__entity-lockup\")\n",
    "jobs = []\n",
    "for area in areas:\n",
    "    job = scrape_job_card(area)\n",
    "    jobs.append(job)"
   ]
  },
  {
   "cell_type": "code",
   "execution_count": 97,
   "id": "617f7f27",
   "metadata": {},
   "outputs": [
    {
     "data": {
      "text/plain": [
       "<seleniumbase.undetected.webelement.WebElement (session=\"8ee5a8d6f86a51d8c06fe6ce7387806a\", element=\"6C155D40790B1ED5E5D5EEAE3EFC2D0C_element_194\")>"
      ]
     },
     "execution_count": 97,
     "metadata": {},
     "output_type": "execute_result"
    }
   ],
   "source": [
    "areas[6]"
   ]
  },
  {
   "cell_type": "code",
   "execution_count": 100,
   "id": "3a92a076",
   "metadata": {},
   "outputs": [
    {
     "data": {
      "text/plain": [
       "[<Job ServiceNow ITSM Developer JSS ASSOCIATES>,\n",
       " <Job Senior C++ Developer (Gameplay) Playrix>,\n",
       " <Job Lead Frontend Engineer (Relocation to Bangkok) Manatal>,\n",
       " <Job Principal Software Engineer Back End (Bangkok based – Relocation provided) Agoda>,\n",
       " <Job ML/AI - Data Scientist Engineer Braintrust>,\n",
       " <Job Lead / Staff Full Stack Software Engineer (Bangkok based, relocation provided) Agoda>,\n",
       " <Job Senior C++ Developer (Technical) Playrix>,\n",
       " <Job Lead Software Engineer (Bangkok based – Relocation provided) Agoda>,\n",
       " <Job Lead/Staff Software Engineer – Front End (Bangkok based – Relocation provided) Agoda>,\n",
       " <Job Senior Data Engineer Playrix>,\n",
       " <Job Staff/ Lead Software Engineer (FinTech) [Bangkok based – Relocation provided] Agoda>,\n",
       " <Job Lead Software Engineer (Bangkok based – Relocation provided) Agoda>,\n",
       " <Job Lead/Staff Software Engineer – Front End (Bangkok based – Relocation provided) Agoda>,\n",
       " <Job Principal Software Engineer Back End (Bangkok based – Relocation provided) Agoda>,\n",
       " <Job Full Stack Engineer Investing.com>,\n",
       " <Job DevOps Engineer Persona.ly>,\n",
       " <Job AWS Senior Software Developer, UK Remote TTEC Digital>,\n",
       " <Job Senior Data Analyst (Flights team, Bangkok-based, Relocation provided) Agoda>,\n",
       " <Job Python Developer Yandex>,\n",
       " <Job DevOps Engineer Discovered MENA>]"
      ]
     },
     "execution_count": 100,
     "metadata": {},
     "output_type": "execute_result"
    }
   ],
   "source": [
    "jobs"
   ]
  },
  {
   "cell_type": "code",
   "execution_count": 101,
   "id": "f1fbbb51",
   "metadata": {},
   "outputs": [
    {
     "name": "stdout",
     "output_type": "stream",
     "text": [
      "ServiceNow ITSM Developer\n",
      "Senior C++ Developer (Gameplay)\n",
      "Lead Frontend Engineer (Relocation to Bangkok)\n",
      "Principal Software Engineer Back End (Bangkok based – Relocation provided)\n",
      "ML/AI - Data Scientist Engineer\n",
      "Lead / Staff Full Stack Software Engineer (Bangkok based, relocation provided)\n",
      "Senior C++ Developer (Technical)\n",
      "Lead Software Engineer (Bangkok based – Relocation provided)\n",
      "Lead/Staff Software Engineer – Front End (Bangkok based – Relocation provided)\n",
      "Senior Data Engineer\n",
      "Staff/ Lead Software Engineer (FinTech) [Bangkok based – Relocation provided]\n",
      "Lead Software Engineer (Bangkok based – Relocation provided)\n",
      "Lead/Staff Software Engineer – Front End (Bangkok based – Relocation provided)\n",
      "Principal Software Engineer Back End (Bangkok based – Relocation provided)\n",
      "Full Stack Engineer\n",
      "DevOps Engineer\n",
      "AWS Senior Software Developer, UK Remote\n",
      "Senior Data Analyst (Flights team, Bangkok-based, Relocation provided)\n",
      "Python Developer\n",
      "DevOps Engineer\n"
     ]
    },
    {
     "data": {
      "text/plain": [
       "[None,\n",
       " None,\n",
       " None,\n",
       " None,\n",
       " None,\n",
       " None,\n",
       " None,\n",
       " None,\n",
       " None,\n",
       " None,\n",
       " None,\n",
       " None,\n",
       " None,\n",
       " None,\n",
       " None,\n",
       " None,\n",
       " None,\n",
       " None,\n",
       " None,\n",
       " None]"
      ]
     },
     "execution_count": 101,
     "metadata": {},
     "output_type": "execute_result"
    }
   ],
   "source": [
    "[print(j.job_title) for j in jobs]"
   ]
  },
  {
   "cell_type": "code",
   "execution_count": 55,
   "id": "baada312",
   "metadata": {},
   "outputs": [],
   "source": [
    "job = scrape_job_card(area)"
   ]
  },
  {
   "cell_type": "code",
   "execution_count": 68,
   "id": "46705947",
   "metadata": {},
   "outputs": [
    {
     "name": "stdout",
     "output_type": "stream",
     "text": [
      "B2Broker - Liquidity & Technology Provider\n",
      "https://www.linkedin.com/company/b2broker/life\n",
      "B2Broker - Liquidity & Technology Provider · Москва, Россия · 4 дня назад · 7 кандидатов\n"
     ]
    }
   ],
   "source": [
    "print(job.company)\n",
    "print(job.company_linkedin_url)\n",
    "print(job.location)"
   ]
  },
  {
   "cell_type": "code",
   "execution_count": 69,
   "id": "2e1ef8e6",
   "metadata": {},
   "outputs": [
    {
     "name": "stdout",
     "output_type": "stream",
     "text": [
      "Об этой вакансии\n",
      "Senior Software Engineer (Golang)\n",
      "\n",
      "Languages: English, Russian \n",
      " Responsibilities\n",
      "Validate business and system requirements from Product Managers & Architects to transfer requirements into code.\n",
      "Develop services around realtime data processing, warehousing, cloud computing.\n",
      "Participate in DevOps, continuous development and integration frameworks.\n",
      "Programming in Go high-level language.\n",
      "Ensure all appropriate documentation of processes and source code is created and maintained.\n",
      "Communicate effectively with colleagues, leaders, and customers throughout the organization.\n",
      "Participate in expert level troubleshooting and resolve bugs through root cause analysis, data and system investigation.\n",
      "\n",
      "\n",
      "Obligatory\n",
      "\n",
      "Strong proficiency in the Go programming language for 4 years, with a solid understanding of its core concepts and idiomatic usage and the principles of writing concurrent code;\n",
      "Deep understanding of synchronization mechanisms;\n",
      "Basic understanding of Linux principles and commands;\n",
      "Strong skills in code profiling and debugging4;\n",
      "Strong problem-solving skills and ability to analyze complex technical issues;\n",
      "Experience in writing unit tests and integration tests;\n",
      "Experience working with message brokers and a deep understanding of how they operate;\n",
      "Experience with external caching servers;\n",
      "Advanced understanding of microservices architecture design principles;\n",
      "Confident command of SQL databases and skills in working with them;\n",
      "Experience with Protobuf and GRPC;\n",
      "Deep understanding of CI/CD;\n",
      "Knowledge of SOLID, design patterns, the experience of applying them;\n",
      "Experience with other technologies (e.g., Docker, Kubernetes) is a plus.\n"
     ]
    }
   ],
   "source": [
    "print(job.job_description)"
   ]
  },
  {
   "cell_type": "code",
   "execution_count": null,
   "id": "52a37584",
   "metadata": {},
   "outputs": [],
   "source": [
    "\n",
    "driver = self.driver\n",
    "driver.get(self.base_url)\n",
    "if scrape_recommended_jobs:\n",
    "    self.focus()\n",
    "    sleep(self.WAIT_FOR_ELEMENT_TIMEOUT)\n",
    "    job_area = self.wait_for_element_to_load(name=\"scaffold-finite-scroll__content\")\n",
    "    areas = self.wait_for_all_elements_to_load(name=\"artdeco-card\", base=job_area)\n",
    "    for i, area in enumerate(areas):\n",
    "        area_name = self.AREAS[i]\n",
    "        if not area_name:\n",
    "            continue\n",
    "        area_results = []\n",
    "        for job_posting in area.find_element(By.CLASS_NAME, \"jobs-job-board-list__item\"):\n",
    "            job = self.scrape_job_card(job_posting)\n",
    "            area_results.append(job)\n",
    "        setattr(self, area_name, area_results)\n",
    "\n"
   ]
  },
  {
   "cell_type": "code",
   "execution_count": 50,
   "id": "9b6fc8be",
   "metadata": {},
   "outputs": [],
   "source": [
    "def scrape_job_card(self, base_element) -> Job:\n",
    "    job_div = driver.find_element(By.CLASS_NAME, \"job-card-list__entity-lockup\")\n",
    "    job_title = job_div.find_element(By.CLASS_NAME, \"artdeco-entity-lockup__title\").text.strip()\n",
    "    linkedin_url = job_div.find_element(By.TAG_NAME, \"a\").get_attribute(\"href\")\n",
    "    company = base_element.find_element(By.CLASS_NAME, \"job-card-container__primary-description\").text\n",
    "    location = base_element.find_element(By.CLASS_NAME, \"job-card-container__metadata-item\").text\n",
    "    job = Job(linkedin_url=linkedin_url, job_title=job_title, company=company, location=location, scrape=False, driver=self.driver)\n",
    "    return job\n"
   ]
  },
  {
   "cell_type": "code",
   "execution_count": 77,
   "id": "f74c187f",
   "metadata": {},
   "outputs": [],
   "source": [
    "def scrape_job_card(base_element) -> Job:\n",
    "    job_div = driver.find_element(By.CLASS_NAME, \"job-card-list__entity-lockup\")\n",
    "    job_title = job_div.find_element(By.CLASS_NAME, \"artdeco-entity-lockup__title\").text.strip()\n",
    "    linkedin_url = job_div.find_element(By.TAG_NAME, \"a\").get_attribute(\"href\")\n",
    "    company = base_element.find_element(By.CLASS_NAME, \"job-card-container__primary-description\").text\n",
    "    location = base_element.find_element(By.CLASS_NAME, \"job-card-container__metadata-item\").text\n",
    "    job = Job(linkedin_url=linkedin_url, job_title=job_title, company=company, location=location, scrape=False, driver=driver)\n",
    "    return job"
   ]
  },
  {
   "cell_type": "code",
   "execution_count": 98,
   "id": "4fe28e0e",
   "metadata": {},
   "outputs": [],
   "source": [
    "def scrape_job_card(base_element) -> Job:\n",
    "    job_div = base_element.find_element(By.CLASS_NAME, \"job-card-list__title\")\n",
    "    job_title = job_div.text.strip()\n",
    "    linkedin_url = job_div.get_attribute(\"href\")\n",
    "    company = base_element.find_element(By.CLASS_NAME, \"job-card-container__primary-description\").text\n",
    "    location = base_element.find_element(By.CLASS_NAME, \"job-card-container__metadata-item\").text\n",
    "    job = Job(linkedin_url=linkedin_url, job_title=job_title, company=company, location=location, scrape=False, driver=driver)\n",
    "    return job"
   ]
  },
  {
   "cell_type": "code",
   "execution_count": null,
   "id": "c0d5257a",
   "metadata": {},
   "outputs": [],
   "source": [
    "    job_div = driver.wait_for_element_to_load(name=\"job-card-list__title\", base=base_element)\n",
    "    job_title = job_div.text.strip()\n",
    "    linkedin_url = job_div.get_attribute(\"href\")\n",
    "    company = base_element.find_element(By.CLASS_NAME, \"artdeco-entity-lockup__subtitle\").text\n",
    "    location = base_element.find_element(By.CLASS_NAME, \"job-card-container__metadata-wrapper\").text"
   ]
  },
  {
   "cell_type": "markdown",
   "id": "9ec9336a",
   "metadata": {},
   "source": [
    "# CLEAN SCRAPPER"
   ]
  },
  {
   "cell_type": "code",
   "execution_count": 1,
   "id": "6475cb4a",
   "metadata": {},
   "outputs": [],
   "source": [
    "from linkedin_scraper import Person, actions\n",
    "from selenium import webdriver\n",
    "#driver = webdriver.Chrome()\n",
    "import re\n",
    "\n",
    "from seleniumbase import Driver\n",
    "\n",
    "\n",
    "driver = Driver(uc=True)\n",
    "\n",
    "\n",
    "email = \"\"\n",
    "password = \"\"\n",
    "actions.login(driver, email, password) # if email and password isnt given, it'll prompt in terminal\n",
    "#person = Person(\"https://www.linkedin.com/in/vyacheslav-muzhichenko-8a1588109\", driver=driver)"
   ]
  },
  {
   "cell_type": "code",
   "execution_count": 253,
   "id": "b794f88d",
   "metadata": {},
   "outputs": [],
   "source": [
    "from selenium.common.exceptions import TimeoutException\n",
    "\n",
    "from linkedin_scraper import Job, constants as c\n",
    "from linkedin_scraper.objects import Scraper\n",
    "from selenium.webdriver.common.by import By\n",
    "from selenium.webdriver.support.wait import WebDriverWait\n",
    "from selenium.webdriver.support import expected_conditions as EC\n",
    "\n",
    "\n",
    "class Job(Scraper):\n",
    "\n",
    "    def __init__(\n",
    "        self,\n",
    "        linkedin_url=None,\n",
    "        linkedin_id=None,\n",
    "        job_title=None,\n",
    "        company=None,\n",
    "        company_linkedin_url=None,\n",
    "        location=None,\n",
    "        posted_date=None,\n",
    "        applicant_count=None,\n",
    "        job_description=None,\n",
    "        benefits=None,\n",
    "        driver=None,\n",
    "        close_on_complete=True,\n",
    "        scrape=True,\n",
    "    ):\n",
    "        super().__init__()\n",
    "        self.linkedin_url = linkedin_url\n",
    "        self.linkedin_id = linkedin_id\n",
    "        self.job_title = job_title\n",
    "        self.driver = driver\n",
    "        self.company = company\n",
    "        self.company_linkedin_url = company_linkedin_url\n",
    "        self.location = location\n",
    "        self.posted_date = posted_date\n",
    "        self.applicant_count = applicant_count\n",
    "        self.job_description = job_description\n",
    "        self.benefits = benefits\n",
    "\n",
    "        if scrape:\n",
    "            self.scrape(close_on_complete)\n",
    "\n",
    "    def __repr__(self):\n",
    "        return f\"<Job {self.job_title} {self.company}>\"\n",
    "\n",
    "    def scrape(self, close_on_complete=True):\n",
    "        if self.is_signed_in():\n",
    "            self.scrape_logged_in(close_on_complete=close_on_complete)\n",
    "        else:\n",
    "            raise NotImplemented(\"This part is not implemented yet\")\n",
    "\n",
    "    def to_dict(self):\n",
    "        return {\n",
    "            \"linkedin_url\": self.linkedin_url,\n",
    "            \"linkedin_id\": self.linkedin_id,\n",
    "            \"job_title\": self.job_title,\n",
    "            \"company\": self.company,\n",
    "            \"company_linkedin_url\": self.company_linkedin_url,\n",
    "            \"location\": self.location,\n",
    "            \"posted_date\": self.posted_date,\n",
    "            \"applicant_count\": self.applicant_count,\n",
    "            \"job_description\": self.job_description,\n",
    "            \"benefits\": self.benefits\n",
    "        }\n",
    "\n",
    "    \n",
    "    def scrape_description(self, close_on_complete=False):\n",
    "        driver = self.driver\n",
    "        if self.linkedin_url is not None:\n",
    "            driver.get(self.linkedin_url) \n",
    "            self.focus()\n",
    "            \n",
    "            # WERE REDIRECTED TO LOGIN PAGE, TRY TO LAD TARGET PAGE AGAIN\n",
    "            #if driver.find_elements(By.CLASS_NAME, 'join-form__form-body'):\n",
    "            #    driver.get(self.linkedin_url) \n",
    "            try:    \n",
    "                job_description_elem = self.wait_for_element_to_load(name=\"description__text\")\n",
    "            except:\n",
    "                if driver.find_elements(By.CLASS_NAME, 'join-form__form-body'):\n",
    "                    driver.get(self.linkedin_url) \n",
    "                    job_description_elem = self.wait_for_element_to_load(name=\"description__text\")\n",
    "                    \n",
    "            #self.mouse_click(job_description_elem.find_element(By.TAG_NAME, \"button\"))\n",
    "            job_description_elem.find_element(By.TAG_NAME, \"button\").click()\n",
    "            self.job_description = job_description_elem.text\n",
    "            \n",
    "    \n",
    "    def scrape_logged_in(self, close_on_complete=False):\n",
    "        driver = self.driver\n",
    "\n",
    "        driver.get(self.linkedin_url) \n",
    "        self.focus()\n",
    "        if self.job_title is None:\n",
    "            self.job_title = self.wait_for_element_to_load(name=\"job-details-jobs-unified-top-card__job-title\").text.strip()\n",
    "        if self.company is None:\n",
    "            self.company = self.wait_for_element_to_load(name=\"job-details-jobs-unified-top-card__primary-description-without-tagline\").find_element(By.TAG_NAME, \"a\").text.strip()\n",
    "        if self.company_linkedin_url is None:\n",
    "            self.company_linkedin_url = self.wait_for_element_to_load(name=\"job-details-jobs-unified-top-card__primary-description-without-tagline\").find_element(By.TAG_NAME, \"a\").get_attribute(\"href\")\n",
    "        if self.location is None:\n",
    "            self.location = self.wait_for_element_to_load(name=\"job-details-jobs-unified-top-card__primary-description-without-tagline\").text.strip()\n",
    "        #self.posted_date = self.wait_for_element_to_load(name=\"job-details-jobs-unified-top-card__posted-date\").text.strip()\n",
    "#         try:\n",
    "#             self.applicant_count = self.wait_for_element_to_load(name=\"job-details-jobs-unified-top-card__applicant-count\").text.strip()\n",
    "#         except TimeoutException:\n",
    "#             self.applicant_count = 0\n",
    "        job_description_elem = self.wait_for_element_to_load(name=\"jobs-description\")\n",
    "        self.mouse_click(job_description_elem.find_element(By.TAG_NAME, \"button\"))\n",
    "        job_description_elem = self.wait_for_element_to_load(name=\"jobs-description\")\n",
    "        job_description_elem.find_element(By.TAG_NAME, \"button\").click()\n",
    "        self.job_description = job_description_elem.find_element(By.ID, \"job-details\").text.strip()\n",
    "        try:\n",
    "            self.benefits = self.wait_for_element_to_load(name=\"jobs-unified-description__salary-main-rail-card\").text.strip()\n",
    "        except TimeoutException:\n",
    "            self.benefits = None\n",
    "\n",
    "        if close_on_complete:\n",
    "            driver.close()\n"
   ]
  },
  {
   "cell_type": "code",
   "execution_count": 6,
   "id": "28e685fd",
   "metadata": {},
   "outputs": [],
   "source": [
    "def scrape_job_card(base_element) -> Job:\n",
    "    job_div = base_element.find_element(By.CLASS_NAME, \"job-card-list__title\")\n",
    "    job_title = job_div.text.strip()\n",
    "    linkedin_url = job_div.get_attribute(\"href\")\n",
    "\n",
    "    linkedin_id = re.findall(r'jobs/view/\\d{8,12}/', linkedin_url)\n",
    "    if linkedin_id:\n",
    "        linkedin_id = linkedin_id[0].split('/')[-2]\n",
    "\n",
    "    company = base_element.find_element(By.CLASS_NAME, \"job-card-container__primary-description\").text\n",
    "    location = base_element.find_element(By.CLASS_NAME, \"job-card-container__metadata-item\").text\n",
    "    job = Job(linkedin_url=linkedin_url, linkedin_id = linkedin_id, job_title=job_title, company=company, location=location, scrape=False, driver=driver)\n",
    "    return job"
   ]
  },
  {
   "cell_type": "markdown",
   "id": "78a6ce14",
   "metadata": {},
   "source": [
    "### Структура поискового запроса\n",
    "\n",
    "https://www.linkedin.com/jobs/search?keywords=Machine+Learning+Engineer&distance=25&geoId=101728296&origin=JOBS_HOME_SEARCH_CARDS&f_TPR=r86400\n",
    "\n",
    "https://www.linkedin.com/jobs/search\n",
    "\n",
    "?keywords=Machine+Learning+Engineer  -- запрос\n",
    "\n",
    "&distance=25                         -- дистанция? Не совсем понятно\n",
    "\n",
    "&geoId=101728296                     -- ИД локации, в данном случае - Россия\n",
    "\n",
    "&origin=JOBS_HOME_SEARCH_CARDS       -- говорит поисковому API с какой страницы поступил запорс\n",
    "\n",
    "&f_TPR=r86400                        -- период в секундах, ограничение на время мя размещения вакании; r86400 - за посление 24 часа"
   ]
  },
  {
   "cell_type": "code",
   "execution_count": 42,
   "id": "0ba5d878",
   "metadata": {},
   "outputs": [],
   "source": [
    "driver.get(\"https://www.linkedin.com/jobs/search?keywords=Machine+Learning+Engineer&distance=25&geoId=101728296&origin=JOBS_HOME_SEARCH_CARDS&f_TPR=r604800\")"
   ]
  },
  {
   "cell_type": "code",
   "execution_count": 51,
   "id": "31652a8b",
   "metadata": {},
   "outputs": [],
   "source": [
    "# Скрапинг на странице поиска\n",
    "\n",
    "areas = driver.find_elements(By.CLASS_NAME, \"job-card-list__entity-lockup\")\n",
    "jobs = []\n",
    "for area in areas:\n",
    "    job = scrape_job_card(area)\n",
    "    jobs.append(job)"
   ]
  },
  {
   "cell_type": "code",
   "execution_count": 52,
   "id": "e0a81ba1",
   "metadata": {},
   "outputs": [
    {
     "data": {
      "text/plain": [
       "[]"
      ]
     },
     "execution_count": 52,
     "metadata": {},
     "output_type": "execute_result"
    }
   ],
   "source": [
    "jobs"
   ]
  },
  {
   "cell_type": "code",
   "execution_count": null,
   "id": "c264f69b",
   "metadata": {},
   "outputs": [],
   "source": [
    "import time\n",
    "import numpy as np\n",
    "np.random.random(2)\n"
   ]
  },
  {
   "cell_type": "code",
   "execution_count": 25,
   "id": "0e42cc28",
   "metadata": {},
   "outputs": [],
   "source": [
    "# import re\n",
    "# job_ids = []\n",
    "# for job_result in jobs:\n",
    "#     job_id = re.findall(r'jobs/view/\\d{8,12}/',job_result.linkedin_url)\n",
    "#     if job_id:\n",
    "#         job_id = job_id[0].split('/')[-2]\n",
    "#         job_ids.append(job_id)"
   ]
  },
  {
   "cell_type": "code",
   "execution_count": 28,
   "id": "704e1706",
   "metadata": {},
   "outputs": [],
   "source": [
    "jobs[0].scrape_logged_in()"
   ]
  },
  {
   "cell_type": "code",
   "execution_count": 121,
   "id": "77cb9203",
   "metadata": {
    "scrolled": true
   },
   "outputs": [
    {
     "ename": "NoSuchElementException",
     "evalue": "Message: no such element: Unable to locate element: {\"method\":\"tag name\",\"selector\":\"button\"}\n  (Session info: chrome=120.0.6099.224); For documentation on this error, please visit: https://www.selenium.dev/documentation/webdriver/troubleshooting/errors#no-such-element-exception\nStacktrace:\n\tGetHandleVerifier [0x00007FF6EA602142+3514994]\n\t(No symbol) [0x00007FF6EA220CE2]\n\t(No symbol) [0x00007FF6EA0C76AA]\n\t(No symbol) [0x00007FF6EA111860]\n\t(No symbol) [0x00007FF6EA11197C]\n\t(No symbol) [0x00007FF6EA1064FC]\n\t(No symbol) [0x00007FF6EA13602F]\n\t(No symbol) [0x00007FF6EA1063B6]\n\t(No symbol) [0x00007FF6EA136490]\n\t(No symbol) [0x00007FF6EA1528F6]\n\t(No symbol) [0x00007FF6EA135D93]\n\t(No symbol) [0x00007FF6EA104BDC]\n\t(No symbol) [0x00007FF6EA105C64]\n\tGetHandleVerifier [0x00007FF6EA62E16B+3695259]\n\tGetHandleVerifier [0x00007FF6EA686737+4057191]\n\tGetHandleVerifier [0x00007FF6EA67E4E3+4023827]\n\tGetHandleVerifier [0x00007FF6EA3504F9+689705]\n\t(No symbol) [0x00007FF6EA22C048]\n\t(No symbol) [0x00007FF6EA228044]\n\t(No symbol) [0x00007FF6EA2281C9]\n\t(No symbol) [0x00007FF6EA2188C4]\n\tBaseThreadInitThunk [0x00007FFE3A357344+20]\n\tRtlUserThreadStart [0x00007FFE3B1626B1+33]\n",
     "output_type": "error",
     "traceback": [
      "\u001b[1;31m---------------------------------------------------------------------------\u001b[0m",
      "\u001b[1;31mNoSuchElementException\u001b[0m                    Traceback (most recent call last)",
      "Cell \u001b[1;32mIn[121], line 5\u001b[0m\n\u001b[0;32m      2\u001b[0m \u001b[38;5;28;01mfor\u001b[39;00m job_result \u001b[38;5;129;01min\u001b[39;00m jobs:\n\u001b[0;32m      3\u001b[0m     job_url \u001b[38;5;241m=\u001b[39m job_result\u001b[38;5;241m.\u001b[39mlinkedin_url\n\u001b[1;32m----> 5\u001b[0m     job_full \u001b[38;5;241m=\u001b[39m \u001b[43mJob\u001b[49m\u001b[43m(\u001b[49m\u001b[43mjob_url\u001b[49m\u001b[43m,\u001b[49m\u001b[43m \u001b[49m\u001b[43mdriver\u001b[49m\u001b[38;5;241;43m=\u001b[39;49m\u001b[43mdriver\u001b[49m\u001b[43m,\u001b[49m\u001b[43m \u001b[49m\u001b[43mclose_on_complete\u001b[49m\u001b[38;5;241;43m=\u001b[39;49m\u001b[38;5;28;43;01mFalse\u001b[39;49;00m\u001b[43m)\u001b[49m\n\u001b[0;32m      6\u001b[0m     jobs_full\u001b[38;5;241m.\u001b[39mappend(job_full)\n",
      "Cell \u001b[1;32mIn[103], line 40\u001b[0m, in \u001b[0;36mJob.__init__\u001b[1;34m(self, linkedin_url, job_title, company, company_linkedin_url, location, posted_date, applicant_count, job_description, benefits, driver, close_on_complete, scrape)\u001b[0m\n\u001b[0;32m     37\u001b[0m \u001b[38;5;28mself\u001b[39m\u001b[38;5;241m.\u001b[39mbenefits \u001b[38;5;241m=\u001b[39m benefits\n\u001b[0;32m     39\u001b[0m \u001b[38;5;28;01mif\u001b[39;00m scrape:\n\u001b[1;32m---> 40\u001b[0m     \u001b[38;5;28;43mself\u001b[39;49m\u001b[38;5;241;43m.\u001b[39;49m\u001b[43mscrape\u001b[49m\u001b[43m(\u001b[49m\u001b[43mclose_on_complete\u001b[49m\u001b[43m)\u001b[49m\n",
      "Cell \u001b[1;32mIn[103], line 47\u001b[0m, in \u001b[0;36mJob.scrape\u001b[1;34m(self, close_on_complete)\u001b[0m\n\u001b[0;32m     45\u001b[0m \u001b[38;5;28;01mdef\u001b[39;00m \u001b[38;5;21mscrape\u001b[39m(\u001b[38;5;28mself\u001b[39m, close_on_complete\u001b[38;5;241m=\u001b[39m\u001b[38;5;28;01mTrue\u001b[39;00m):\n\u001b[0;32m     46\u001b[0m     \u001b[38;5;28;01mif\u001b[39;00m \u001b[38;5;28mself\u001b[39m\u001b[38;5;241m.\u001b[39mis_signed_in():\n\u001b[1;32m---> 47\u001b[0m         \u001b[38;5;28;43mself\u001b[39;49m\u001b[38;5;241;43m.\u001b[39;49m\u001b[43mscrape_logged_in\u001b[49m\u001b[43m(\u001b[49m\u001b[43mclose_on_complete\u001b[49m\u001b[38;5;241;43m=\u001b[39;49m\u001b[43mclose_on_complete\u001b[49m\u001b[43m)\u001b[49m\n\u001b[0;32m     48\u001b[0m     \u001b[38;5;28;01melse\u001b[39;00m:\n\u001b[0;32m     49\u001b[0m         \u001b[38;5;28;01mraise\u001b[39;00m \u001b[38;5;28mNotImplemented\u001b[39m(\u001b[38;5;124m\"\u001b[39m\u001b[38;5;124mThis part is not implemented yet\u001b[39m\u001b[38;5;124m\"\u001b[39m)\n",
      "Cell \u001b[1;32mIn[103], line 84\u001b[0m, in \u001b[0;36mJob.scrape_logged_in\u001b[1;34m(self, close_on_complete)\u001b[0m\n\u001b[0;32m     78\u001b[0m         \u001b[38;5;66;03m#self.posted_date = self.wait_for_element_to_load(name=\"job-details-jobs-unified-top-card__posted-date\").text.strip()\u001b[39;00m\n\u001b[0;32m     79\u001b[0m \u001b[38;5;66;03m#         try:\u001b[39;00m\n\u001b[0;32m     80\u001b[0m \u001b[38;5;66;03m#             self.applicant_count = self.wait_for_element_to_load(name=\"job-details-jobs-unified-top-card__applicant-count\").text.strip()\u001b[39;00m\n\u001b[0;32m     81\u001b[0m \u001b[38;5;66;03m#         except TimeoutException:\u001b[39;00m\n\u001b[0;32m     82\u001b[0m \u001b[38;5;66;03m#             self.applicant_count = 0\u001b[39;00m\n\u001b[0;32m     83\u001b[0m         job_description_elem \u001b[38;5;241m=\u001b[39m \u001b[38;5;28mself\u001b[39m\u001b[38;5;241m.\u001b[39mwait_for_element_to_load(name\u001b[38;5;241m=\u001b[39m\u001b[38;5;124m\"\u001b[39m\u001b[38;5;124mjobs-description\u001b[39m\u001b[38;5;124m\"\u001b[39m)\n\u001b[1;32m---> 84\u001b[0m         \u001b[38;5;28mself\u001b[39m\u001b[38;5;241m.\u001b[39mmouse_click(\u001b[43mjob_description_elem\u001b[49m\u001b[38;5;241;43m.\u001b[39;49m\u001b[43mfind_element\u001b[49m\u001b[43m(\u001b[49m\u001b[43mBy\u001b[49m\u001b[38;5;241;43m.\u001b[39;49m\u001b[43mTAG_NAME\u001b[49m\u001b[43m,\u001b[49m\u001b[43m \u001b[49m\u001b[38;5;124;43m\"\u001b[39;49m\u001b[38;5;124;43mbutton\u001b[39;49m\u001b[38;5;124;43m\"\u001b[39;49m\u001b[43m)\u001b[49m)\n\u001b[0;32m     85\u001b[0m         job_description_elem \u001b[38;5;241m=\u001b[39m \u001b[38;5;28mself\u001b[39m\u001b[38;5;241m.\u001b[39mwait_for_element_to_load(name\u001b[38;5;241m=\u001b[39m\u001b[38;5;124m\"\u001b[39m\u001b[38;5;124mjobs-description\u001b[39m\u001b[38;5;124m\"\u001b[39m)\n\u001b[0;32m     86\u001b[0m         job_description_elem\u001b[38;5;241m.\u001b[39mfind_element(By\u001b[38;5;241m.\u001b[39mTAG_NAME, \u001b[38;5;124m\"\u001b[39m\u001b[38;5;124mbutton\u001b[39m\u001b[38;5;124m\"\u001b[39m)\u001b[38;5;241m.\u001b[39mclick()\n",
      "File \u001b[1;32m~\\PycharmProjects\\NLP_explore\\venv\\lib\\site-packages\\selenium\\webdriver\\remote\\webelement.py:417\u001b[0m, in \u001b[0;36mWebElement.find_element\u001b[1;34m(self, by, value)\u001b[0m\n\u001b[0;32m    414\u001b[0m     by \u001b[38;5;241m=\u001b[39m By\u001b[38;5;241m.\u001b[39mCSS_SELECTOR\n\u001b[0;32m    415\u001b[0m     value \u001b[38;5;241m=\u001b[39m \u001b[38;5;124mf\u001b[39m\u001b[38;5;124m'\u001b[39m\u001b[38;5;124m[name=\u001b[39m\u001b[38;5;124m\"\u001b[39m\u001b[38;5;132;01m{\u001b[39;00mvalue\u001b[38;5;132;01m}\u001b[39;00m\u001b[38;5;124m\"\u001b[39m\u001b[38;5;124m]\u001b[39m\u001b[38;5;124m'\u001b[39m\n\u001b[1;32m--> 417\u001b[0m \u001b[38;5;28;01mreturn\u001b[39;00m \u001b[38;5;28;43mself\u001b[39;49m\u001b[38;5;241;43m.\u001b[39;49m\u001b[43m_execute\u001b[49m\u001b[43m(\u001b[49m\u001b[43mCommand\u001b[49m\u001b[38;5;241;43m.\u001b[39;49m\u001b[43mFIND_CHILD_ELEMENT\u001b[49m\u001b[43m,\u001b[49m\u001b[43m \u001b[49m\u001b[43m{\u001b[49m\u001b[38;5;124;43m\"\u001b[39;49m\u001b[38;5;124;43musing\u001b[39;49m\u001b[38;5;124;43m\"\u001b[39;49m\u001b[43m:\u001b[49m\u001b[43m \u001b[49m\u001b[43mby\u001b[49m\u001b[43m,\u001b[49m\u001b[43m \u001b[49m\u001b[38;5;124;43m\"\u001b[39;49m\u001b[38;5;124;43mvalue\u001b[39;49m\u001b[38;5;124;43m\"\u001b[39;49m\u001b[43m:\u001b[49m\u001b[43m \u001b[49m\u001b[43mvalue\u001b[49m\u001b[43m}\u001b[49m\u001b[43m)\u001b[49m[\u001b[38;5;124m\"\u001b[39m\u001b[38;5;124mvalue\u001b[39m\u001b[38;5;124m\"\u001b[39m]\n",
      "File \u001b[1;32m~\\PycharmProjects\\NLP_explore\\venv\\lib\\site-packages\\selenium\\webdriver\\remote\\webelement.py:395\u001b[0m, in \u001b[0;36mWebElement._execute\u001b[1;34m(self, command, params)\u001b[0m\n\u001b[0;32m    393\u001b[0m     params \u001b[38;5;241m=\u001b[39m {}\n\u001b[0;32m    394\u001b[0m params[\u001b[38;5;124m\"\u001b[39m\u001b[38;5;124mid\u001b[39m\u001b[38;5;124m\"\u001b[39m] \u001b[38;5;241m=\u001b[39m \u001b[38;5;28mself\u001b[39m\u001b[38;5;241m.\u001b[39m_id\n\u001b[1;32m--> 395\u001b[0m \u001b[38;5;28;01mreturn\u001b[39;00m \u001b[38;5;28;43mself\u001b[39;49m\u001b[38;5;241;43m.\u001b[39;49m\u001b[43m_parent\u001b[49m\u001b[38;5;241;43m.\u001b[39;49m\u001b[43mexecute\u001b[49m\u001b[43m(\u001b[49m\u001b[43mcommand\u001b[49m\u001b[43m,\u001b[49m\u001b[43m \u001b[49m\u001b[43mparams\u001b[49m\u001b[43m)\u001b[49m\n",
      "File \u001b[1;32m~\\PycharmProjects\\NLP_explore\\venv\\lib\\site-packages\\selenium\\webdriver\\remote\\webdriver.py:348\u001b[0m, in \u001b[0;36mWebDriver.execute\u001b[1;34m(self, driver_command, params)\u001b[0m\n\u001b[0;32m    346\u001b[0m response \u001b[38;5;241m=\u001b[39m \u001b[38;5;28mself\u001b[39m\u001b[38;5;241m.\u001b[39mcommand_executor\u001b[38;5;241m.\u001b[39mexecute(driver_command, params)\n\u001b[0;32m    347\u001b[0m \u001b[38;5;28;01mif\u001b[39;00m response:\n\u001b[1;32m--> 348\u001b[0m     \u001b[38;5;28;43mself\u001b[39;49m\u001b[38;5;241;43m.\u001b[39;49m\u001b[43merror_handler\u001b[49m\u001b[38;5;241;43m.\u001b[39;49m\u001b[43mcheck_response\u001b[49m\u001b[43m(\u001b[49m\u001b[43mresponse\u001b[49m\u001b[43m)\u001b[49m\n\u001b[0;32m    349\u001b[0m     response[\u001b[38;5;124m\"\u001b[39m\u001b[38;5;124mvalue\u001b[39m\u001b[38;5;124m\"\u001b[39m] \u001b[38;5;241m=\u001b[39m \u001b[38;5;28mself\u001b[39m\u001b[38;5;241m.\u001b[39m_unwrap_value(response\u001b[38;5;241m.\u001b[39mget(\u001b[38;5;124m\"\u001b[39m\u001b[38;5;124mvalue\u001b[39m\u001b[38;5;124m\"\u001b[39m, \u001b[38;5;28;01mNone\u001b[39;00m))\n\u001b[0;32m    350\u001b[0m     \u001b[38;5;28;01mreturn\u001b[39;00m response\n",
      "File \u001b[1;32m~\\PycharmProjects\\NLP_explore\\venv\\lib\\site-packages\\selenium\\webdriver\\remote\\errorhandler.py:229\u001b[0m, in \u001b[0;36mErrorHandler.check_response\u001b[1;34m(self, response)\u001b[0m\n\u001b[0;32m    227\u001b[0m         alert_text \u001b[38;5;241m=\u001b[39m value[\u001b[38;5;124m\"\u001b[39m\u001b[38;5;124malert\u001b[39m\u001b[38;5;124m\"\u001b[39m]\u001b[38;5;241m.\u001b[39mget(\u001b[38;5;124m\"\u001b[39m\u001b[38;5;124mtext\u001b[39m\u001b[38;5;124m\"\u001b[39m)\n\u001b[0;32m    228\u001b[0m     \u001b[38;5;28;01mraise\u001b[39;00m exception_class(message, screen, stacktrace, alert_text)  \u001b[38;5;66;03m# type: ignore[call-arg]  # mypy is not smart enough here\u001b[39;00m\n\u001b[1;32m--> 229\u001b[0m \u001b[38;5;28;01mraise\u001b[39;00m exception_class(message, screen, stacktrace)\n",
      "\u001b[1;31mNoSuchElementException\u001b[0m: Message: no such element: Unable to locate element: {\"method\":\"tag name\",\"selector\":\"button\"}\n  (Session info: chrome=120.0.6099.224); For documentation on this error, please visit: https://www.selenium.dev/documentation/webdriver/troubleshooting/errors#no-such-element-exception\nStacktrace:\n\tGetHandleVerifier [0x00007FF6EA602142+3514994]\n\t(No symbol) [0x00007FF6EA220CE2]\n\t(No symbol) [0x00007FF6EA0C76AA]\n\t(No symbol) [0x00007FF6EA111860]\n\t(No symbol) [0x00007FF6EA11197C]\n\t(No symbol) [0x00007FF6EA1064FC]\n\t(No symbol) [0x00007FF6EA13602F]\n\t(No symbol) [0x00007FF6EA1063B6]\n\t(No symbol) [0x00007FF6EA136490]\n\t(No symbol) [0x00007FF6EA1528F6]\n\t(No symbol) [0x00007FF6EA135D93]\n\t(No symbol) [0x00007FF6EA104BDC]\n\t(No symbol) [0x00007FF6EA105C64]\n\tGetHandleVerifier [0x00007FF6EA62E16B+3695259]\n\tGetHandleVerifier [0x00007FF6EA686737+4057191]\n\tGetHandleVerifier [0x00007FF6EA67E4E3+4023827]\n\tGetHandleVerifier [0x00007FF6EA3504F9+689705]\n\t(No symbol) [0x00007FF6EA22C048]\n\t(No symbol) [0x00007FF6EA228044]\n\t(No symbol) [0x00007FF6EA2281C9]\n\t(No symbol) [0x00007FF6EA2188C4]\n\tBaseThreadInitThunk [0x00007FFE3A357344+20]\n\tRtlUserThreadStart [0x00007FFE3B1626B1+33]\n"
     ]
    }
   ],
   "source": [
    "jobs_full = []\n",
    "for job_result in jobs:\n",
    "    job_url = job_result.linkedin_url\n",
    "    \n",
    "    job_full = Job(job_url, driver=driver, close_on_complete=False)\n",
    "    jobs_full.append(job_full)"
   ]
  },
  {
   "cell_type": "code",
   "execution_count": 130,
   "id": "1a6a4d53",
   "metadata": {},
   "outputs": [
    {
     "name": "stdout",
     "output_type": "stream",
     "text": [
      "Об этой вакансии\n",
      "ServiceNow ITSM Developer\n",
      "An opportunity to become an integral part of a leading consultancy’s ServiceNow Practice has become available for experienced candidates, that can be flexible for travel across Europe; this will be an integral part of the role. Moreover, candidates that have the flexibility to fully relocate to another European country to where they assigned to the client will be an essential part of the process. A generous and full relocation package will be provided, the details of which will be provided on application.\n"
     ]
    }
   ],
   "source": [
    "print(jobs_full[0].job_description)"
   ]
  },
  {
   "cell_type": "code",
   "execution_count": 134,
   "id": "7e17b51d",
   "metadata": {},
   "outputs": [],
   "source": [
    "tj = Job(jobs[0].linkedin_url, driver=driver, close_on_complete=False)"
   ]
  },
  {
   "cell_type": "code",
   "execution_count": 40,
   "id": "aeffb255",
   "metadata": {},
   "outputs": [],
   "source": [
    "#driver.close()"
   ]
  },
  {
   "cell_type": "markdown",
   "id": "36cd76aa",
   "metadata": {},
   "source": [
    "## Scrape without login"
   ]
  },
  {
   "cell_type": "code",
   "execution_count": 273,
   "id": "ce6425f9",
   "metadata": {},
   "outputs": [],
   "source": [
    "from linkedin_scraper import Person, actions\n",
    "from selenium import webdriver\n",
    "#driver = webdriver.Chrome()\n",
    "import re\n",
    "\n",
    "from seleniumbase import Driver\n",
    "\n",
    "\n",
    "driver = Driver(uc=True)\n",
    "\n",
    "driver.get('https://www.linkedin.com/jobs/search/?currentJobId=3811321596&f_TPR=r86400&geoId=101165590&keywords=Machine%20Learning%20Engineer&location=%D0%A1%D0%BE%D0%B5%D0%B4%D0%B8%D0%BD%D1%91%D0%BD%D0%BD%D0%BE%D0%B5%20%D0%9A%D0%BE%D1%80%D0%BE%D0%BB%D0%B5%D0%B2%D1%81%D1%82%D0%B2%D0%BE&origin=JOB_SEARCH_PAGE_LOCATION_AUTOCOMPLETE&refresh=true')"
   ]
  },
  {
   "cell_type": "code",
   "execution_count": 187,
   "id": "484cf83a",
   "metadata": {},
   "outputs": [],
   "source": [
    "def scrape_job_card_wo_login(base_element) -> Job:\n",
    "\n",
    "    job_title = base_element.find_element(By.CLASS_NAME, \"base-search-card__title\").text\n",
    "    if base_element.get_attribute(\"href\"):\n",
    "        linkedin_url = base_element.get_attribute(\"href\")\n",
    "    else:\n",
    "        linkedin_url = base_element.find_element(By.TAG_NAME, 'a').get_attribute(\"href\")\n",
    "        \n",
    "    posted = base_element.find_element(By.CLASS_NAME, \"base-search-card__metadata\").find_element(By.TAG_NAME, 'time').get_attribute(\"datetime\")\n",
    "\n",
    "    linkedin_id = re.findall('\\d{10,12}/?', linkedin_url)\n",
    "    if linkedin_id:\n",
    "        linkedin_id = linkedin_id[0]\n",
    "\n",
    "    location = base_element.find_element(By.CLASS_NAME, \"job-search-card__location\").text\n",
    "    company_info = base_element.find_element(By.CLASS_NAME, \"base-search-card__subtitle\")\n",
    "    company = company_info.text\n",
    "    try:\n",
    "        company_linkedin_url = company_info.find_element(By.TAG_NAME, 'a').get_attribute(\"href\")\n",
    "    except:\n",
    "        company_linkedin_url = None\n",
    "    \n",
    "    job = Job(linkedin_url=linkedin_url, company_linkedin_url = company_linkedin_url, linkedin_id = linkedin_id, posted_date = posted, job_title=job_title, company=company, location=location, scrape=False, driver=driver)\n",
    "    return job"
   ]
  },
  {
   "cell_type": "code",
   "execution_count": 274,
   "id": "7151a7dd",
   "metadata": {
    "scrolled": true
   },
   "outputs": [],
   "source": [
    "# Скрапинг на странице поиска\n",
    "## WAIT FOR LOAD jobs-search__results-list\n",
    "\n",
    "\n",
    "areas = driver.find_elements(By.CLASS_NAME, \"base-card\")\n",
    "jobs = []\n",
    "for area in areas:\n",
    "    job = scrape_job_card_wo_login(area)\n",
    "    jobs.append(job)"
   ]
  },
  {
   "cell_type": "code",
   "execution_count": 275,
   "id": "84ab156c",
   "metadata": {
    "scrolled": true
   },
   "outputs": [
    {
     "data": {
      "text/plain": [
       "[<Job Data Scientist (Marketing) Sagacity>,\n",
       " <Job Data Scientist - VIE (H/F) Energy Jobline>,\n",
       " <Job Junior Software Engineer Siemens Digital Industries Software>,\n",
       " <Job Robotics Software Engineer II Hyster-Yale Group>,\n",
       " <Job DevOps / Machine Learning Ops Engineer Vivo Talent>,\n",
       " <Job Senior Data Scientist (Battery Science) Harnham>,\n",
       " <Job Software Engineer Aurora Energy Research>,\n",
       " <Job Data Engineer Redde Northgate plc>,\n",
       " <Job Product Engineer Intercom>,\n",
       " <Job Lead SRE/Software Engineer - Up to £180k + Bonus - Elite Scaling FinTech Firm Hunter Bond>,\n",
       " <Job Software Engineer Verto People>,\n",
       " <Job Principal Software Engineer Expert Executive Recruiters (EER Global)>,\n",
       " <Job Senior Software Engineer Erin Associates Ltd>,\n",
       " <Job Senior Product Engineer Intercom>,\n",
       " <Job Software Engineer ARCH EUROPE INSURANCE SERVICES LTD>,\n",
       " <Job Data Engineer Experis UK>,\n",
       " <Job Data Scientist Harnham>,\n",
       " <Job Data Scientist Harnham>,\n",
       " <Job Google Cloud Platform Data Engineer CloudMR>,\n",
       " <Job Lead Data Engineer : Fully Remote TipTopJob>,\n",
       " <Job Data Engineer Maxwell Bond®>,\n",
       " <Job Data Scientist Harnham>,\n",
       " <Job Embedded Software Engineer (Grads considered) Shorterm Group>,\n",
       " <Job Senior Software Engineer DiverseJobsMatter>,\n",
       " <Job Data Scientist Harnham>]"
      ]
     },
     "execution_count": 275,
     "metadata": {},
     "output_type": "execute_result"
    }
   ],
   "source": [
    "jobs"
   ]
  },
  {
   "cell_type": "code",
   "execution_count": 256,
   "id": "bb0d66c7",
   "metadata": {},
   "outputs": [],
   "source": [
    "#[job.scrape_description() for job in jobs]"
   ]
  },
  {
   "cell_type": "code",
   "execution_count": 276,
   "id": "01bdbc1f",
   "metadata": {
    "scrolled": true
   },
   "outputs": [],
   "source": [
    "import time\n",
    "import numpy as np\n",
    "\n",
    "clean_jobs = []\n",
    "\n",
    "for job in jobs:\n",
    "    if job.job_description is None:\n",
    "        job.scrape_description()\n",
    "        timeout = np.random.choice(np.linspace(0.1, 1.5, 20))\n",
    "        time.sleep(timeout)\n",
    "    else:\n",
    "        pass\n",
    "    \n",
    "    clean_jobs.append(job)\n",
    "    "
   ]
  },
  {
   "cell_type": "code",
   "execution_count": 277,
   "id": "5e22b262",
   "metadata": {},
   "outputs": [
    {
     "data": {
      "text/html": [
       "<div>\n",
       "<style scoped>\n",
       "    .dataframe tbody tr th:only-of-type {\n",
       "        vertical-align: middle;\n",
       "    }\n",
       "\n",
       "    .dataframe tbody tr th {\n",
       "        vertical-align: top;\n",
       "    }\n",
       "\n",
       "    .dataframe thead th {\n",
       "        text-align: right;\n",
       "    }\n",
       "</style>\n",
       "<table border=\"1\" class=\"dataframe\">\n",
       "  <thead>\n",
       "    <tr style=\"text-align: right;\">\n",
       "      <th></th>\n",
       "      <th>linkedin_url</th>\n",
       "      <th>linkedin_id</th>\n",
       "      <th>job_title</th>\n",
       "      <th>company</th>\n",
       "      <th>company_linkedin_url</th>\n",
       "      <th>location</th>\n",
       "      <th>posted_date</th>\n",
       "      <th>applicant_count</th>\n",
       "      <th>job_description</th>\n",
       "      <th>benefits</th>\n",
       "    </tr>\n",
       "  </thead>\n",
       "  <tbody>\n",
       "    <tr>\n",
       "      <th>0</th>\n",
       "      <td>https://uk.linkedin.com/jobs/view/data-scienti...</td>\n",
       "      <td>3810089593</td>\n",
       "      <td>Data Scientist (Marketing)</td>\n",
       "      <td>Sagacity</td>\n",
       "      <td>https://uk.linkedin.com/company/sagacity-solut...</td>\n",
       "      <td>London, England, United Kingdom</td>\n",
       "      <td>2024-01-20</td>\n",
       "      <td>None</td>\n",
       "      <td>As part of the Analytics Team, you will work c...</td>\n",
       "      <td>None</td>\n",
       "    </tr>\n",
       "    <tr>\n",
       "      <th>1</th>\n",
       "      <td>https://uk.linkedin.com/jobs/view/data-scienti...</td>\n",
       "      <td>3810455270</td>\n",
       "      <td>Data Scientist - VIE (H/F)</td>\n",
       "      <td>Energy Jobline</td>\n",
       "      <td>https://uk.linkedin.com/company/energy-jobline...</td>\n",
       "      <td>London, England, United Kingdom</td>\n",
       "      <td>2024-01-21</td>\n",
       "      <td>None</td>\n",
       "      <td>About US (GEMS)\\n\\nENGIE Global Energy Managem...</td>\n",
       "      <td>None</td>\n",
       "    </tr>\n",
       "    <tr>\n",
       "      <th>2</th>\n",
       "      <td>https://uk.linkedin.com/jobs/view/junior-softw...</td>\n",
       "      <td>3811111258</td>\n",
       "      <td>Junior Software Engineer</td>\n",
       "      <td>Siemens Digital Industries Software</td>\n",
       "      <td>https://www.linkedin.com/company/siemenssoftwa...</td>\n",
       "      <td>Cambridge, England, United Kingdom</td>\n",
       "      <td>2024-01-20</td>\n",
       "      <td>None</td>\n",
       "      <td>Job Family: Research &amp; Development\\n\\nReq ID: ...</td>\n",
       "      <td>None</td>\n",
       "    </tr>\n",
       "    <tr>\n",
       "      <th>3</th>\n",
       "      <td>https://uk.linkedin.com/jobs/view/robotics-sof...</td>\n",
       "      <td>3748931223</td>\n",
       "      <td>Robotics Software Engineer II</td>\n",
       "      <td>Hyster-Yale Group</td>\n",
       "      <td>https://www.linkedin.com/company/hyster-yale-g...</td>\n",
       "      <td>Frimley, England, United Kingdom</td>\n",
       "      <td>2024-01-21</td>\n",
       "      <td>None</td>\n",
       "      <td>Job Title\\n\\nRobotics Software Engineer II\\n\\n...</td>\n",
       "      <td>None</td>\n",
       "    </tr>\n",
       "    <tr>\n",
       "      <th>4</th>\n",
       "      <td>https://uk.linkedin.com/jobs/view/devops-machi...</td>\n",
       "      <td>3811101178</td>\n",
       "      <td>DevOps / Machine Learning Ops Engineer</td>\n",
       "      <td>Vivo Talent</td>\n",
       "      <td>None</td>\n",
       "      <td>Bristol, England, United Kingdom</td>\n",
       "      <td>2024-01-20</td>\n",
       "      <td>None</td>\n",
       "      <td>We have a fantastic opportunity for a DevOps /...</td>\n",
       "      <td>None</td>\n",
       "    </tr>\n",
       "    <tr>\n",
       "      <th>5</th>\n",
       "      <td>https://uk.linkedin.com/jobs/view/senior-data-...</td>\n",
       "      <td>3809526269</td>\n",
       "      <td>Senior Data Scientist (Battery Science)</td>\n",
       "      <td>Harnham</td>\n",
       "      <td>https://uk.linkedin.com/company/harnham?trk=pu...</td>\n",
       "      <td>London, England, United Kingdom</td>\n",
       "      <td>2024-01-21</td>\n",
       "      <td>None</td>\n",
       "      <td>Senior Data Scientist (Battery Science)\\nUp to...</td>\n",
       "      <td>None</td>\n",
       "    </tr>\n",
       "    <tr>\n",
       "      <th>6</th>\n",
       "      <td>https://uk.linkedin.com/jobs/view/software-eng...</td>\n",
       "      <td>3759765441</td>\n",
       "      <td>Software Engineer</td>\n",
       "      <td>Aurora Energy Research</td>\n",
       "      <td>https://uk.linkedin.com/company/aurora-energy-...</td>\n",
       "      <td>Oxford, England, United Kingdom</td>\n",
       "      <td>2024-01-21</td>\n",
       "      <td>None</td>\n",
       "      <td>Department: Tech - Software Development\\nEmplo...</td>\n",
       "      <td>None</td>\n",
       "    </tr>\n",
       "    <tr>\n",
       "      <th>7</th>\n",
       "      <td>https://uk.linkedin.com/jobs/view/data-enginee...</td>\n",
       "      <td>3810085879</td>\n",
       "      <td>Data Engineer</td>\n",
       "      <td>Redde Northgate plc</td>\n",
       "      <td>https://uk.linkedin.com/company/reddenorthgate...</td>\n",
       "      <td>Darlington, England, United Kingdom</td>\n",
       "      <td>2024-01-20</td>\n",
       "      <td>None</td>\n",
       "      <td>Location: Home BasedSalary: £40,000 to £48,000...</td>\n",
       "      <td>None</td>\n",
       "    </tr>\n",
       "    <tr>\n",
       "      <th>8</th>\n",
       "      <td>https://uk.linkedin.com/jobs/view/product-engi...</td>\n",
       "      <td>3802143404</td>\n",
       "      <td>Product Engineer</td>\n",
       "      <td>Intercom</td>\n",
       "      <td>https://www.linkedin.com/company/intercom?trk=...</td>\n",
       "      <td>London, England, United Kingdom</td>\n",
       "      <td>2024-01-21</td>\n",
       "      <td>None</td>\n",
       "      <td>Intercom is an AI powered, automation-first cu...</td>\n",
       "      <td>None</td>\n",
       "    </tr>\n",
       "    <tr>\n",
       "      <th>9</th>\n",
       "      <td>https://uk.linkedin.com/jobs/view/lead-sre-sof...</td>\n",
       "      <td>3810709931</td>\n",
       "      <td>Lead SRE/Software Engineer - Up to £180k + Bon...</td>\n",
       "      <td>Hunter Bond</td>\n",
       "      <td>https://uk.linkedin.com/company/hunter-bond?tr...</td>\n",
       "      <td>London, England, United Kingdom</td>\n",
       "      <td>2024-01-21</td>\n",
       "      <td>None</td>\n",
       "      <td>Job Title: Lead SRE/Software Engineer\\nClient:...</td>\n",
       "      <td>None</td>\n",
       "    </tr>\n",
       "    <tr>\n",
       "      <th>10</th>\n",
       "      <td>https://uk.linkedin.com/jobs/view/software-eng...</td>\n",
       "      <td>3810996855</td>\n",
       "      <td>Software Engineer</td>\n",
       "      <td>Verto People</td>\n",
       "      <td>https://uk.linkedin.com/company/vertopeople?tr...</td>\n",
       "      <td>Ashington, England, United Kingdom</td>\n",
       "      <td>2024-01-20</td>\n",
       "      <td>None</td>\n",
       "      <td>Embedded Software Engineer\\n\\nUp to £44,000 + ...</td>\n",
       "      <td>None</td>\n",
       "    </tr>\n",
       "    <tr>\n",
       "      <th>11</th>\n",
       "      <td>https://uk.linkedin.com/jobs/view/principal-so...</td>\n",
       "      <td>3798136295</td>\n",
       "      <td>Principal Software Engineer</td>\n",
       "      <td>Expert Executive Recruiters (EER Global)</td>\n",
       "      <td>https://www.linkedin.com/company/expert-execut...</td>\n",
       "      <td>United Kingdom</td>\n",
       "      <td>2024-01-21</td>\n",
       "      <td>None</td>\n",
       "      <td>The company boasts an exhilarating approach to...</td>\n",
       "      <td>None</td>\n",
       "    </tr>\n",
       "    <tr>\n",
       "      <th>12</th>\n",
       "      <td>https://uk.linkedin.com/jobs/view/senior-softw...</td>\n",
       "      <td>3810090381</td>\n",
       "      <td>Senior Software Engineer</td>\n",
       "      <td>Erin Associates Ltd</td>\n",
       "      <td>https://uk.linkedin.com/company/erin-associate...</td>\n",
       "      <td>Chorley, England, United Kingdom</td>\n",
       "      <td>2024-01-20</td>\n",
       "      <td>None</td>\n",
       "      <td>Skills\\n\\nSenior Software Engineer – Chorley -...</td>\n",
       "      <td>None</td>\n",
       "    </tr>\n",
       "    <tr>\n",
       "      <th>13</th>\n",
       "      <td>https://uk.linkedin.com/jobs/view/senior-produ...</td>\n",
       "      <td>3784994326</td>\n",
       "      <td>Senior Product Engineer</td>\n",
       "      <td>Intercom</td>\n",
       "      <td>https://www.linkedin.com/company/intercom?trk=...</td>\n",
       "      <td>London, England, United Kingdom</td>\n",
       "      <td>2024-01-21</td>\n",
       "      <td>None</td>\n",
       "      <td>Intercom is an AI powered, automation-first cu...</td>\n",
       "      <td>None</td>\n",
       "    </tr>\n",
       "    <tr>\n",
       "      <th>14</th>\n",
       "      <td>https://uk.linkedin.com/jobs/view/software-eng...</td>\n",
       "      <td>3794405321</td>\n",
       "      <td>Software Engineer</td>\n",
       "      <td>ARCH EUROPE INSURANCE SERVICES LTD</td>\n",
       "      <td>https://www.linkedin.com/company/arch-europe-i...</td>\n",
       "      <td>Birmingham, England, United Kingdom</td>\n",
       "      <td>2024-01-21</td>\n",
       "      <td>None</td>\n",
       "      <td>With a company culture rooted in collaboration...</td>\n",
       "      <td>None</td>\n",
       "    </tr>\n",
       "    <tr>\n",
       "      <th>15</th>\n",
       "      <td>https://uk.linkedin.com/jobs/view/data-enginee...</td>\n",
       "      <td>3810471447</td>\n",
       "      <td>Data Engineer</td>\n",
       "      <td>Experis UK</td>\n",
       "      <td>https://uk.linkedin.com/company/experis-uk?trk...</td>\n",
       "      <td>Preston, England, United Kingdom</td>\n",
       "      <td>2024-01-21</td>\n",
       "      <td>None</td>\n",
       "      <td>Data Engineer Preston(Hybrid Working - 3 days ...</td>\n",
       "      <td>None</td>\n",
       "    </tr>\n",
       "    <tr>\n",
       "      <th>16</th>\n",
       "      <td>https://uk.linkedin.com/jobs/view/data-scienti...</td>\n",
       "      <td>3811138983</td>\n",
       "      <td>Data Scientist</td>\n",
       "      <td>Harnham</td>\n",
       "      <td>https://uk.linkedin.com/company/harnham?trk=pu...</td>\n",
       "      <td>City of London, England, United Kingdom</td>\n",
       "      <td>2024-01-20</td>\n",
       "      <td>None</td>\n",
       "      <td>To Apply for this Job Click Here\\n\\nDATA SCIEN...</td>\n",
       "      <td>None</td>\n",
       "    </tr>\n",
       "    <tr>\n",
       "      <th>17</th>\n",
       "      <td>https://uk.linkedin.com/jobs/view/data-scienti...</td>\n",
       "      <td>3811139823</td>\n",
       "      <td>Data Scientist</td>\n",
       "      <td>Harnham</td>\n",
       "      <td>https://uk.linkedin.com/company/harnham?trk=pu...</td>\n",
       "      <td>City of London, England, United Kingdom</td>\n",
       "      <td>2024-01-20</td>\n",
       "      <td>None</td>\n",
       "      <td>To Apply for this Job Click Here\\n\\nDATA SCIEN...</td>\n",
       "      <td>None</td>\n",
       "    </tr>\n",
       "    <tr>\n",
       "      <th>18</th>\n",
       "      <td>https://uk.linkedin.com/jobs/view/google-cloud...</td>\n",
       "      <td>3811312159</td>\n",
       "      <td>Google Cloud Platform Data Engineer</td>\n",
       "      <td>CloudMR</td>\n",
       "      <td>https://uk.linkedin.com/company/cloudmr?trk=pu...</td>\n",
       "      <td>Leeds, England, United Kingdom</td>\n",
       "      <td>2024-01-21</td>\n",
       "      <td>None</td>\n",
       "      <td>I am looking for a GCP Data Engineer to join a...</td>\n",
       "      <td>None</td>\n",
       "    </tr>\n",
       "    <tr>\n",
       "      <th>19</th>\n",
       "      <td>https://uk.linkedin.com/jobs/view/lead-data-en...</td>\n",
       "      <td>3810977987</td>\n",
       "      <td>Lead Data Engineer : Fully Remote</td>\n",
       "      <td>TipTopJob</td>\n",
       "      <td>https://uk.linkedin.com/company/tiptopjob?trk=...</td>\n",
       "      <td>United Kingdom</td>\n",
       "      <td>2024-01-20</td>\n",
       "      <td>None</td>\n",
       "      <td>Lead Data Engineer : Exiting Spatial Intellige...</td>\n",
       "      <td>None</td>\n",
       "    </tr>\n",
       "    <tr>\n",
       "      <th>20</th>\n",
       "      <td>https://uk.linkedin.com/jobs/view/data-enginee...</td>\n",
       "      <td>3811182041</td>\n",
       "      <td>Data Engineer</td>\n",
       "      <td>Maxwell Bond®</td>\n",
       "      <td>https://uk.linkedin.com/company/maxwell-bond?t...</td>\n",
       "      <td>Manchester city centre, England, United Kingdom</td>\n",
       "      <td>2024-01-21</td>\n",
       "      <td>None</td>\n",
       "      <td>Data Engineer\\n\\nHybrid/Remote Option - Manche...</td>\n",
       "      <td>None</td>\n",
       "    </tr>\n",
       "    <tr>\n",
       "      <th>21</th>\n",
       "      <td>https://uk.linkedin.com/jobs/view/data-scienti...</td>\n",
       "      <td>3811144124</td>\n",
       "      <td>Data Scientist</td>\n",
       "      <td>Harnham</td>\n",
       "      <td>https://uk.linkedin.com/company/harnham?trk=pu...</td>\n",
       "      <td>City of London, England, United Kingdom</td>\n",
       "      <td>2024-01-20</td>\n",
       "      <td>None</td>\n",
       "      <td>To Apply for this Job Click Here\\n\\nDATA SCIEN...</td>\n",
       "      <td>None</td>\n",
       "    </tr>\n",
       "    <tr>\n",
       "      <th>22</th>\n",
       "      <td>https://uk.linkedin.com/jobs/view/embedded-sof...</td>\n",
       "      <td>3811100284</td>\n",
       "      <td>Embedded Software Engineer (Grads considered)</td>\n",
       "      <td>Shorterm Group</td>\n",
       "      <td>None</td>\n",
       "      <td>Sutton-in-Ashfield, England, United Kingdom</td>\n",
       "      <td>2024-01-20</td>\n",
       "      <td>None</td>\n",
       "      <td>JOB TITLE: Embedded Software Design Engineer\\n...</td>\n",
       "      <td>None</td>\n",
       "    </tr>\n",
       "    <tr>\n",
       "      <th>23</th>\n",
       "      <td>https://uk.linkedin.com/jobs/view/senior-softw...</td>\n",
       "      <td>3811122154</td>\n",
       "      <td>Senior Software Engineer</td>\n",
       "      <td>DiverseJobsMatter</td>\n",
       "      <td>https://uk.linkedin.com/company/diversejobsmat...</td>\n",
       "      <td>Cambridge, England, United Kingdom</td>\n",
       "      <td>2024-01-20</td>\n",
       "      <td>None</td>\n",
       "      <td>JOB DESCRIPTION\\n\\nROLE OVERVIEW:\\n\\nOur Centr...</td>\n",
       "      <td>None</td>\n",
       "    </tr>\n",
       "    <tr>\n",
       "      <th>24</th>\n",
       "      <td>https://uk.linkedin.com/jobs/view/data-scienti...</td>\n",
       "      <td>3811140778</td>\n",
       "      <td>Data Scientist</td>\n",
       "      <td>Harnham</td>\n",
       "      <td>https://uk.linkedin.com/company/harnham?trk=pu...</td>\n",
       "      <td>City of London, England, United Kingdom</td>\n",
       "      <td>2024-01-20</td>\n",
       "      <td>None</td>\n",
       "      <td>To Apply for this Job Click Here\\n\\nDATA SCIEN...</td>\n",
       "      <td>None</td>\n",
       "    </tr>\n",
       "  </tbody>\n",
       "</table>\n",
       "</div>"
      ],
      "text/plain": [
       "                                         linkedin_url linkedin_id   \n",
       "0   https://uk.linkedin.com/jobs/view/data-scienti...  3810089593  \\\n",
       "1   https://uk.linkedin.com/jobs/view/data-scienti...  3810455270   \n",
       "2   https://uk.linkedin.com/jobs/view/junior-softw...  3811111258   \n",
       "3   https://uk.linkedin.com/jobs/view/robotics-sof...  3748931223   \n",
       "4   https://uk.linkedin.com/jobs/view/devops-machi...  3811101178   \n",
       "5   https://uk.linkedin.com/jobs/view/senior-data-...  3809526269   \n",
       "6   https://uk.linkedin.com/jobs/view/software-eng...  3759765441   \n",
       "7   https://uk.linkedin.com/jobs/view/data-enginee...  3810085879   \n",
       "8   https://uk.linkedin.com/jobs/view/product-engi...  3802143404   \n",
       "9   https://uk.linkedin.com/jobs/view/lead-sre-sof...  3810709931   \n",
       "10  https://uk.linkedin.com/jobs/view/software-eng...  3810996855   \n",
       "11  https://uk.linkedin.com/jobs/view/principal-so...  3798136295   \n",
       "12  https://uk.linkedin.com/jobs/view/senior-softw...  3810090381   \n",
       "13  https://uk.linkedin.com/jobs/view/senior-produ...  3784994326   \n",
       "14  https://uk.linkedin.com/jobs/view/software-eng...  3794405321   \n",
       "15  https://uk.linkedin.com/jobs/view/data-enginee...  3810471447   \n",
       "16  https://uk.linkedin.com/jobs/view/data-scienti...  3811138983   \n",
       "17  https://uk.linkedin.com/jobs/view/data-scienti...  3811139823   \n",
       "18  https://uk.linkedin.com/jobs/view/google-cloud...  3811312159   \n",
       "19  https://uk.linkedin.com/jobs/view/lead-data-en...  3810977987   \n",
       "20  https://uk.linkedin.com/jobs/view/data-enginee...  3811182041   \n",
       "21  https://uk.linkedin.com/jobs/view/data-scienti...  3811144124   \n",
       "22  https://uk.linkedin.com/jobs/view/embedded-sof...  3811100284   \n",
       "23  https://uk.linkedin.com/jobs/view/senior-softw...  3811122154   \n",
       "24  https://uk.linkedin.com/jobs/view/data-scienti...  3811140778   \n",
       "\n",
       "                                            job_title   \n",
       "0                          Data Scientist (Marketing)  \\\n",
       "1                          Data Scientist - VIE (H/F)   \n",
       "2                            Junior Software Engineer   \n",
       "3                       Robotics Software Engineer II   \n",
       "4              DevOps / Machine Learning Ops Engineer   \n",
       "5             Senior Data Scientist (Battery Science)   \n",
       "6                                   Software Engineer   \n",
       "7                                       Data Engineer   \n",
       "8                                    Product Engineer   \n",
       "9   Lead SRE/Software Engineer - Up to £180k + Bon...   \n",
       "10                                  Software Engineer   \n",
       "11                        Principal Software Engineer   \n",
       "12                           Senior Software Engineer   \n",
       "13                            Senior Product Engineer   \n",
       "14                                  Software Engineer   \n",
       "15                                      Data Engineer   \n",
       "16                                     Data Scientist   \n",
       "17                                     Data Scientist   \n",
       "18                Google Cloud Platform Data Engineer   \n",
       "19                  Lead Data Engineer : Fully Remote   \n",
       "20                                      Data Engineer   \n",
       "21                                     Data Scientist   \n",
       "22      Embedded Software Engineer (Grads considered)   \n",
       "23                           Senior Software Engineer   \n",
       "24                                     Data Scientist   \n",
       "\n",
       "                                     company   \n",
       "0                                   Sagacity  \\\n",
       "1                             Energy Jobline   \n",
       "2        Siemens Digital Industries Software   \n",
       "3                          Hyster-Yale Group   \n",
       "4                                Vivo Talent   \n",
       "5                                    Harnham   \n",
       "6                     Aurora Energy Research   \n",
       "7                        Redde Northgate plc   \n",
       "8                                   Intercom   \n",
       "9                                Hunter Bond   \n",
       "10                              Verto People   \n",
       "11  Expert Executive Recruiters (EER Global)   \n",
       "12                       Erin Associates Ltd   \n",
       "13                                  Intercom   \n",
       "14        ARCH EUROPE INSURANCE SERVICES LTD   \n",
       "15                                Experis UK   \n",
       "16                                   Harnham   \n",
       "17                                   Harnham   \n",
       "18                                   CloudMR   \n",
       "19                                 TipTopJob   \n",
       "20                             Maxwell Bond®   \n",
       "21                                   Harnham   \n",
       "22                            Shorterm Group   \n",
       "23                         DiverseJobsMatter   \n",
       "24                                   Harnham   \n",
       "\n",
       "                                 company_linkedin_url   \n",
       "0   https://uk.linkedin.com/company/sagacity-solut...  \\\n",
       "1   https://uk.linkedin.com/company/energy-jobline...   \n",
       "2   https://www.linkedin.com/company/siemenssoftwa...   \n",
       "3   https://www.linkedin.com/company/hyster-yale-g...   \n",
       "4                                                None   \n",
       "5   https://uk.linkedin.com/company/harnham?trk=pu...   \n",
       "6   https://uk.linkedin.com/company/aurora-energy-...   \n",
       "7   https://uk.linkedin.com/company/reddenorthgate...   \n",
       "8   https://www.linkedin.com/company/intercom?trk=...   \n",
       "9   https://uk.linkedin.com/company/hunter-bond?tr...   \n",
       "10  https://uk.linkedin.com/company/vertopeople?tr...   \n",
       "11  https://www.linkedin.com/company/expert-execut...   \n",
       "12  https://uk.linkedin.com/company/erin-associate...   \n",
       "13  https://www.linkedin.com/company/intercom?trk=...   \n",
       "14  https://www.linkedin.com/company/arch-europe-i...   \n",
       "15  https://uk.linkedin.com/company/experis-uk?trk...   \n",
       "16  https://uk.linkedin.com/company/harnham?trk=pu...   \n",
       "17  https://uk.linkedin.com/company/harnham?trk=pu...   \n",
       "18  https://uk.linkedin.com/company/cloudmr?trk=pu...   \n",
       "19  https://uk.linkedin.com/company/tiptopjob?trk=...   \n",
       "20  https://uk.linkedin.com/company/maxwell-bond?t...   \n",
       "21  https://uk.linkedin.com/company/harnham?trk=pu...   \n",
       "22                                               None   \n",
       "23  https://uk.linkedin.com/company/diversejobsmat...   \n",
       "24  https://uk.linkedin.com/company/harnham?trk=pu...   \n",
       "\n",
       "                                           location posted_date   \n",
       "0                   London, England, United Kingdom  2024-01-20  \\\n",
       "1                   London, England, United Kingdom  2024-01-21   \n",
       "2                Cambridge, England, United Kingdom  2024-01-20   \n",
       "3                  Frimley, England, United Kingdom  2024-01-21   \n",
       "4                  Bristol, England, United Kingdom  2024-01-20   \n",
       "5                   London, England, United Kingdom  2024-01-21   \n",
       "6                   Oxford, England, United Kingdom  2024-01-21   \n",
       "7               Darlington, England, United Kingdom  2024-01-20   \n",
       "8                   London, England, United Kingdom  2024-01-21   \n",
       "9                   London, England, United Kingdom  2024-01-21   \n",
       "10               Ashington, England, United Kingdom  2024-01-20   \n",
       "11                                   United Kingdom  2024-01-21   \n",
       "12                 Chorley, England, United Kingdom  2024-01-20   \n",
       "13                  London, England, United Kingdom  2024-01-21   \n",
       "14              Birmingham, England, United Kingdom  2024-01-21   \n",
       "15                 Preston, England, United Kingdom  2024-01-21   \n",
       "16          City of London, England, United Kingdom  2024-01-20   \n",
       "17          City of London, England, United Kingdom  2024-01-20   \n",
       "18                   Leeds, England, United Kingdom  2024-01-21   \n",
       "19                                   United Kingdom  2024-01-20   \n",
       "20  Manchester city centre, England, United Kingdom  2024-01-21   \n",
       "21          City of London, England, United Kingdom  2024-01-20   \n",
       "22      Sutton-in-Ashfield, England, United Kingdom  2024-01-20   \n",
       "23               Cambridge, England, United Kingdom  2024-01-20   \n",
       "24          City of London, England, United Kingdom  2024-01-20   \n",
       "\n",
       "   applicant_count                                    job_description benefits  \n",
       "0             None  As part of the Analytics Team, you will work c...     None  \n",
       "1             None  About US (GEMS)\\n\\nENGIE Global Energy Managem...     None  \n",
       "2             None  Job Family: Research & Development\\n\\nReq ID: ...     None  \n",
       "3             None  Job Title\\n\\nRobotics Software Engineer II\\n\\n...     None  \n",
       "4             None  We have a fantastic opportunity for a DevOps /...     None  \n",
       "5             None  Senior Data Scientist (Battery Science)\\nUp to...     None  \n",
       "6             None  Department: Tech - Software Development\\nEmplo...     None  \n",
       "7             None  Location: Home BasedSalary: £40,000 to £48,000...     None  \n",
       "8             None  Intercom is an AI powered, automation-first cu...     None  \n",
       "9             None  Job Title: Lead SRE/Software Engineer\\nClient:...     None  \n",
       "10            None  Embedded Software Engineer\\n\\nUp to £44,000 + ...     None  \n",
       "11            None  The company boasts an exhilarating approach to...     None  \n",
       "12            None  Skills\\n\\nSenior Software Engineer – Chorley -...     None  \n",
       "13            None  Intercom is an AI powered, automation-first cu...     None  \n",
       "14            None  With a company culture rooted in collaboration...     None  \n",
       "15            None  Data Engineer Preston(Hybrid Working - 3 days ...     None  \n",
       "16            None  To Apply for this Job Click Here\\n\\nDATA SCIEN...     None  \n",
       "17            None  To Apply for this Job Click Here\\n\\nDATA SCIEN...     None  \n",
       "18            None  I am looking for a GCP Data Engineer to join a...     None  \n",
       "19            None  Lead Data Engineer : Exiting Spatial Intellige...     None  \n",
       "20            None  Data Engineer\\n\\nHybrid/Remote Option - Manche...     None  \n",
       "21            None  To Apply for this Job Click Here\\n\\nDATA SCIEN...     None  \n",
       "22            None  JOB TITLE: Embedded Software Design Engineer\\n...     None  \n",
       "23            None  JOB DESCRIPTION\\n\\nROLE OVERVIEW:\\n\\nOur Centr...     None  \n",
       "24            None  To Apply for this Job Click Here\\n\\nDATA SCIEN...     None  "
      ]
     },
     "execution_count": 277,
     "metadata": {},
     "output_type": "execute_result"
    }
   ],
   "source": [
    "import pandas as pd\n",
    "\n",
    "df = pd.concat([pd.DataFrame(job.to_dict(), index=[0]) for job in jobs]).reset_index(drop=True)\n",
    "df"
   ]
  },
  {
   "cell_type": "code",
   "execution_count": 278,
   "id": "79364a39",
   "metadata": {},
   "outputs": [
    {
     "data": {
      "text/plain": [
       "0     2924\n",
       "1     4783\n",
       "2     4134\n",
       "3     1500\n",
       "4     1440\n",
       "5     2561\n",
       "6     3150\n",
       "7     3393\n",
       "8     5300\n",
       "9     1009\n",
       "10    1402\n",
       "11    2730\n",
       "12    1878\n",
       "13    5121\n",
       "14     950\n",
       "15    1512\n",
       "16    1576\n",
       "17    1456\n",
       "18    1343\n",
       "19    1810\n",
       "20    1280\n",
       "21    1576\n",
       "22    2045\n",
       "23    1938\n",
       "24    1218\n",
       "Name: job_description, dtype: int64"
      ]
     },
     "execution_count": 278,
     "metadata": {},
     "output_type": "execute_result"
    }
   ],
   "source": [
    "df.job_description.apply(lambda x: len(x))"
   ]
  },
  {
   "cell_type": "code",
   "execution_count": 181,
   "id": "c6b77f5a",
   "metadata": {},
   "outputs": [
    {
     "data": {
      "text/plain": [
       "<Job Assistant Data Analyst (H/F) Groupe TF1>"
      ]
     },
     "execution_count": 181,
     "metadata": {},
     "output_type": "execute_result"
    }
   ],
   "source": [
    "scrape_job_card_wo_login(area)"
   ]
  },
  {
   "cell_type": "markdown",
   "id": "fc3497bc",
   "metadata": {},
   "source": [
    "#### Job Card"
   ]
  },
  {
   "cell_type": "code",
   "execution_count": 67,
   "id": "b4d18649",
   "metadata": {},
   "outputs": [],
   "source": [
    "driver.get('https://ru.linkedin.com/jobs/view/data-scientist-at-wildberries-3811119116?refId=aKyrA%2FqYVL9T9L2TMAZGMw%3D%3D&trackingId=ncWjAW3OwX7%2BNOGp6K3eEA%3D%3D&position=1&pageNum=0&trk=public_jobs_jserp-result_search-card')"
   ]
  },
  {
   "cell_type": "code",
   "execution_count": 68,
   "id": "42b615a9",
   "metadata": {},
   "outputs": [],
   "source": [
    "job_description_elem = driver.find_element(By.CLASS_NAME, \"description__text\")"
   ]
  },
  {
   "cell_type": "code",
   "execution_count": 70,
   "id": "de743c64",
   "metadata": {},
   "outputs": [],
   "source": [
    "job_description_elem.find_element(By.TAG_NAME, \"button\").click()"
   ]
  },
  {
   "cell_type": "code",
   "execution_count": 71,
   "id": "291e9034",
   "metadata": {},
   "outputs": [
    {
     "data": {
      "text/plain": [
       "'Wildberries - это более чем 9 млн заказов и 1 млрд поисковых запросов в сутки.\\n\\nМы ищем Senior Data Scientist в команду “Цены и Скидки“ Wildberries. Наша команда управляет ценообразованием, индексом цен, различными промо-механиками и самим процессом промопланирования на маркетлпейсе. \\n\\nПредстоит заниматься :\\n\\n- Прогнозированием спроса на многомиллионный ассортимент Wildberries для автоматизации процесса закупки и поставки товаров на наши склады\\n- Оценкой и прогнозированием эффективности проводимых на Wildberries промо-акций\\n- Построением системы рекомендаций для наших продавцов - помощь в определении оптимальной цены и участия в промо-акциях\\n\\nТребования:\\n\\n- Структурное и системное мышление - умение внятно излагать свои мысли\\n- Подтвержденный бизнес результат внедрения разработанных ML алгоритмов\\n- Умение применять на практике алгоритмы классического ML, методов оптимизации и временных рядов\\n- Хорошее знание алгоритмов и структур данных\\n- Уверенное владение классическим ML-стеком: Pandas, Polars, SKLearn, Numpy, Scipy, XGBoost/LightGBM/Catboost\\n\\nБудет преимуществом:\\n\\n- Опыт работы в электронной коммерции / ритейле / маркетплейсах.\\n- Опыт использования MLOPS инструментов для построения воспроизводимых ML-пайплайнов\\n- Опыт в построении inference для разработанных моделей/алгоритмов - проектировать, разрабатывать и разворачивать собственные сервисы\\n\\nМы предлагаем:\\n\\n- Оформление по ТК, ГПХ, ИП\\n- Гибридный формат работы: от офиса в Москве (с бесплатными завтраками, обедами и ужинами) до удаленки из любой точки мира\\n- Гибкое начало рабочего дня\\n- Возможность увидеть однозначные результаты работы, напрямую влияющие на бизнес с триллионами GMV\\n- Возможность брать 3 day-off в любой день\\n- Необходимое мощное железо и ПО\\n- Ежегодная 40%-ая скидка на покупку ноутбука или мобильного телефона\\n- Премии и бонусы по итогам работы\\n- Карьерный и профессиональный рост\\n\\nНаш стек:\\n\\n- Ведем разработку на Python, Go; используем k8s, Docker, Airflow, FastAPI, PyTorch, Tensorflow, ONNX\\n- Используем MLOps инструменты такие как MLFlow и ClearML, DVC\\n- Забираем данные из Postgres, Hadoop, Trino, Clickhouse\\n- BI и мониторинги: Prometeus, Grafana, Redash\\nСвернуть'"
      ]
     },
     "execution_count": 71,
     "metadata": {},
     "output_type": "execute_result"
    }
   ],
   "source": [
    "job_description_elem.text"
   ]
  },
  {
   "cell_type": "code",
   "execution_count": 63,
   "id": "59ccb1b3",
   "metadata": {},
   "outputs": [],
   "source": [
    "job_description_elem.find_element(By.TAG_NAME, \"button\").click()"
   ]
  },
  {
   "cell_type": "code",
   "execution_count": null,
   "id": "0e2957af",
   "metadata": {},
   "outputs": [],
   "source": [
    "job_description_elem = driver.find_element(By.CLASS_NAME, \"description__text\")\n",
    "\n",
    "self.mouse_click(job_description_elem.find_element(By.TAG_NAME, \"button\"))\n",
    "job_description_elem = self.wait_for_element_to_load(name=\"jobs-description\")\n",
    "job_description_elem.find_element(By.TAG_NAME, \"button\").click()\n",
    "self.job_description = job_description_elem.find_element(By.ID, \"job-details\").text.strip()\n"
   ]
  },
  {
   "cell_type": "code",
   "execution_count": null,
   "id": "980909a2",
   "metadata": {},
   "outputs": [],
   "source": [
    "def scrape_job_card(base_element) -> Job:\n",
    "    job_div = base_element.find_element(By.CLASS_NAME, \"job-card-list__title\")\n",
    "    job_title = job_div.text.strip()\n",
    "    linkedin_url = job_div.get_attribute(\"href\")\n",
    "\n",
    "    linkedin_id = re.findall(r'jobs/view/\\d{8,12}/', linkedin_url)\n",
    "    if linkedin_id:\n",
    "        linkedin_id = linkedin_id[0].split('/')[-2]\n",
    "\n",
    "    company = base_element.find_element(By.CLASS_NAME, \"job-card-container__primary-description\").text\n",
    "    location = base_element.find_element(By.CLASS_NAME, \"job-card-container__metadata-item\").text\n",
    "    job = Job(linkedin_url=linkedin_url, linkedin_id = linkedin_id, job_title=job_title, company=company, location=location, scrape=False, driver=driver)\n",
    "    return job"
   ]
  }
 ],
 "metadata": {
  "kernelspec": {
   "display_name": "Python 3 (ipykernel)",
   "language": "python",
   "name": "python3"
  },
  "language_info": {
   "codemirror_mode": {
    "name": "ipython",
    "version": 3
   },
   "file_extension": ".py",
   "mimetype": "text/x-python",
   "name": "python",
   "nbconvert_exporter": "python",
   "pygments_lexer": "ipython3",
   "version": "3.10.10"
  }
 },
 "nbformat": 4,
 "nbformat_minor": 5
}
