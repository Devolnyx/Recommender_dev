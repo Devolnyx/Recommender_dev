{
 "cells": [
  {
   "cell_type": "code",
   "execution_count": 1,
   "id": "59840545",
   "metadata": {},
   "outputs": [],
   "source": [
    "#!pip install seleniumbase"
   ]
  },
  {
   "cell_type": "markdown",
   "id": "7d8db8d9",
   "metadata": {},
   "source": [
    "## GlassDoor"
   ]
  },
  {
   "cell_type": "code",
   "execution_count": 2,
   "id": "02474b0a",
   "metadata": {},
   "outputs": [
    {
     "name": "stdout",
     "output_type": "stream",
     "text": [
      "\n",
      "Warning: uc_driver not found. Getting it now:\n",
      "\n",
      "*** chromedriver to download = 120.0.6099.109 (Latest Stable) \n",
      "\n",
      "Downloading chromedriver-win64.zip from:\n",
      "https://edgedl.me.gvt1.com/edgedl/chrome/chrome-for-testing/120.0.6099.109/win64/chromedriver-win64.zip ...\n"
     ]
    }
   ],
   "source": [
    "from seleniumbase import Driver\n",
    "from selenium.webdriver.support import expected_conditions as EC\n",
    "from selenium.webdriver.common.by import By\n",
    "from selenium.webdriver.support.ui import WebDriverWait\n",
    "import time\n",
    "\n",
    "driver = Driver(uc=True)\n",
    "#driver.get(\"https://www.indeed.com/viewjob?jk=3c876f8aea475dc4&tk=1hjf22ji9j3tr800\")\n",
    "driver.get(\"https://www.glassdoor.com/Job/data-engineer-jobs-SRCH_KO0,13.htm\")\n",
    "time.sleep(6)\n",
    "#driver.quit()"
   ]
  },
  {
   "cell_type": "code",
   "execution_count": 5,
   "id": "adb107a8",
   "metadata": {
    "scrolled": true
   },
   "outputs": [],
   "source": [
    "# Обход CloudFlare\n",
    "WebDriverWait(driver, 10).until(EC.frame_to_be_available_and_switch_to_it((By.CSS_SELECTOR,\"iframe[title='Виджет, содержащий вызов безопасности Cloudflare']\")))\n",
    "WebDriverWait(driver, 10).until(EC.element_to_be_clickable((By.CSS_SELECTOR, \"label.ctp-checkbox-label\"))).click()"
   ]
  },
  {
   "cell_type": "code",
   "execution_count": 6,
   "id": "4ad280d7",
   "metadata": {},
   "outputs": [],
   "source": [
    "driver.get(\"https://www.glassdoor.com/Job/data-engineer-jobs-SRCH_KO0,13.htm\")"
   ]
  },
  {
   "cell_type": "code",
   "execution_count": 9,
   "id": "4cc1aa3a",
   "metadata": {},
   "outputs": [
    {
     "data": {
      "text/plain": [
       "749886"
      ]
     },
     "execution_count": 9,
     "metadata": {},
     "output_type": "execute_result"
    }
   ],
   "source": [
    "content = driver.page_source\n",
    "len(content)"
   ]
  },
  {
   "cell_type": "code",
   "execution_count": 7,
   "id": "9eaa5de5",
   "metadata": {},
   "outputs": [],
   "source": [
    "driver.get(\"https://www.glassdoor.com/job-listing/senior-data-quality-integrity-engineer-humana-JV_KO0,38_KE39,45.htm?jl=1009058752046\")"
   ]
  },
  {
   "cell_type": "markdown",
   "id": "f304c6a8",
   "metadata": {},
   "source": [
    "## Indeed"
   ]
  },
  {
   "cell_type": "code",
   "execution_count": 8,
   "id": "adb98998",
   "metadata": {},
   "outputs": [
    {
     "name": "stdout",
     "output_type": "stream",
     "text": [
      "\n",
      "Warning: uc_driver not found. Getting it now:\n",
      "\n",
      "*** chromedriver to download = 120.0.6099.109 (Latest Stable) \n",
      "\n",
      "Downloading chromedriver-win64.zip from:\n",
      "https://edgedl.me.gvt1.com/edgedl/chrome/chrome-for-testing/120.0.6099.109/win64/chromedriver-win64.zip ...\n",
      "Download Complete!\n",
      "\n",
      "Extracting ['chromedriver.exe'] from chromedriver-win64.zip ...\n",
      "Unzip Complete!\n",
      "\n",
      "The file [uc_driver.exe] was saved to:\n",
      "C:\\Users\\Катюня\\PycharmProjects\\NLP_explore\\venv\\Lib\\site-packages\\seleniumbase\\drivers\\uc_driver.exe\n",
      "\n",
      "Making [uc_driver.exe 120.0.6099.109] executable ...\n",
      "[uc_driver.exe 120.0.6099.109] is now ready for use!\n",
      "\n"
     ]
    }
   ],
   "source": [
    "from seleniumbase import Driver\n",
    "import time\n",
    "\n",
    "driver = Driver(uc=True)\n",
    "driver.get(\"https://www.indeed.com/viewjob?jk=3c876f8aea475dc4&tk=1hjf22ji9j3tr800\")\n",
    "\n",
    "time.sleep(6)\n",
    "#driver.quit()"
   ]
  },
  {
   "cell_type": "code",
   "execution_count": 13,
   "id": "02ccc3f2",
   "metadata": {
    "scrolled": true
   },
   "outputs": [],
   "source": [
    "# Обход CloudFlare\n",
    "WebDriverWait(driver, 10).until(EC.frame_to_be_available_and_switch_to_it((By.CSS_SELECTOR,\"iframe[title='Виджет, содержащий вызов безопасности Cloudflare']\")))\n",
    "WebDriverWait(driver, 10).until(EC.element_to_be_clickable((By.CSS_SELECTOR, \"label.ctp-checkbox-label\"))).click()"
   ]
  },
  {
   "cell_type": "code",
   "execution_count": 14,
   "id": "59884cc7",
   "metadata": {},
   "outputs": [],
   "source": [
    "#JOB DESCRIPTION\n",
    "driver.get(\"https://www.indeed.com/viewjob?jk=6761c1c67237b6d3&tk=1hjf7dctji6ms800\")\n",
    "\n",
    "div_element = driver.find_element(By.ID, \"jobDescriptionText\")\n",
    "# Get text of div element\n",
    "div_text = div_element.text"
   ]
  },
  {
   "cell_type": "code",
   "execution_count": 15,
   "id": "8fd834a3",
   "metadata": {},
   "outputs": [
    {
     "name": "stdout",
     "output_type": "stream",
     "text": [
      "About Amplify\n",
      "Amplify Partners, voted one of Washington’s 100 Best Places to Work 2019-2021, is a Pacific NW company focused on creating a new approach to consulting. We invest in our consultants through mentorship, advancement, and empowerment. We believe in complete transparency with our clients, even when transparency is hard. We bring our thought leadership to the table and execute with rigor to develop meaningful long-term partnerships with our clients.\n",
      "The Role\n",
      "Amplify is looking for a Dat\n"
     ]
    }
   ],
   "source": [
    "print(div_text[:500])"
   ]
  },
  {
   "cell_type": "code",
   "execution_count": 16,
   "id": "112a449d",
   "metadata": {},
   "outputs": [],
   "source": [
    "# Title\n",
    "title = driver.find_element(By.XPATH, '//*[@id=\"viewJobSSRRoot\"]/div/div[2]/div/div/div[1]/div[2]/div[1]/div[1]/h1/span') \n",
    "title = title.text"
   ]
  },
  {
   "cell_type": "code",
   "execution_count": 17,
   "id": "7c108e9f",
   "metadata": {},
   "outputs": [
    {
     "name": "stdout",
     "output_type": "stream",
     "text": [
      "Data Engineer (409)\n"
     ]
    }
   ],
   "source": [
    "print(title)"
   ]
  },
  {
   "cell_type": "code",
   "execution_count": 18,
   "id": "1ac9e1b2",
   "metadata": {},
   "outputs": [
    {
     "name": "stdout",
     "output_type": "stream",
     "text": [
      "Amplify Consulting Partners\n"
     ]
    }
   ],
   "source": [
    "#company_name\n",
    "company_name = driver.find_element(By.CSS_SELECTOR, \"div[data-company-name='true']\")\n",
    "company_name = company_name.find_element(By.XPATH, 'span').text\n",
    "print(company_name)"
   ]
  },
  {
   "cell_type": "code",
   "execution_count": 19,
   "id": "2ea5be5f",
   "metadata": {},
   "outputs": [
    {
     "name": "stdout",
     "output_type": "stream",
     "text": [
      "United States\n"
     ]
    }
   ],
   "source": [
    "#company_location\n",
    "company_location = driver.find_element(By.CSS_SELECTOR, \"div[data-testid='inlineHeader-companyLocation']\")\n",
    "company_location = company_location.find_element(By.XPATH, 'div').text\n",
    "print(company_location)"
   ]
  },
  {
   "cell_type": "code",
   "execution_count": 20,
   "id": "df075905",
   "metadata": {},
   "outputs": [
    {
     "name": "stdout",
     "output_type": "stream",
     "text": [
      "$100,000 - $115,000 a year\n",
      "- Full-time\n"
     ]
    }
   ],
   "source": [
    "#salary and job info\n",
    "job_info = driver.find_element(By.XPATH, '//*[@id=\"salaryInfoAndJobType\"]')\n",
    "\n",
    "job_info = job_info.find_elements(By.XPATH, r'span')\n",
    "for info in job_info:\n",
    "    print(info.text)"
   ]
  },
  {
   "cell_type": "code",
   "execution_count": 19,
   "id": "53498d20",
   "metadata": {
    "scrolled": true
   },
   "outputs": [],
   "source": [
    "#Payment\n",
    "payment = driver.find_element(By.XPATH, '//*[@id=\"jobDetailsSection\"]/div[2]/div[2]/span/div/div/div')\n",
    "payment = payment.text"
   ]
  },
  {
   "cell_type": "code",
   "execution_count": 20,
   "id": "b30e5d0f",
   "metadata": {},
   "outputs": [
    {
     "name": "stdout",
     "output_type": "stream",
     "text": [
      "$100,000 - $115,000 a year\n"
     ]
    }
   ],
   "source": [
    "print(payment)"
   ]
  },
  {
   "cell_type": "code",
   "execution_count": 21,
   "id": "3cc58da0",
   "metadata": {},
   "outputs": [],
   "source": [
    "#job_type = driver.find_element(By.XPATH, '//*[@id=\"jobDetailsSection\"]/div[3]/div[2]/div/div/div/div')\n",
    "job_type = driver.find_elements(By.XPATH, '//*[@id=\"salaryInfoAndJobType\"]/span')\n",
    "job_type = job_type[1].text"
   ]
  },
  {
   "cell_type": "code",
   "execution_count": 22,
   "id": "8b42ef33",
   "metadata": {},
   "outputs": [
    {
     "name": "stdout",
     "output_type": "stream",
     "text": [
      "- Full-time\n"
     ]
    }
   ],
   "source": [
    "print(job_type)"
   ]
  },
  {
   "cell_type": "code",
   "execution_count": 21,
   "id": "fa8ecc14",
   "metadata": {},
   "outputs": [],
   "source": [
    "# Поиск по ключевым словам\n",
    "#q=sales+manager - запрос \"sales manager\"\n",
    "#l=Remote - локацция\n",
    "#fromage=1 - за последние сутки\n",
    "\n",
    "driver.get(\"https://www.indeed.com/jobs?q=data+scientist&l=Remote&radius=15&fromage=1\")"
   ]
  },
  {
   "cell_type": "code",
   "execution_count": 23,
   "id": "7bb49da1",
   "metadata": {},
   "outputs": [],
   "source": [
    "# TRYING TO EXTRACT SKILLS\n",
    "try:\n",
    "    button = driver.find_element(By.XPATH, r'//*[@id=\"js-match-insights-provider\"]/div/div/div[2]/div[2]/div/button')\n",
    "    button.click()\n",
    "\n",
    "    fe = driver.find_element(By.XPATH, r'//*[@id=\"js-match-insights-provider\"]')\n",
    "except:\n",
    "    pass"
   ]
  },
  {
   "cell_type": "code",
   "execution_count": 24,
   "id": "8e385fa1",
   "metadata": {},
   "outputs": [],
   "source": [
    "driver.quit()"
   ]
  },
  {
   "cell_type": "code",
   "execution_count": null,
   "id": "bb8d2f26",
   "metadata": {},
   "outputs": [],
   "source": []
  }
 ],
 "metadata": {
  "kernelspec": {
   "display_name": "Python 3 (ipykernel)",
   "language": "python",
   "name": "python3"
  },
  "language_info": {
   "codemirror_mode": {
    "name": "ipython",
    "version": 3
   },
   "file_extension": ".py",
   "mimetype": "text/x-python",
   "name": "python",
   "nbconvert_exporter": "python",
   "pygments_lexer": "ipython3",
   "version": "3.10.10"
  }
 },
 "nbformat": 4,
 "nbformat_minor": 5
}
